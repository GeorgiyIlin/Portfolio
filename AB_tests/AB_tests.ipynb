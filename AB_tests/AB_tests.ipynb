{
 "cells": [
  {
   "cell_type": "markdown",
   "metadata": {},
   "source": [
    "<font size=\"+3\">Принятие решений в бизнесе для интернет-магазина с использованием A/B теста</font>"
   ]
  },
  {
   "cell_type": "markdown",
   "metadata": {},
   "source": [
    "# Описание данных"
   ]
  },
  {
   "cell_type": "markdown",
   "metadata": {},
   "source": [
    "**Источники данных:**\n",
    "\n",
    "Структура `orders.csv`:\n",
    "- `transactionId` — идентификатор заказа,\n",
    "- `visitorId` — идентификатор пользователя, совершившего заказ,\n",
    "- `date` — дата, когда был совершён заказ,\n",
    "- `revenue` —  выручка заказа,\n",
    "- `group`— группа A/B-теста, в которую попал заказ.\n",
    "\n",
    "Структура `visitors.csv`:\n",
    "- `date` — дата,\n",
    "- `group` — группа A/B-теста,\n",
    "- `visitors` — количество пользователей в указанную дату в указанной группе A/B-теста."
   ]
  },
  {
   "cell_type": "markdown",
   "metadata": {},
   "source": [
    "# Описание задания"
   ]
  },
  {
   "cell_type": "markdown",
   "metadata": {
    "id": "AS1eCqCpWVwk"
   },
   "source": [
    "## Анализ A/B-теста\n",
    "\n",
    "Вы провели A/B-тест и получили результаты, которые описаны в файлах `orders.csv` и `visitors.csv`.\n",
    "\n",
    "**Задача**\n",
    "\n",
    "Проанализировать A/B-тест:\n",
    "\n",
    "1. Построить графики и визуализировать относительные изменения основных показателей по группам.\n",
    "2. Посчитать статистическую значимость различий между группами по «сырым» и «очищенным» данным. Сделать выводы и предположения.\n",
    "3. Принять решение по результатам теста и объяснить его. Варианты решений: 1. Остановить тест, зафиксировать победу одной из групп. 2. Остановить тест, зафиксировать отсутствие различий между группами. 3. Продолжить тест."
   ]
  },
  {
   "cell_type": "markdown",
   "metadata": {},
   "source": [
    "# Загрузка и предобработка данных "
   ]
  },
  {
   "cell_type": "markdown",
   "metadata": {},
   "source": [
    "## Загрузка таблиц и библиотек"
   ]
  },
  {
   "cell_type": "markdown",
   "metadata": {},
   "source": [
    "Загрузим необходимые библиотеки для работы с данными, и присвоим таблицы переменным функцией `read_csv`"
   ]
  },
  {
   "cell_type": "code",
   "execution_count": 1,
   "metadata": {},
   "outputs": [],
   "source": [
    "import pandas as pd \n",
    "import matplotlib.pyplot as plt\n",
    "import datetime as dt\n",
    "import numpy as np\n",
    "import seaborn as sns\n",
    "import scipy.stats as stats"
   ]
  },
  {
   "cell_type": "code",
   "execution_count": 2,
   "metadata": {
    "code_folding": []
   },
   "outputs": [],
   "source": [
    "orders = pd.read_csv('C:/Users/Georgii/Desktop/ANALYTICS/AB_DATA/orders.csv')\n",
    "visitors = pd.read_csv('C:/Users/Georgii/Desktop/ANALYTICS/AB_DATA/visitors.csv')"
   ]
  },
  {
   "cell_type": "code",
   "execution_count": 3,
   "metadata": {
    "code_folding": [],
    "scrolled": false
   },
   "outputs": [
    {
     "data": {
      "text/html": [
       "<div>\n",
       "<style scoped>\n",
       "    .dataframe tbody tr th:only-of-type {\n",
       "        vertical-align: middle;\n",
       "    }\n",
       "\n",
       "    .dataframe tbody tr th {\n",
       "        vertical-align: top;\n",
       "    }\n",
       "\n",
       "    .dataframe thead th {\n",
       "        text-align: right;\n",
       "    }\n",
       "</style>\n",
       "<table border=\"1\" class=\"dataframe\">\n",
       "  <thead>\n",
       "    <tr style=\"text-align: right;\">\n",
       "      <th></th>\n",
       "      <th>transactionId</th>\n",
       "      <th>visitorId</th>\n",
       "      <th>date</th>\n",
       "      <th>revenue</th>\n",
       "      <th>group</th>\n",
       "    </tr>\n",
       "  </thead>\n",
       "  <tbody>\n",
       "    <tr>\n",
       "      <th>0</th>\n",
       "      <td>3667963787</td>\n",
       "      <td>3312258926</td>\n",
       "      <td>2019-08-15</td>\n",
       "      <td>1650</td>\n",
       "      <td>B</td>\n",
       "    </tr>\n",
       "    <tr>\n",
       "      <th>1</th>\n",
       "      <td>2804400009</td>\n",
       "      <td>3642806036</td>\n",
       "      <td>2019-08-15</td>\n",
       "      <td>730</td>\n",
       "      <td>B</td>\n",
       "    </tr>\n",
       "    <tr>\n",
       "      <th>2</th>\n",
       "      <td>2961555356</td>\n",
       "      <td>4069496402</td>\n",
       "      <td>2019-08-15</td>\n",
       "      <td>400</td>\n",
       "      <td>A</td>\n",
       "    </tr>\n",
       "    <tr>\n",
       "      <th>3</th>\n",
       "      <td>3797467345</td>\n",
       "      <td>1196621759</td>\n",
       "      <td>2019-08-15</td>\n",
       "      <td>9759</td>\n",
       "      <td>B</td>\n",
       "    </tr>\n",
       "    <tr>\n",
       "      <th>4</th>\n",
       "      <td>2282983706</td>\n",
       "      <td>2322279887</td>\n",
       "      <td>2019-08-15</td>\n",
       "      <td>2308</td>\n",
       "      <td>B</td>\n",
       "    </tr>\n",
       "  </tbody>\n",
       "</table>\n",
       "</div>"
      ],
      "text/plain": [
       "   transactionId   visitorId        date  revenue group\n",
       "0     3667963787  3312258926  2019-08-15     1650     B\n",
       "1     2804400009  3642806036  2019-08-15      730     B\n",
       "2     2961555356  4069496402  2019-08-15      400     A\n",
       "3     3797467345  1196621759  2019-08-15     9759     B\n",
       "4     2282983706  2322279887  2019-08-15     2308     B"
      ]
     },
     "metadata": {},
     "output_type": "display_data"
    },
    {
     "data": {
      "text/html": [
       "<div>\n",
       "<style scoped>\n",
       "    .dataframe tbody tr th:only-of-type {\n",
       "        vertical-align: middle;\n",
       "    }\n",
       "\n",
       "    .dataframe tbody tr th {\n",
       "        vertical-align: top;\n",
       "    }\n",
       "\n",
       "    .dataframe thead th {\n",
       "        text-align: right;\n",
       "    }\n",
       "</style>\n",
       "<table border=\"1\" class=\"dataframe\">\n",
       "  <thead>\n",
       "    <tr style=\"text-align: right;\">\n",
       "      <th></th>\n",
       "      <th>date</th>\n",
       "      <th>group</th>\n",
       "      <th>visitors</th>\n",
       "    </tr>\n",
       "  </thead>\n",
       "  <tbody>\n",
       "    <tr>\n",
       "      <th>0</th>\n",
       "      <td>2019-08-01</td>\n",
       "      <td>A</td>\n",
       "      <td>719</td>\n",
       "    </tr>\n",
       "    <tr>\n",
       "      <th>1</th>\n",
       "      <td>2019-08-02</td>\n",
       "      <td>A</td>\n",
       "      <td>619</td>\n",
       "    </tr>\n",
       "    <tr>\n",
       "      <th>2</th>\n",
       "      <td>2019-08-03</td>\n",
       "      <td>A</td>\n",
       "      <td>507</td>\n",
       "    </tr>\n",
       "    <tr>\n",
       "      <th>3</th>\n",
       "      <td>2019-08-04</td>\n",
       "      <td>A</td>\n",
       "      <td>717</td>\n",
       "    </tr>\n",
       "    <tr>\n",
       "      <th>4</th>\n",
       "      <td>2019-08-05</td>\n",
       "      <td>A</td>\n",
       "      <td>756</td>\n",
       "    </tr>\n",
       "  </tbody>\n",
       "</table>\n",
       "</div>"
      ],
      "text/plain": [
       "         date group  visitors\n",
       "0  2019-08-01     A       719\n",
       "1  2019-08-02     A       619\n",
       "2  2019-08-03     A       507\n",
       "3  2019-08-04     A       717\n",
       "4  2019-08-05     A       756"
      ]
     },
     "metadata": {},
     "output_type": "display_data"
    }
   ],
   "source": [
    "all_data = [orders, visitors] # Датафреймы, по которым проходится цикл\n",
    "pd.options.display.max_colwidth = 110\n",
    "for element in all_data:\n",
    "    display (element.head())"
   ]
  },
  {
   "cell_type": "code",
   "execution_count": 4,
   "metadata": {
    "scrolled": true
   },
   "outputs": [
    {
     "name": "stdout",
     "output_type": "stream",
     "text": [
      "<class 'pandas.core.frame.DataFrame'>\n",
      "RangeIndex: 1197 entries, 0 to 1196\n",
      "Data columns (total 5 columns):\n",
      " #   Column         Non-Null Count  Dtype \n",
      "---  ------         --------------  ----- \n",
      " 0   transactionId  1197 non-null   int64 \n",
      " 1   visitorId      1197 non-null   int64 \n",
      " 2   date           1197 non-null   object\n",
      " 3   revenue        1197 non-null   int64 \n",
      " 4   group          1197 non-null   object\n",
      "dtypes: int64(3), object(2)\n",
      "memory usage: 46.9+ KB\n"
     ]
    },
    {
     "data": {
      "text/plain": [
       "None"
      ]
     },
     "metadata": {},
     "output_type": "display_data"
    },
    {
     "name": "stdout",
     "output_type": "stream",
     "text": [
      "<class 'pandas.core.frame.DataFrame'>\n",
      "RangeIndex: 62 entries, 0 to 61\n",
      "Data columns (total 3 columns):\n",
      " #   Column    Non-Null Count  Dtype \n",
      "---  ------    --------------  ----- \n",
      " 0   date      62 non-null     object\n",
      " 1   group     62 non-null     object\n",
      " 2   visitors  62 non-null     int64 \n",
      "dtypes: int64(1), object(2)\n",
      "memory usage: 1.6+ KB\n"
     ]
    },
    {
     "data": {
      "text/plain": [
       "None"
      ]
     },
     "metadata": {},
     "output_type": "display_data"
    }
   ],
   "source": [
    "for element in all_data:\n",
    "    display (element.info())"
   ]
  },
  {
   "cell_type": "markdown",
   "metadata": {},
   "source": [
    "***Вывод: Данные выглядят корректно. Необходимо выполнить их предобработку, привести определенные данные к нужному типу.***"
   ]
  },
  {
   "cell_type": "markdown",
   "metadata": {},
   "source": [
    "## Предобработка данных"
   ]
  },
  {
   "cell_type": "markdown",
   "metadata": {},
   "source": [
    "Проверим наличие пропусков в датафреймах, продолжая использовать список таблиц `all_data` для перебора таблиц в цикле."
   ]
  },
  {
   "cell_type": "code",
   "execution_count": 5,
   "metadata": {
    "scrolled": true
   },
   "outputs": [
    {
     "name": "stdout",
     "output_type": "stream",
     "text": [
      "transactionId    0\n",
      "visitorId        0\n",
      "date             0\n",
      "revenue          0\n",
      "group            0\n",
      "dtype: int64\n",
      "date        0\n",
      "group       0\n",
      "visitors    0\n",
      "dtype: int64\n"
     ]
    }
   ],
   "source": [
    "for element in all_data:\n",
    "    print (element.isna().sum())"
   ]
  },
  {
   "cell_type": "markdown",
   "metadata": {},
   "source": [
    "Теперь проверим наличие дубликатов."
   ]
  },
  {
   "cell_type": "code",
   "execution_count": 6,
   "metadata": {},
   "outputs": [
    {
     "name": "stdout",
     "output_type": "stream",
     "text": [
      "0\n",
      "0\n"
     ]
    }
   ],
   "source": [
    "for element in all_data:\n",
    "    print (element.duplicated().sum())"
   ]
  },
  {
   "cell_type": "markdown",
   "metadata": {},
   "source": [
    "Приведем названия столбцов к змеиному регистру."
   ]
  },
  {
   "cell_type": "code",
   "execution_count": 7,
   "metadata": {},
   "outputs": [],
   "source": [
    "orders.columns = ['transaction_id', 'visitor_id', 'date', 'revenue', 'group']"
   ]
  },
  {
   "cell_type": "markdown",
   "metadata": {},
   "source": [
    "Поменяем типы данных в столбцах `date`, чтобы иметь возможность проводить расчеты с датами."
   ]
  },
  {
   "cell_type": "code",
   "execution_count": 8,
   "metadata": {},
   "outputs": [],
   "source": [
    "orders['date'] = pd.to_datetime(orders['date'])\n",
    "visitors['date'] = pd.to_datetime(visitors['date'])"
   ]
  },
  {
   "cell_type": "markdown",
   "metadata": {},
   "source": [
    "***Вывод: Предобработка проведена. Изменены названия столбцов. Изменены типы данных в столбцах с датами.***"
   ]
  },
  {
   "cell_type": "markdown",
   "metadata": {},
   "source": [
    "# Анализ A/B-теста"
   ]
  },
  {
   "cell_type": "markdown",
   "metadata": {},
   "source": [
    "## Анализ кумулятивной выручки и среднего чека по группам"
   ]
  },
  {
   "cell_type": "markdown",
   "metadata": {},
   "source": [
    "В данном A/B тесте мы рассматриваем 2 группы наблюдаемых пользователей. Определим временные рамки теста и количество пользователей в каждой группе."
   ]
  },
  {
   "cell_type": "code",
   "execution_count": 9,
   "metadata": {},
   "outputs": [
    {
     "data": {
      "text/plain": [
       "Timestamp('2019-08-31 00:00:00')"
      ]
     },
     "metadata": {},
     "output_type": "display_data"
    },
    {
     "data": {
      "text/plain": [
       "Timestamp('2019-08-01 00:00:00')"
      ]
     },
     "metadata": {},
     "output_type": "display_data"
    }
   ],
   "source": [
    "display (orders.date.max())\n",
    "display (orders.date.min())"
   ]
  },
  {
   "cell_type": "code",
   "execution_count": 10,
   "metadata": {},
   "outputs": [
    {
     "data": {
      "text/plain": [
       "503"
      ]
     },
     "metadata": {},
     "output_type": "display_data"
    },
    {
     "data": {
      "text/plain": [
       "586"
      ]
     },
     "metadata": {},
     "output_type": "display_data"
    }
   ],
   "source": [
    "display (orders.query('group == \"A\"').visitor_id.nunique())\n",
    "display (orders.query('group == \"B\"').visitor_id.nunique())"
   ]
  },
  {
   "cell_type": "markdown",
   "metadata": {},
   "source": [
    "*Тест проводился с 2019-08-01 по 2019-08-31. Количество уникальных пользователей в сегменте A - 503 пользователей, в сегменте B - 586 пользователей. Группы кажутся относительно сбалансированными.*"
   ]
  },
  {
   "cell_type": "markdown",
   "metadata": {},
   "source": [
    "Построим графики кумулятивной выручки по тестовым группам A и B. Для этого разобьем заказы по группам."
   ]
  },
  {
   "cell_type": "code",
   "execution_count": 11,
   "metadata": {},
   "outputs": [],
   "source": [
    "orders_a = orders.query('group == \"A\"')\n",
    "orders_b = orders.query('group == \"B\"')"
   ]
  },
  {
   "cell_type": "markdown",
   "metadata": {},
   "source": [
    "Агрегируем выручку по дате и считаем накопленную выручку"
   ]
  },
  {
   "cell_type": "code",
   "execution_count": 12,
   "metadata": {},
   "outputs": [],
   "source": [
    "orders_a_revenue = orders_a.groupby('date', as_index=False)['revenue'].sum()\n",
    "orders_b_revenue = orders_b.groupby('date', as_index=False)['revenue'].sum()"
   ]
  },
  {
   "cell_type": "code",
   "execution_count": 13,
   "metadata": {
    "scrolled": true
   },
   "outputs": [],
   "source": [
    "orders_a_revenue = orders_a_revenue.apply(\n",
    "    lambda x: orders_a_revenue[orders_a_revenue['date'] <= x['date']]\n",
    "    .agg({'date':'max', 'revenue':'sum'}),\n",
    "    axis=1\n",
    ")\n",
    "\n",
    "orders_b_revenue = orders_b_revenue.apply(\n",
    "    lambda x: orders_b_revenue[orders_b_revenue['date'] <= x['date']]\n",
    "    .agg({'date':'max', 'revenue':'sum'}),\n",
    "    axis=1\n",
    ")"
   ]
  },
  {
   "cell_type": "markdown",
   "metadata": {},
   "source": [
    "Строим графики "
   ]
  },
  {
   "cell_type": "code",
   "execution_count": 14,
   "metadata": {},
   "outputs": [
    {
     "data": {
      "image/png": "[encoded data removed]",
      "text/plain": [
       "<Figure size 432x288 with 1 Axes>"
      ]
     },
     "metadata": {
      "needs_background": "light"
     },
     "output_type": "display_data"
    }
   ],
   "source": [
    "plt.ticklabel_format(style='plain')\n",
    "plt.plot(orders_a_revenue['date'], orders_a_revenue['revenue'], label='A')\n",
    "plt.plot(orders_b_revenue['date'], orders_b_revenue['revenue'], label='B')\n",
    "plt.xticks(rotation=45)\n",
    "plt.ylabel('Сумма Выручки')\n",
    "plt.title('Изменение кумулятивной выручки')\n",
    "plt.legend();"
   ]
  },
  {
   "cell_type": "markdown",
   "metadata": {},
   "source": [
    "*В районе 17 числа наблюдается резкий скачок у группы B, что делает суммарно сегмент B выгоднее чем сегмент A на данный момент исследования. Возможно играет свою роль какое-то выбивающееся значение.*"
   ]
  },
  {
   "cell_type": "markdown",
   "metadata": {},
   "source": [
    "Подготовим данные и построим графики кумулятивных значений среднего чека по тестовым группам A и B"
   ]
  },
  {
   "cell_type": "code",
   "execution_count": 15,
   "metadata": {},
   "outputs": [],
   "source": [
    "orders_a_cheque =  orders_a.groupby('date', as_index=False).agg({'transaction_id':'nunique'})\n",
    "orders_a_cheque = orders_a_cheque.apply(\n",
    "    lambda x: orders_a_cheque[orders_a_cheque['date'] <= x['date']]\n",
    "    .agg({'date':'max', 'transaction_id':'sum'}),\n",
    "    axis=1\n",
    ")\n",
    "\n",
    "orders_b_cheque =  orders_b.groupby('date', as_index=False).agg({'transaction_id':'nunique'})\n",
    "orders_b_cheque = orders_b_cheque.apply(\n",
    "    lambda x: orders_b_cheque[orders_b_cheque['date'] <= x['date']]\n",
    "    .agg({'date':'max', 'transaction_id':'sum'}),\n",
    "    axis=1\n",
    ")\n",
    "\n",
    "orders_a_cheque_avg = orders_a_revenue['revenue'] / orders_a_cheque['transaction_id']\n",
    "orders_b_cheque_avg = orders_b_revenue['revenue'] / orders_b_cheque['transaction_id']"
   ]
  },
  {
   "cell_type": "code",
   "execution_count": 16,
   "metadata": {
    "scrolled": true
   },
   "outputs": [
    {
     "data": {
      "image/png": "[encoded data removed]",
      "text/plain": [
       "<Figure size 432x288 with 1 Axes>"
      ]
     },
     "metadata": {
      "needs_background": "light"
     },
     "output_type": "display_data"
    }
   ],
   "source": [
    "plt.plot(orders_a_cheque['date'], orders_a_cheque_avg, label = 'A')\n",
    "plt.plot(orders_b_cheque['date'], orders_b_cheque_avg, label = 'B')\n",
    "plt.xticks(rotation=45)\n",
    "plt.ylabel('Сумма среднего чека')\n",
    "plt.title('Изменение кумулятивного среднего чека')\n",
    "plt.legend();"
   ]
  },
  {
   "cell_type": "markdown",
   "metadata": {},
   "source": [
    "*На данной визуализации видно, как до середины месяца показатели двух групп суммарно растут, с разной динамикой относительно друг друга, но в схожей степени в целом. Начиная с середины месяца, также как в случае с кумулятивной конверсией, наблюдается резкий рост сегмента B, а влияние одного дня становится еще очевиднее.*"
   ]
  },
  {
   "cell_type": "markdown",
   "metadata": {},
   "source": [
    "Построим графики относительного изменения кумулятивной выручки и кумулятивного среднего чека группы B к группе A."
   ]
  },
  {
   "cell_type": "code",
   "execution_count": 17,
   "metadata": {},
   "outputs": [
    {
     "data": {
      "image/png": "[encoded data removed]",
      "text/plain": [
       "<Figure size 432x288 with 1 Axes>"
      ]
     },
     "metadata": {
      "needs_background": "light"
     },
     "output_type": "display_data"
    }
   ],
   "source": [
    "plt.plot(orders_b_revenue['date'], (orders_b_revenue['revenue'] / orders_a_revenue['revenue']) - 1)\n",
    "plt.xticks(rotation=45)\n",
    "plt.ylabel('Отношение B/A')\n",
    "plt.title('Относительное изменение кумулятивной выручки B к A')\n",
    "plt.axhline(y=0, color='black', linestyle='--');"
   ]
  },
  {
   "cell_type": "code",
   "execution_count": 18,
   "metadata": {
    "scrolled": true
   },
   "outputs": [
    {
     "data": {
      "image/png": "[encoded data removed]",
      "text/plain": [
       "<Figure size 432x288 with 1 Axes>"
      ]
     },
     "metadata": {
      "needs_background": "light"
     },
     "output_type": "display_data"
    }
   ],
   "source": [
    "plt.plot(orders_a_cheque['date'], orders_b_cheque_avg / orders_a_cheque_avg - 1)\n",
    "plt.xticks(rotation=45)\n",
    "plt.ylabel('Отношение B/A')\n",
    "plt.title('Относительное изменение кумулятивного среднего чека B к A')\n",
    "plt.axhline(y=0, color='black', linestyle='--');"
   ]
  },
  {
   "cell_type": "markdown",
   "metadata": {},
   "source": [
    "*Как можно заметить по приведенным выше графикам относительного изменения кумулятивной выручки и кумулятивного среднего чека, пики и впадины изменения обоих показателей совпадают по течению времени. Сначала показатели сегмента B растут, в середине месяца наблюдается провал, и после этого резкий рост одного дня. В конечном итоге, по показателям теста в первом приближении, сегмент B превосходит сегмент A и по выручке, и по среднему чеку.*"
   ]
  },
  {
   "cell_type": "markdown",
   "metadata": {},
   "source": [
    "Для полноты исследования необходимо также посчитать и визуализировать тренд изменений в накопленном кол-ве заказов по дням.\n",
    "Построим график кумулятивной конверсии по сегментам, а также график относительного изменения конверсии между группами."
   ]
  },
  {
   "cell_type": "code",
   "execution_count": 19,
   "metadata": {},
   "outputs": [],
   "source": [
    "# считаем срез количества заказов по дням по сегментам\n",
    "avg_orders_a = orders_a.groupby('date', as_index=False).agg({'transaction_id':'count'})\n",
    "avg_orders_b = orders_b.groupby('date', as_index=False).agg({'transaction_id':'count'})\n",
    "\n",
    "# считаем кумулятивные значения количества заказов\n",
    "avg_orders_a_cumul = avg_orders_a.apply(\n",
    "    lambda x: avg_orders_a[avg_orders_a['date'] <= x['date']]\n",
    "    .agg({'date':'max', 'transaction_id':'sum'}),\n",
    "    axis=1\n",
    ")\n",
    "avg_orders_b_cumul = avg_orders_b.apply(\n",
    "    lambda x: avg_orders_b[avg_orders_b['date'] <= x['date']]\n",
    "    .agg({'date':'max', 'transaction_id':'sum'}),\n",
    "    axis=1\n",
    ")\n",
    "\n",
    "# делаем срез посетителей по дням по сегментам \n",
    "visitors_a = visitors.query('group == \"A\"').sort_values(by='date')\n",
    "visitors_b = visitors.query('group == \"B\"').sort_values(by='date')\n",
    "\n",
    "# считаем кумулятивные значения посетителей\n",
    "visitors_a_cumul = visitors_a.apply(\n",
    "    lambda x: visitors_a[visitors_a['date'] <= x['date']]\n",
    "    .agg({'date':'max', 'visitors':'sum'}),\n",
    "    axis=1\n",
    ")\n",
    "\n",
    "\n",
    "visitors_b_cumul = visitors_b.apply(\n",
    "    lambda x: visitors_b[visitors_b['date'] <= x['date']]\n",
    "    .agg({'date':'max', 'visitors':'sum'}),\n",
    "    axis=1\n",
    ")"
   ]
  },
  {
   "cell_type": "code",
   "execution_count": 20,
   "metadata": {},
   "outputs": [],
   "source": [
    "# считаем кумулятивную конверсию \n",
    "conversion_overall = avg_orders_a_cumul.merge(avg_orders_b_cumul, on='date')\n",
    "conversion_overall = conversion_overall.merge(visitors_a_cumul, on='date')\n",
    "conversion_overall = conversion_overall.merge(visitors_b_cumul, on='date')\n",
    "conversion_a_cumul = conversion_overall['transaction_id_x'] / conversion_overall['visitors_x']\n",
    "conversion_b_cumul = conversion_overall['transaction_id_y'] / conversion_overall['visitors_y']"
   ]
  },
  {
   "cell_type": "code",
   "execution_count": 21,
   "metadata": {},
   "outputs": [
    {
     "data": {
      "image/png": "[encoded data removed]",
      "text/plain": [
       "<Figure size 432x288 with 1 Axes>"
      ]
     },
     "metadata": {
      "needs_background": "light"
     },
     "output_type": "display_data"
    }
   ],
   "source": [
    "plt.plot(conversion_overall['date'], conversion_a_cumul, label = 'A')\n",
    "plt.plot(conversion_overall['date'], conversion_b_cumul, label = 'B')\n",
    "plt.xticks(rotation=45)\n",
    "plt.ylabel('Конверсия')\n",
    "plt.title('Изменение кумулятивной конверсии')\n",
    "plt.legend();"
   ]
  },
  {
   "cell_type": "markdown",
   "metadata": {},
   "source": [
    "*В первые 5 дней можно отметить относительно равные показатеои конверсии двух группы, хоть и с весьма хаотичными пиками. После, показатели сегмента B стали превосходить значения конверсии группы A до конца проведения теста.*"
   ]
  },
  {
   "cell_type": "code",
   "execution_count": 22,
   "metadata": {},
   "outputs": [
    {
     "data": {
      "image/png": "[encoded data removed]",
      "text/plain": [
       "<Figure size 432x288 with 1 Axes>"
      ]
     },
     "metadata": {
      "needs_background": "light"
     },
     "output_type": "display_data"
    }
   ],
   "source": [
    "plt.plot(conversion_overall['date'], (conversion_b_cumul / conversion_a_cumul) - 1)\n",
    "plt.xticks(rotation=45)\n",
    "plt.ylabel('Отношение B/A')\n",
    "plt.title('Кумулятивное среднее конверсии')\n",
    "plt.axhline(y=0, color='black', linestyle='--');"
   ]
  },
  {
   "cell_type": "markdown",
   "metadata": {},
   "source": [
    "*В первые дни отношение значений было трудно установить, из-за нестабильности здинамики. Начиная с 5 августа, количество заказов в сегменте B стало значительно превышать показатели сегмента A, за счет чего, к концу теста, накопленное количество заказов у сегмента B больше чем у сегмента A. Такие резкие изменения в динамике могут указывать на наличие выбросов и выбивающихся значений, и это необходимо проверить.*"
   ]
  },
  {
   "cell_type": "markdown",
   "metadata": {},
   "source": [
    "## Анализ выбросов"
   ]
  },
  {
   "cell_type": "markdown",
   "metadata": {},
   "source": [
    "Изучим подробнее представленные данные. Попрубуем найти выбросы, которые могут искажать результаты анализа."
   ]
  },
  {
   "cell_type": "markdown",
   "metadata": {},
   "source": [
    "Построим точечный график количества заказов по пользователям, а также посчитаем 90-й, 95-й и 99-й перцентили количества заказов на пользователя."
   ]
  },
  {
   "cell_type": "code",
   "execution_count": 23,
   "metadata": {
    "scrolled": true
   },
   "outputs": [
    {
     "data": {
      "image/png": "[encoded data removed]",
      "text/plain": [
       "<Figure size 432x288 with 1 Axes>"
      ]
     },
     "metadata": {
      "needs_background": "light"
     },
     "output_type": "display_data"
    }
   ],
   "source": [
    "orders_amount = orders.groupby('visitor_id', as_index=False).agg({'transaction_id':'count'})\n",
    "\n",
    "plt.scatter(orders_amount['visitor_id'], orders_amount['transaction_id'])\n",
    "plt.ylabel('Кол-во заказов на пользователя')\n",
    "plt.title('Количество заказов по пользователям');"
   ]
  },
  {
   "cell_type": "code",
   "execution_count": 24,
   "metadata": {
    "scrolled": true
   },
   "outputs": [
    {
     "data": {
      "text/plain": [
       "array([1., 2., 4.])"
      ]
     },
     "execution_count": 24,
     "metadata": {},
     "output_type": "execute_result"
    }
   ],
   "source": [
    "transaction_perc = np.percentile(orders_amount['transaction_id'], [90, 95, 99])\n",
    "transaction_perc"
   ]
  },
  {
   "cell_type": "markdown",
   "metadata": {},
   "source": [
    "Аналогичную операцию проведем для стоимости заказов. В части обработки данных, мы уже нашли одно выбивающееся значение в стоимости заказа. Построим график еще раз, и найдем перцентили."
   ]
  },
  {
   "cell_type": "code",
   "execution_count": 25,
   "metadata": {},
   "outputs": [
    {
     "data": {
      "image/png": "[encoded data removed]",
      "text/plain": [
       "<Figure size 432x288 with 1 Axes>"
      ]
     },
     "metadata": {
      "needs_background": "light"
     },
     "output_type": "display_data"
    }
   ],
   "source": [
    "plt.ticklabel_format(style='plain')\n",
    "plt.scatter(range(0,len(orders['transaction_id'])), orders['revenue'])\n",
    "plt.ylabel('Стоимость заказа')\n",
    "plt.title('Стоимость заказов по пользователям');"
   ]
  },
  {
   "cell_type": "code",
   "execution_count": 26,
   "metadata": {},
   "outputs": [
    {
     "data": {
      "text/plain": [
       "array([18168. , 28000. , 58233.2])"
      ]
     },
     "execution_count": 26,
     "metadata": {},
     "output_type": "execute_result"
    }
   ],
   "source": [
    "revenue_perc = np.percentile(orders['revenue'], [90, 95, 99])\n",
    "revenue_perc"
   ]
  },
  {
   "cell_type": "markdown",
   "metadata": {},
   "source": [
    "***В данных присутсвтуют выбивающиеся значения. Можно предположить, что у пользователя, который совершает больше 3-4 заказов в месяц, поводедение отличается от среднестатистического. А слишком крупные по стоимости заказы - редкое явление, которое может сильно влиять на средние значения, и тем самым, мешать правильно интерпретировать результат. Необходимо опеределится со срезом данных, отфильтровать текущие датафреймы, и провести анализ на основе новый значений.***"
   ]
  },
  {
   "cell_type": "markdown",
   "metadata": {},
   "source": [
    "## Анализ среднего чека и среднего количества заказов очищенных данных"
   ]
  },
  {
   "cell_type": "markdown",
   "metadata": {},
   "source": [
    "Создадим датафреймы с очищенными данными, убрав выбивающиеся значения. Для среднего количества заказов, сделаем срез до 4 заказов на пользователя, отсекая таким образом 1% данных. Для стоимости заказов установим границу в 28000, что соответствует 95-ому перцентилю, который отсекает 5% заказов."
   ]
  },
  {
   "cell_type": "code",
   "execution_count": 27,
   "metadata": {},
   "outputs": [],
   "source": [
    "# переменная с отфильтрованными данными по количеству заказов на пользователя \n",
    "visitor_id_to_filt = orders_amount.query('transaction_id > @transaction_perc[2]').visitor_id\n",
    "\n",
    "# теперь по стоимости для двух групп\n",
    "orders_a_filtered = orders_a.query('revenue < @revenue_perc[1] and visitor_id not in @visitor_id_to_filt')\n",
    "orders_b_filtered = orders_b.query('revenue < @revenue_perc[1] and visitor_id not in @visitor_id_to_filt')"
   ]
  },
  {
   "cell_type": "markdown",
   "metadata": {},
   "source": [
    "Посчитаем потери пользователей"
   ]
  },
  {
   "cell_type": "code",
   "execution_count": 28,
   "metadata": {},
   "outputs": [
    {
     "name": "stdout",
     "output_type": "stream",
     "text": [
      " Потери пользователей в группе A в абсолютном значении = 34 пользователя,\n",
      " Относительно сырых данных= 6.76 %\n"
     ]
    }
   ],
   "source": [
    "print (f' Потери пользователей в группе A в абсолютном значении \\\n",
    "= {orders_a.visitor_id.nunique() - orders_a_filtered.visitor_id.nunique()} пользователя,\\n Относительно сырых данных\\\n",
    "= {round((1 - orders_a_filtered.visitor_id.nunique() / orders_a.visitor_id.nunique())*100, 2)} %')"
   ]
  },
  {
   "cell_type": "code",
   "execution_count": 29,
   "metadata": {},
   "outputs": [
    {
     "name": "stdout",
     "output_type": "stream",
     "text": [
      " Потери пользователей в группе B в абсолютном значении = 39 пользователя,\n",
      " Относительно сырых данных= 6.66 %\n"
     ]
    }
   ],
   "source": [
    "print (f' Потери пользователей в группе B в абсолютном значении \\\n",
    "= {orders_b.visitor_id.nunique() - orders_b_filtered.visitor_id.nunique()} пользователя,\\n Относительно сырых данных\\\n",
    "= {round((1 - orders_b_filtered.visitor_id.nunique() / orders_b.visitor_id.nunique())*100, 2)} %')"
   ]
  },
  {
   "cell_type": "markdown",
   "metadata": {},
   "source": [
    "Создаем датафреймы с очищенными данными."
   ]
  },
  {
   "cell_type": "code",
   "execution_count": 30,
   "metadata": {},
   "outputs": [],
   "source": [
    "# Расчет очищенной выручки\n",
    "orders_a_revenue = orders_a_filtered.groupby('date', as_index=False)['revenue'].sum()\n",
    "orders_b_revenue = orders_b_filtered.groupby('date', as_index=False)['revenue'].sum()\n",
    "\n",
    "orders_a_revenue = orders_a_revenue.apply(\n",
    "    lambda x: orders_a_revenue[orders_a_revenue['date'] <= x['date']]\n",
    "    .agg({'date':'max', 'revenue':'sum'}),\n",
    "    axis=1\n",
    ")\n",
    "\n",
    "orders_b_revenue = orders_b_revenue.apply(\n",
    "    lambda x: orders_b_revenue[orders_b_revenue['date'] <= x['date']]\n",
    "    .agg({'date':'max', 'revenue':'sum'}),\n",
    "    axis=1\n",
    ")"
   ]
  },
  {
   "cell_type": "code",
   "execution_count": 31,
   "metadata": {
    "scrolled": false
   },
   "outputs": [],
   "source": [
    "# аналогичный код для расчета среднего чека\n",
    "\n",
    "orders_a_cheque =  orders_a_filtered.groupby('date', as_index=False).agg({'transaction_id':'nunique'})\n",
    "orders_a_cheque = orders_a_cheque.apply(\n",
    "    lambda x: orders_a_cheque[orders_a_cheque['date'] <= x['date']]\n",
    "    .agg({'date':'max', 'transaction_id':'sum'}),\n",
    "    axis=1\n",
    ")\n",
    "\n",
    "orders_b_cheque =  orders_b_filtered.groupby('date', as_index=False).agg({'transaction_id':'nunique'})\n",
    "orders_b_cheque = orders_b_cheque.apply(\n",
    "    lambda x: orders_b_cheque[orders_b_cheque['date'] <= x['date']]\n",
    "    .agg({'date':'max', 'transaction_id':'sum'}),\n",
    "    axis=1\n",
    ")\n",
    "\n",
    "orders_a_cheque_avg = orders_a_revenue['revenue'] / orders_a_cheque['transaction_id']\n",
    "orders_b_cheque_avg = orders_b_revenue['revenue'] / orders_b_cheque['transaction_id']\n"
   ]
  },
  {
   "cell_type": "code",
   "execution_count": 32,
   "metadata": {},
   "outputs": [
    {
     "data": {
      "image/png": "[encoded data removed]",
      "text/plain": [
       "<Figure size 432x288 with 1 Axes>"
      ]
     },
     "metadata": {
      "needs_background": "light"
     },
     "output_type": "display_data"
    }
   ],
   "source": [
    "plt.plot(orders_a_cheque['date'], orders_b_cheque_avg / orders_a_cheque_avg - 1)\n",
    "plt.xticks(rotation=45)\n",
    "plt.ylabel('Отношение B/A')\n",
    "plt.title('Относительное изменение кумулятивного среднего чека B к A')\n",
    "plt.axhline(y=0, color='black', linestyle='--');"
   ]
  },
  {
   "cell_type": "markdown",
   "metadata": {},
   "source": [
    "*Мы можем наблюдать другую картину происходящего на основе чистых данных. Теперь у сегмента B отсутствует резкий рост среднего чека в середине месяца. Скорее всего, роль в этом сыграло одно отфильтрованное значение стоимости заказа, которое можно было заметить на точечном графике количества заказов по пользователям. Теперь значение накопленного среднего у сегмента A преобладает над сегментом B.*"
   ]
  },
  {
   "cell_type": "markdown",
   "metadata": {},
   "source": [
    "Посчитаем и визуализируем тренд изменений в накопленном кол-ве заказов по дням на основе отфильтрованных данных."
   ]
  },
  {
   "cell_type": "code",
   "execution_count": 33,
   "metadata": {},
   "outputs": [],
   "source": [
    "# аналогичный код для расчета среднего количества заказов\n",
    "\n",
    "avg_orders_a = orders_a_filtered.groupby('date', as_index=False).agg({'transaction_id':'count'})\n",
    "avg_orders_b = orders_b_filtered.groupby('date', as_index=False).agg({'transaction_id':'count'})\n",
    "\n",
    "avg_orders_a['avg_orders'] = avg_orders_a['transaction_id'] / \\\n",
    "(visitors.query('group == \"A\"').sort_values(by='date').visitors)\n",
    "\n",
    "avg_orders_b['avg_orders'] = avg_orders_b['transaction_id'] / \\\n",
    "(visitors.query('group == \"B\"').sort_values(by='date').reset_index().visitors)\n",
    "\n",
    "avg_orders_a_cumul = avg_orders_a.apply(\n",
    "    lambda x: avg_orders_a[avg_orders_a['date'] <= x['date']]\n",
    "    .agg({'date':'max', 'avg_orders':'sum'}),\n",
    "    axis=1\n",
    ")\n",
    "\n",
    "avg_orders_b_cumul = avg_orders_b.apply(\n",
    "    lambda x: avg_orders_b[avg_orders_b['date'] <= x['date']]\n",
    "    .agg({'date':'max', 'avg_orders':'sum'}),\n",
    "    axis=1\n",
    ")"
   ]
  },
  {
   "cell_type": "code",
   "execution_count": 34,
   "metadata": {},
   "outputs": [
    {
     "data": {
      "image/png": "[encoded data removed]",
      "text/plain": [
       "<Figure size 432x288 with 1 Axes>"
      ]
     },
     "metadata": {
      "needs_background": "light"
     },
     "output_type": "display_data"
    }
   ],
   "source": [
    "plt.plot(avg_orders_a_cumul['date'], (avg_orders_b_cumul['avg_orders'] / avg_orders_a_cumul['avg_orders']) - 1)\n",
    "plt.xticks(rotation=45)\n",
    "plt.ylabel('Отношение B/A')\n",
    "plt.title('Изменение кумулятивного среднего кол-ва заказов B к A')\n",
    "plt.axhline(y=0, color='black', linestyle='--');"
   ]
  },
  {
   "cell_type": "markdown",
   "metadata": {},
   "source": [
    "***А вот различия в графиках среднего количества заказов почти не ощущается за исключением менее выраженного пика в начале временного отрезка. Кажется выбивающиеся значения среднего количества заказов на пользовеля не так сильно влияют на итоговый результат, или по крайней мере не влияют в том объеме, в каком они были представлены в проведенном тесте.***"
   ]
  },
  {
   "cell_type": "markdown",
   "metadata": {},
   "source": [
    "***Нужно посчитать статистическую значимость различий в расчитанных значениях между сегментами, чтобы можно было формировать окончательные выводы.***"
   ]
  },
  {
   "cell_type": "markdown",
   "metadata": {},
   "source": [
    "## Расчет статистической значимости показателей A/B теста"
   ]
  },
  {
   "cell_type": "markdown",
   "metadata": {},
   "source": [
    "### Расчет статистической значимости для среднего количества заказов"
   ]
  },
  {
   "cell_type": "markdown",
   "metadata": {},
   "source": [
    "Посчитаем статистическую значимость \"сырых\" и отфильтрованных данных, которые отображают различия в среднем количестве заказов между группами. \n",
    "\n",
    "Чтобы рассчитать статистическую значимость различий, применим критерий Манна — Уитни, используя библиотеку `scipy` и передадим методу 2 выборки: `sample_a` и `sample_b`. Заодно найдем суммарное относительное различие параметров."
   ]
  },
  {
   "cell_type": "markdown",
   "metadata": {},
   "source": [
    "Сформулируем нулевую `H_0` и альтернативную `H_a` гипотезы:\n",
    "\n",
    "`H_0`: Различий в среднем количестве заказов между группами A и B нет\n",
    "\n",
    "`H_a`: Различия в среднем количестве заказов между группами A и B есть\n",
    "\n",
    "alpha = 0.05"
   ]
  },
  {
   "cell_type": "code",
   "execution_count": 35,
   "metadata": {},
   "outputs": [
    {
     "name": "stdout",
     "output_type": "stream",
     "text": [
      "P-value = 0.01679\n",
      "0.138 - Относительная разница в среднем количестве заказов на пользователя\n"
     ]
    }
   ],
   "source": [
    "orders_by_users_a = (\n",
    "    orders_a\n",
    "    .groupby('visitor_id', as_index=False)\n",
    "    .agg({'transaction_id': 'nunique'})\n",
    ")\n",
    "orders_by_users_a.columns = ['visitor_id', 'orders']\n",
    "\n",
    "orders_by_users_b = (\n",
    "    orders_b\n",
    "    .groupby('visitor_id', as_index=False)\n",
    "    .agg({'transaction_id': 'nunique'})\n",
    ")\n",
    "orders_by_users_b.columns = ['visitor_id', 'orders']\n",
    "\n",
    "sample_a = pd.concat(\n",
    "    [\n",
    "        orders_by_users_a['orders'],\n",
    "        pd.Series(\n",
    "            0,\n",
    "            index=np.arange(\n",
    "                visitors[visitors['group'] == 'A']['visitors'].sum() - len(orders_by_users_a['orders'])\n",
    "            ),\n",
    "            name='orders',\n",
    "        ),\n",
    "    ],\n",
    "    axis=0,\n",
    ")\n",
    "\n",
    "sample_b = pd.concat(\n",
    "    [\n",
    "        orders_by_users_b['orders'],\n",
    "        pd.Series(\n",
    "            0,\n",
    "            index=np.arange(\n",
    "                visitors[visitors['group'] == 'B']['visitors'].sum() - len(orders_by_users_b['orders'])\n",
    "            ),\n",
    "            name='orders',\n",
    "        ),\n",
    "    ],\n",
    "    axis=0,\n",
    ")\n",
    "\n",
    "print('P-value =',\"{0:.5f}\".format(stats.mannwhitneyu(sample_a, sample_b)[1]))\n",
    "\n",
    "print(\"{0:.3f}\".format(sample_b.mean() / sample_a.mean() - 1), '- Относительная разница в среднем количестве заказов на пользователя')"
   ]
  },
  {
   "cell_type": "markdown",
   "metadata": {},
   "source": [
    "Теперь для очищенных данных "
   ]
  },
  {
   "cell_type": "code",
   "execution_count": 36,
   "metadata": {},
   "outputs": [
    {
     "name": "stdout",
     "output_type": "stream",
     "text": [
      "P-value = 0.02004\n",
      "0.148 - Относительная разница в среднем количестве заказов на пользователя\n"
     ]
    }
   ],
   "source": [
    "orders_by_users_a = (\n",
    "    orders_a_filtered\n",
    "    .groupby('visitor_id', as_index=False)\n",
    "    .agg({'transaction_id': 'nunique'})\n",
    ")\n",
    "orders_by_users_a.columns = ['visitor_id', 'orders']\n",
    "\n",
    "orders_by_users_b = (\n",
    "    orders_b_filtered\n",
    "    .groupby('visitor_id', as_index=False)\n",
    "    .agg({'transaction_id': 'nunique'})\n",
    ")\n",
    "orders_by_users_b.columns = ['visitor_id', 'orders']\n",
    "\n",
    "sample_a = pd.concat(\n",
    "    [\n",
    "        orders_by_users_a['orders'],\n",
    "        pd.Series(\n",
    "            0,\n",
    "            index=np.arange(\n",
    "                visitors[visitors['group'] == 'A']['visitors'].sum() - len(orders_by_users_a['orders'])\n",
    "            ),\n",
    "            name='orders',\n",
    "        ),\n",
    "    ],\n",
    "    axis=0,\n",
    ")\n",
    "\n",
    "sample_b = pd.concat(\n",
    "    [\n",
    "        orders_by_users_b['orders'],\n",
    "        pd.Series(\n",
    "            0,\n",
    "            index=np.arange(\n",
    "                visitors[visitors['group'] == 'B']['visitors'].sum() - len(orders_by_users_b['orders'])\n",
    "            ),\n",
    "            name='orders',\n",
    "        ),\n",
    "    ],\n",
    "    axis=0,\n",
    ")\n",
    "\n",
    "print('P-value =',\"{0:.5f}\".format(stats.mannwhitneyu(sample_a, sample_b)[1]))\n",
    "\n",
    "print(\"{0:.3f}\".format(sample_b.mean() / sample_a.mean() - 1), '- Относительная разница в среднем количестве заказов на пользователя')"
   ]
  },
  {
   "cell_type": "markdown",
   "metadata": {},
   "source": [
    "***По итогам расчета можно сказать, что фильтрация данных особо не повлияла на конечный результат. `P-value` сырых данных = 0.01679. \n",
    "`P-value` отфильтрованных данных = 0.02044. Если мы сравниваем это значение с показателем alpha, равным 0,05, то нулевая гипотеза отвергается. Мы можем сделать вывод, что по результатам A/B теста наблюдаются различия в итоговой конверсии заказов.***"
   ]
  },
  {
   "cell_type": "markdown",
   "metadata": {},
   "source": [
    "### Расчет статистической значимости для среднего чека"
   ]
  },
  {
   "cell_type": "markdown",
   "metadata": {},
   "source": [
    "Проведем аналогичную операцию для различий среднего чека. \n",
    "\n",
    "Сформулируем нулевую `H_0` и альтернативную `H_a` гипотезы:\n",
    "\n",
    "`H_0`: Различий в среднем чеке между группами A и B нет\n",
    "\n",
    "`H_a`: Различия в среднем чеке между группами A и B есть\n",
    "\n",
    "alpha = 0.05"
   ]
  },
  {
   "cell_type": "code",
   "execution_count": 37,
   "metadata": {},
   "outputs": [
    {
     "name": "stdout",
     "output_type": "stream",
     "text": [
      "P-value = 0.08587\n",
      "0.446 - Относительная разница в среднем чеке\n"
     ]
    }
   ],
   "source": [
    "orders_a_revenue = orders_a.groupby('date', as_index=False)['revenue'].sum()\n",
    "orders_b_revenue = orders_b.groupby('date', as_index=False)['revenue'].sum()\n",
    "print('P-value =',\"{0:.5f}\".format(stats.mannwhitneyu(orders_a_revenue['revenue'], orders_b_revenue['revenue'])[1]))\n",
    "\n",
    "print(\"{0:.3f}\".format(orders_b_revenue['revenue'].mean() / orders_a_revenue['revenue'].mean() - 1), '- Относительная разница в среднем чеке')"
   ]
  },
  {
   "cell_type": "markdown",
   "metadata": {},
   "source": [
    "Для чистых данных"
   ]
  },
  {
   "cell_type": "code",
   "execution_count": 38,
   "metadata": {},
   "outputs": [
    {
     "name": "stdout",
     "output_type": "stream",
     "text": [
      "P-value = 0.24260\n",
      "0.126 - Относительная разница в среднем чеке\n"
     ]
    }
   ],
   "source": [
    "orders_a_revenue_filt = orders_a_filtered.groupby('date', as_index=False)['revenue'].sum()\n",
    "orders_b_revenue_filt = orders_b_filtered.groupby('date', as_index=False)['revenue'].sum()\n",
    "print('P-value =',\"{0:.5f}\".format(stats.mannwhitneyu(orders_a_revenue_filt['revenue'], orders_b_revenue_filt['revenue'])[1]))\n",
    "\n",
    "print(\"{0:.3f}\".format(orders_b_revenue_filt['revenue'].mean() / orders_a_revenue_filt['revenue'].mean() - 1), '- Относительная разница в среднем чеке')"
   ]
  },
  {
   "cell_type": "markdown",
   "metadata": {},
   "source": [
    "***В отличие от предыдущего расчета статистической значимости, здесь показатели P-value превышают число alpha, особенно после очистки данных. `P-value` сырых данных = 0.08587. \n",
    "`P-value` отфильтрованных данных = 0.21538. Нет причин отвергать нулевую гипотеза. Различий в среднем чеке для сегментов A и B нет.***"
   ]
  },
  {
   "cell_type": "markdown",
   "metadata": {},
   "source": [
    "# Выводы"
   ]
  },
  {
   "cell_type": "markdown",
   "metadata": {},
   "source": [
    "**По итогам результатам работы были проделаны следующие шаги по проекту:**\n",
    "- ***Проведена приоритизация существующих гипотез***\n",
    "- ***Обработан файл с даннымы о проведенном A/B тесте***\n",
    "- ***проведен анализ актуальных метрик , таких как: выручка, средний чек и среднее количество пользователей*** \n",
    "- ***проведена фильтрация данных по выбросам и выбивающимся значениям с последующим пересчетом метрик***\n",
    "- ***выяснено, как относятся друг к другу метрики двух сегментов***\n",
    "- ***определено насколько статистически значимыми являются полученные результаты***\n",
    "\n",
    "**По итогам проделанного анализа A/B теста удалось установить следующее:**\n",
    "- ***Нет статистически значимого различия по значению среднего чека между группами ни по «сырым», ни по данным после фильтрации аномалий***\n",
    "- ***расчет статистической значимости для средней итоговой конверсии, напротив, говорит о том, что различия по этому показателю присутсвуют*** \n",
    "- ***на основе посчитанным кумулятивных показателей и статистической значимости, удалось обнаружить, что пользователи из сегмента B в ощутимо большем объеме делают заказы, если речь идет об их количестве.***\n",
    "\n",
    "<br> **На основе проведенного анализа по A/B тесту, рекомендуется завершить текущий тест. На данный момент не является очевидным преимущество сегмента B именно по количеству получаемой выручки. Статическая значимость этого показателя не дошла до таких критических значений, чтобы можно было делать утверждать о различиях в этих показателях. \n",
    "Однако, статистически определено, что пользователи сегмента B делают большее количество заказов чем пользователи сегмента A. Эти данные очень полезны, и говорят о преимуществе пользователей из сегмента B над пользователями группы A.**"
   ]
  }
 ],
 "metadata": {
  "ExecuteTimeLog": [
   {
    "duration": 1137,
    "start_time": "2022-10-27T02:04:33.354Z"
   },
   {
    "duration": 276,
    "start_time": "2022-10-27T02:04:34.493Z"
   },
   {
    "duration": 19,
    "start_time": "2022-10-27T02:04:34.771Z"
   },
   {
    "duration": 24,
    "start_time": "2022-10-27T02:04:34.791Z"
   },
   {
    "duration": 700,
    "start_time": "2022-10-27T02:04:34.817Z"
   },
   {
    "duration": 123,
    "start_time": "2022-10-27T02:04:35.519Z"
   },
   {
    "duration": 7,
    "start_time": "2022-10-27T02:04:35.644Z"
   },
   {
    "duration": 15,
    "start_time": "2022-10-27T02:04:35.652Z"
   },
   {
    "duration": 6,
    "start_time": "2022-10-27T02:04:35.668Z"
   },
   {
    "duration": 16,
    "start_time": "2022-10-27T02:04:35.676Z"
   },
   {
    "duration": 12,
    "start_time": "2022-10-27T02:04:35.693Z"
   },
   {
    "duration": 12,
    "start_time": "2022-10-27T02:04:35.706Z"
   },
   {
    "duration": 7,
    "start_time": "2022-10-27T02:04:35.719Z"
   },
   {
    "duration": 12,
    "start_time": "2022-10-27T02:04:35.729Z"
   },
   {
    "duration": 95,
    "start_time": "2022-10-27T02:04:35.742Z"
   },
   {
    "duration": 92,
    "start_time": "2022-10-27T02:04:35.838Z"
   },
   {
    "duration": 0,
    "start_time": "2022-10-27T02:04:35.931Z"
   },
   {
    "duration": 0,
    "start_time": "2022-10-27T02:04:35.932Z"
   },
   {
    "duration": 0,
    "start_time": "2022-10-27T02:04:35.933Z"
   },
   {
    "duration": 0,
    "start_time": "2022-10-27T02:04:35.934Z"
   },
   {
    "duration": 0,
    "start_time": "2022-10-27T02:04:35.935Z"
   },
   {
    "duration": 0,
    "start_time": "2022-10-27T02:04:35.936Z"
   },
   {
    "duration": 0,
    "start_time": "2022-10-27T02:04:35.936Z"
   },
   {
    "duration": 0,
    "start_time": "2022-10-27T02:04:35.937Z"
   },
   {
    "duration": 0,
    "start_time": "2022-10-27T02:04:35.938Z"
   },
   {
    "duration": 0,
    "start_time": "2022-10-27T02:04:35.939Z"
   },
   {
    "duration": 0,
    "start_time": "2022-10-27T02:04:35.940Z"
   },
   {
    "duration": 0,
    "start_time": "2022-10-27T02:04:35.941Z"
   },
   {
    "duration": 0,
    "start_time": "2022-10-27T02:04:35.942Z"
   },
   {
    "duration": 0,
    "start_time": "2022-10-27T02:04:35.943Z"
   },
   {
    "duration": 0,
    "start_time": "2022-10-27T02:04:35.943Z"
   },
   {
    "duration": 0,
    "start_time": "2022-10-27T02:04:35.944Z"
   },
   {
    "duration": 0,
    "start_time": "2022-10-27T02:04:35.945Z"
   },
   {
    "duration": 0,
    "start_time": "2022-10-27T02:04:35.946Z"
   },
   {
    "duration": 9,
    "start_time": "2022-10-27T02:04:47.391Z"
   },
   {
    "duration": 229,
    "start_time": "2022-10-27T02:05:44.563Z"
   },
   {
    "duration": 265,
    "start_time": "2022-10-27T02:05:46.702Z"
   },
   {
    "duration": 1105,
    "start_time": "2022-10-27T02:07:58.455Z"
   },
   {
    "duration": 184,
    "start_time": "2022-10-27T02:07:59.562Z"
   },
   {
    "duration": 21,
    "start_time": "2022-10-27T02:07:59.747Z"
   },
   {
    "duration": 26,
    "start_time": "2022-10-27T02:07:59.771Z"
   },
   {
    "duration": 707,
    "start_time": "2022-10-27T02:07:59.799Z"
   },
   {
    "duration": 127,
    "start_time": "2022-10-27T02:08:00.507Z"
   },
   {
    "duration": 8,
    "start_time": "2022-10-27T02:08:00.635Z"
   },
   {
    "duration": 9,
    "start_time": "2022-10-27T02:08:00.645Z"
   },
   {
    "duration": 4,
    "start_time": "2022-10-27T02:08:00.656Z"
   },
   {
    "duration": 32,
    "start_time": "2022-10-27T02:08:00.662Z"
   },
   {
    "duration": 19,
    "start_time": "2022-10-27T02:08:00.696Z"
   },
   {
    "duration": 22,
    "start_time": "2022-10-27T02:08:00.717Z"
   },
   {
    "duration": 14,
    "start_time": "2022-10-27T02:08:00.741Z"
   },
   {
    "duration": 15,
    "start_time": "2022-10-27T02:08:00.757Z"
   },
   {
    "duration": 103,
    "start_time": "2022-10-27T02:08:00.774Z"
   },
   {
    "duration": 248,
    "start_time": "2022-10-27T02:08:00.878Z"
   },
   {
    "duration": 283,
    "start_time": "2022-10-27T02:08:01.128Z"
   },
   {
    "duration": 351,
    "start_time": "2022-10-27T02:08:01.413Z"
   },
   {
    "duration": 291,
    "start_time": "2022-10-27T02:08:01.766Z"
   },
   {
    "duration": 121,
    "start_time": "2022-10-27T02:08:02.059Z"
   },
   {
    "duration": 299,
    "start_time": "2022-10-27T02:08:02.182Z"
   },
   {
    "duration": 125,
    "start_time": "2022-10-27T02:08:02.483Z"
   },
   {
    "duration": 4,
    "start_time": "2022-10-27T02:08:02.610Z"
   },
   {
    "duration": 135,
    "start_time": "2022-10-27T02:08:02.615Z"
   },
   {
    "duration": 4,
    "start_time": "2022-10-27T02:08:02.752Z"
   },
   {
    "duration": 10,
    "start_time": "2022-10-27T02:08:02.757Z"
   },
   {
    "duration": 378,
    "start_time": "2022-10-27T02:08:02.768Z"
   },
   {
    "duration": 120,
    "start_time": "2022-10-27T02:08:03.149Z"
   },
   {
    "duration": 297,
    "start_time": "2022-10-27T02:08:03.270Z"
   },
   {
    "duration": 39,
    "start_time": "2022-10-27T02:08:03.568Z"
   },
   {
    "duration": 29,
    "start_time": "2022-10-27T02:08:03.608Z"
   },
   {
    "duration": 11,
    "start_time": "2022-10-27T02:08:03.639Z"
   },
   {
    "duration": 11,
    "start_time": "2022-10-27T02:08:03.651Z"
   },
   {
    "duration": 1065,
    "start_time": "2022-10-27T02:31:55.932Z"
   },
   {
    "duration": 189,
    "start_time": "2022-10-27T02:31:56.999Z"
   },
   {
    "duration": 18,
    "start_time": "2022-10-27T02:31:57.190Z"
   },
   {
    "duration": 25,
    "start_time": "2022-10-27T02:31:57.209Z"
   },
   {
    "duration": 718,
    "start_time": "2022-10-27T02:31:57.235Z"
   },
   {
    "duration": 137,
    "start_time": "2022-10-27T02:31:57.955Z"
   },
   {
    "duration": 8,
    "start_time": "2022-10-27T02:31:58.094Z"
   },
   {
    "duration": 9,
    "start_time": "2022-10-27T02:31:58.103Z"
   },
   {
    "duration": 3,
    "start_time": "2022-10-27T02:31:58.114Z"
   },
   {
    "duration": 12,
    "start_time": "2022-10-27T02:31:58.118Z"
   },
   {
    "duration": 15,
    "start_time": "2022-10-27T02:31:58.131Z"
   },
   {
    "duration": 12,
    "start_time": "2022-10-27T02:31:58.148Z"
   },
   {
    "duration": 33,
    "start_time": "2022-10-27T02:31:58.162Z"
   },
   {
    "duration": 9,
    "start_time": "2022-10-27T02:31:58.197Z"
   },
   {
    "duration": 95,
    "start_time": "2022-10-27T02:31:58.208Z"
   },
   {
    "duration": 244,
    "start_time": "2022-10-27T02:31:58.305Z"
   },
   {
    "duration": 291,
    "start_time": "2022-10-27T02:31:58.551Z"
   },
   {
    "duration": 326,
    "start_time": "2022-10-27T02:31:58.844Z"
   },
   {
    "duration": 293,
    "start_time": "2022-10-27T02:31:59.172Z"
   },
   {
    "duration": 118,
    "start_time": "2022-10-27T02:31:59.466Z"
   },
   {
    "duration": 283,
    "start_time": "2022-10-27T02:31:59.591Z"
   },
   {
    "duration": 117,
    "start_time": "2022-10-27T02:31:59.875Z"
   },
   {
    "duration": 4,
    "start_time": "2022-10-27T02:31:59.994Z"
   },
   {
    "duration": 134,
    "start_time": "2022-10-27T02:32:00.000Z"
   },
   {
    "duration": 6,
    "start_time": "2022-10-27T02:32:00.135Z"
   },
   {
    "duration": 18,
    "start_time": "2022-10-27T02:32:00.142Z"
   },
   {
    "duration": 390,
    "start_time": "2022-10-27T02:32:00.162Z"
   },
   {
    "duration": 120,
    "start_time": "2022-10-27T02:32:00.554Z"
   },
   {
    "duration": 296,
    "start_time": "2022-10-27T02:32:00.676Z"
   },
   {
    "duration": 40,
    "start_time": "2022-10-27T02:32:00.974Z"
   },
   {
    "duration": 30,
    "start_time": "2022-10-27T02:32:01.016Z"
   },
   {
    "duration": 12,
    "start_time": "2022-10-27T02:32:01.048Z"
   },
   {
    "duration": 35,
    "start_time": "2022-10-27T02:32:01.062Z"
   },
   {
    "duration": 56,
    "start_time": "2022-10-28T15:11:05.536Z"
   },
   {
    "duration": 1575,
    "start_time": "2022-10-28T15:11:12.710Z"
   },
   {
    "duration": 242,
    "start_time": "2022-10-28T15:11:14.287Z"
   },
   {
    "duration": 22,
    "start_time": "2022-10-28T15:11:14.531Z"
   },
   {
    "duration": 31,
    "start_time": "2022-10-28T15:11:14.555Z"
   },
   {
    "duration": 8,
    "start_time": "2022-10-28T15:11:14.588Z"
   },
   {
    "duration": 8,
    "start_time": "2022-10-28T15:11:14.624Z"
   },
   {
    "duration": 6,
    "start_time": "2022-10-28T15:11:14.634Z"
   },
   {
    "duration": 9,
    "start_time": "2022-10-28T15:11:14.642Z"
   },
   {
    "duration": 19,
    "start_time": "2022-10-28T15:11:14.653Z"
   },
   {
    "duration": 47,
    "start_time": "2022-10-28T15:11:14.676Z"
   },
   {
    "duration": 7,
    "start_time": "2022-10-28T15:11:14.725Z"
   },
   {
    "duration": 12,
    "start_time": "2022-10-28T15:11:14.733Z"
   },
   {
    "duration": 7,
    "start_time": "2022-10-28T15:11:14.747Z"
   },
   {
    "duration": 10,
    "start_time": "2022-10-28T15:11:14.756Z"
   },
   {
    "duration": 128,
    "start_time": "2022-10-28T15:11:14.767Z"
   },
   {
    "duration": 297,
    "start_time": "2022-10-28T15:11:14.897Z"
   },
   {
    "duration": 106,
    "start_time": "2022-10-28T15:11:15.196Z"
   },
   {
    "duration": 230,
    "start_time": "2022-10-28T15:11:15.304Z"
   },
   {
    "duration": 359,
    "start_time": "2022-10-28T15:11:15.536Z"
   },
   {
    "duration": 338,
    "start_time": "2022-10-28T15:11:15.896Z"
   },
   {
    "duration": 142,
    "start_time": "2022-10-28T15:11:16.235Z"
   },
   {
    "duration": 214,
    "start_time": "2022-10-28T15:11:16.379Z"
   },
   {
    "duration": 346,
    "start_time": "2022-10-28T15:11:16.595Z"
   },
   {
    "duration": 217,
    "start_time": "2022-10-28T15:11:16.943Z"
   },
   {
    "duration": 6,
    "start_time": "2022-10-28T15:11:17.161Z"
   },
   {
    "duration": 164,
    "start_time": "2022-10-28T15:11:17.169Z"
   },
   {
    "duration": 5,
    "start_time": "2022-10-28T15:11:17.335Z"
   },
   {
    "duration": 282,
    "start_time": "2022-10-28T15:11:17.343Z"
   },
   {
    "duration": 7,
    "start_time": "2022-10-28T15:11:17.627Z"
   },
   {
    "duration": 10,
    "start_time": "2022-10-28T15:11:17.636Z"
   },
   {
    "duration": 301,
    "start_time": "2022-10-28T15:11:17.648Z"
   },
   {
    "duration": 210,
    "start_time": "2022-10-28T15:11:17.952Z"
   },
   {
    "duration": 483,
    "start_time": "2022-10-28T15:11:18.164Z"
   },
   {
    "duration": 289,
    "start_time": "2022-10-28T15:11:18.648Z"
   },
   {
    "duration": 503,
    "start_time": "2022-10-28T15:11:18.939Z"
   },
   {
    "duration": 111,
    "start_time": "2022-10-28T15:11:19.444Z"
   },
   {
    "duration": 90,
    "start_time": "2022-10-28T15:11:19.557Z"
   },
   {
    "duration": 15,
    "start_time": "2022-10-28T15:11:19.649Z"
   },
   {
    "duration": 69,
    "start_time": "2022-10-28T15:11:19.665Z"
   },
   {
    "duration": 139,
    "start_time": "2022-10-28T15:12:21.299Z"
   },
   {
    "duration": 12,
    "start_time": "2022-10-28T15:12:28.316Z"
   },
   {
    "duration": 11,
    "start_time": "2022-10-28T15:14:53.713Z"
   },
   {
    "duration": 29,
    "start_time": "2022-10-28T15:15:56.460Z"
   },
   {
    "duration": 59,
    "start_time": "2022-10-28T15:16:13.347Z"
   },
   {
    "duration": 71,
    "start_time": "2022-10-28T15:16:19.356Z"
   },
   {
    "duration": 9,
    "start_time": "2022-10-28T15:16:30.637Z"
   },
   {
    "duration": 148,
    "start_time": "2022-10-28T15:17:21.880Z"
   },
   {
    "duration": 10,
    "start_time": "2022-10-28T15:18:18.541Z"
   },
   {
    "duration": 108,
    "start_time": "2022-10-28T15:18:23.580Z"
   },
   {
    "duration": 9,
    "start_time": "2022-10-28T15:18:24.175Z"
   },
   {
    "duration": 48,
    "start_time": "2022-10-28T15:19:35.912Z"
   },
   {
    "duration": 10,
    "start_time": "2022-10-28T15:19:41.035Z"
   },
   {
    "duration": 52,
    "start_time": "2022-10-28T15:19:49.370Z"
   },
   {
    "duration": 71,
    "start_time": "2022-10-28T15:19:52.801Z"
   },
   {
    "duration": 26,
    "start_time": "2022-10-28T15:22:37.660Z"
   },
   {
    "duration": 9,
    "start_time": "2022-10-28T15:23:00.039Z"
   },
   {
    "duration": 9,
    "start_time": "2022-10-28T15:23:10.976Z"
   },
   {
    "duration": 4,
    "start_time": "2022-10-28T15:24:23.139Z"
   },
   {
    "duration": 7,
    "start_time": "2022-10-28T15:24:29.424Z"
   },
   {
    "duration": 9,
    "start_time": "2022-10-28T15:24:45.635Z"
   },
   {
    "duration": 9,
    "start_time": "2022-10-28T15:25:09.549Z"
   },
   {
    "duration": 6,
    "start_time": "2022-10-28T15:25:22.154Z"
   },
   {
    "duration": 7,
    "start_time": "2022-10-28T15:25:45.801Z"
   },
   {
    "duration": 14,
    "start_time": "2022-10-28T15:26:01.602Z"
   },
   {
    "duration": 10,
    "start_time": "2022-10-28T15:26:34.751Z"
   },
   {
    "duration": 11,
    "start_time": "2022-10-28T15:26:54.992Z"
   },
   {
    "duration": 11,
    "start_time": "2022-10-28T15:26:57.750Z"
   },
   {
    "duration": 1308,
    "start_time": "2022-10-28T15:27:50.743Z"
   },
   {
    "duration": 122,
    "start_time": "2022-10-28T15:27:52.053Z"
   },
   {
    "duration": 24,
    "start_time": "2022-10-28T15:27:52.177Z"
   },
   {
    "duration": 33,
    "start_time": "2022-10-28T15:27:52.203Z"
   },
   {
    "duration": 9,
    "start_time": "2022-10-28T15:27:52.238Z"
   },
   {
    "duration": 16,
    "start_time": "2022-10-28T15:27:52.249Z"
   },
   {
    "duration": 13,
    "start_time": "2022-10-28T15:27:52.267Z"
   },
   {
    "duration": 14,
    "start_time": "2022-10-28T15:27:52.282Z"
   },
   {
    "duration": 28,
    "start_time": "2022-10-28T15:27:52.297Z"
   },
   {
    "duration": 14,
    "start_time": "2022-10-28T15:27:52.326Z"
   },
   {
    "duration": 9,
    "start_time": "2022-10-28T15:27:52.341Z"
   },
   {
    "duration": 13,
    "start_time": "2022-10-28T15:27:52.352Z"
   },
   {
    "duration": 11,
    "start_time": "2022-10-28T15:27:52.367Z"
   },
   {
    "duration": 43,
    "start_time": "2022-10-28T15:27:52.381Z"
   },
   {
    "duration": 102,
    "start_time": "2022-10-28T15:27:52.426Z"
   },
   {
    "duration": 299,
    "start_time": "2022-10-28T15:27:52.529Z"
   },
   {
    "duration": 113,
    "start_time": "2022-10-28T15:27:52.830Z"
   },
   {
    "duration": 211,
    "start_time": "2022-10-28T15:27:52.945Z"
   },
   {
    "duration": 286,
    "start_time": "2022-10-28T15:27:53.157Z"
   },
   {
    "duration": 489,
    "start_time": "2022-10-28T15:27:53.446Z"
   },
   {
    "duration": 412,
    "start_time": "2022-10-28T15:27:53.937Z"
   },
   {
    "duration": 10,
    "start_time": "2022-10-28T15:27:54.351Z"
   },
   {
    "duration": 665,
    "start_time": "2022-10-28T15:27:54.363Z"
   },
   {
    "duration": 0,
    "start_time": "2022-10-28T15:27:55.032Z"
   },
   {
    "duration": 0,
    "start_time": "2022-10-28T15:27:55.034Z"
   },
   {
    "duration": 0,
    "start_time": "2022-10-28T15:27:55.035Z"
   },
   {
    "duration": 0,
    "start_time": "2022-10-28T15:27:55.037Z"
   },
   {
    "duration": 0,
    "start_time": "2022-10-28T15:27:55.043Z"
   },
   {
    "duration": 0,
    "start_time": "2022-10-28T15:27:55.044Z"
   },
   {
    "duration": 0,
    "start_time": "2022-10-28T15:27:55.045Z"
   },
   {
    "duration": 0,
    "start_time": "2022-10-28T15:27:55.047Z"
   },
   {
    "duration": 0,
    "start_time": "2022-10-28T15:27:55.048Z"
   },
   {
    "duration": 0,
    "start_time": "2022-10-28T15:27:55.050Z"
   },
   {
    "duration": 0,
    "start_time": "2022-10-28T15:27:55.051Z"
   },
   {
    "duration": 0,
    "start_time": "2022-10-28T15:27:55.052Z"
   },
   {
    "duration": 0,
    "start_time": "2022-10-28T15:27:55.053Z"
   },
   {
    "duration": 0,
    "start_time": "2022-10-28T15:27:55.054Z"
   },
   {
    "duration": 0,
    "start_time": "2022-10-28T15:27:55.056Z"
   },
   {
    "duration": 0,
    "start_time": "2022-10-28T15:27:55.056Z"
   },
   {
    "duration": 0,
    "start_time": "2022-10-28T15:27:55.058Z"
   },
   {
    "duration": 6,
    "start_time": "2022-10-28T15:28:30.842Z"
   },
   {
    "duration": 259,
    "start_time": "2022-10-28T15:28:31.805Z"
   },
   {
    "duration": 8,
    "start_time": "2022-10-28T15:28:50.343Z"
   },
   {
    "duration": 11,
    "start_time": "2022-10-28T15:29:04.398Z"
   },
   {
    "duration": 11,
    "start_time": "2022-10-28T15:29:10.065Z"
   },
   {
    "duration": 7,
    "start_time": "2022-10-28T15:29:16.968Z"
   },
   {
    "duration": 7,
    "start_time": "2022-10-28T15:29:24.462Z"
   },
   {
    "duration": 26,
    "start_time": "2022-10-28T15:29:33.784Z"
   },
   {
    "duration": 126,
    "start_time": "2022-10-28T15:30:04.006Z"
   },
   {
    "duration": 18,
    "start_time": "2022-10-28T15:30:34.397Z"
   },
   {
    "duration": 20,
    "start_time": "2022-10-28T15:30:40.235Z"
   },
   {
    "duration": 203,
    "start_time": "2022-10-28T15:30:45.776Z"
   },
   {
    "duration": 19,
    "start_time": "2022-10-28T15:30:46.376Z"
   },
   {
    "duration": 1218,
    "start_time": "2022-10-28T15:30:57.737Z"
   },
   {
    "duration": 116,
    "start_time": "2022-10-28T15:30:58.957Z"
   },
   {
    "duration": 23,
    "start_time": "2022-10-28T15:30:59.075Z"
   },
   {
    "duration": 30,
    "start_time": "2022-10-28T15:30:59.100Z"
   },
   {
    "duration": 8,
    "start_time": "2022-10-28T15:30:59.132Z"
   },
   {
    "duration": 9,
    "start_time": "2022-10-28T15:30:59.142Z"
   },
   {
    "duration": 4,
    "start_time": "2022-10-28T15:30:59.153Z"
   },
   {
    "duration": 16,
    "start_time": "2022-10-28T15:30:59.158Z"
   },
   {
    "duration": 16,
    "start_time": "2022-10-28T15:30:59.176Z"
   },
   {
    "duration": 35,
    "start_time": "2022-10-28T15:30:59.194Z"
   },
   {
    "duration": 10,
    "start_time": "2022-10-28T15:30:59.232Z"
   },
   {
    "duration": 14,
    "start_time": "2022-10-28T15:30:59.243Z"
   },
   {
    "duration": 7,
    "start_time": "2022-10-28T15:30:59.260Z"
   },
   {
    "duration": 11,
    "start_time": "2022-10-28T15:30:59.269Z"
   },
   {
    "duration": 132,
    "start_time": "2022-10-28T15:30:59.282Z"
   },
   {
    "duration": 304,
    "start_time": "2022-10-28T15:30:59.416Z"
   },
   {
    "duration": 105,
    "start_time": "2022-10-28T15:30:59.722Z"
   },
   {
    "duration": 211,
    "start_time": "2022-10-28T15:30:59.829Z"
   },
   {
    "duration": 293,
    "start_time": "2022-10-28T15:31:00.041Z"
   },
   {
    "duration": 317,
    "start_time": "2022-10-28T15:31:00.337Z"
   },
   {
    "duration": 189,
    "start_time": "2022-10-28T15:31:03.135Z"
   },
   {
    "duration": 123,
    "start_time": "2022-10-28T15:31:04.709Z"
   },
   {
    "duration": 11,
    "start_time": "2022-10-28T15:31:16.170Z"
   },
   {
    "duration": 8,
    "start_time": "2022-10-28T15:31:21.053Z"
   },
   {
    "duration": 8,
    "start_time": "2022-10-28T15:31:37.093Z"
   },
   {
    "duration": 13,
    "start_time": "2022-10-28T15:32:15.504Z"
   },
   {
    "duration": 8,
    "start_time": "2022-10-28T15:32:46.794Z"
   },
   {
    "duration": 17,
    "start_time": "2022-10-28T15:32:50.523Z"
   },
   {
    "duration": 8,
    "start_time": "2022-10-28T15:33:23.282Z"
   },
   {
    "duration": 19,
    "start_time": "2022-10-28T15:33:37.200Z"
   },
   {
    "duration": 17,
    "start_time": "2022-10-28T15:34:16.203Z"
   },
   {
    "duration": 18,
    "start_time": "2022-10-28T15:34:48.075Z"
   },
   {
    "duration": 23,
    "start_time": "2022-10-28T15:35:00.815Z"
   },
   {
    "duration": 213,
    "start_time": "2022-10-28T15:35:16.107Z"
   },
   {
    "duration": 27,
    "start_time": "2022-10-28T15:36:00.699Z"
   },
   {
    "duration": 213,
    "start_time": "2022-10-28T15:40:50.504Z"
   },
   {
    "duration": 1510,
    "start_time": "2022-10-28T15:40:52.907Z"
   },
   {
    "duration": 307,
    "start_time": "2022-10-28T15:42:13.902Z"
   },
   {
    "duration": 1250,
    "start_time": "2022-10-28T15:42:43.135Z"
   },
   {
    "duration": 125,
    "start_time": "2022-10-28T15:42:44.387Z"
   },
   {
    "duration": 24,
    "start_time": "2022-10-28T15:42:44.514Z"
   },
   {
    "duration": 34,
    "start_time": "2022-10-28T15:42:44.540Z"
   },
   {
    "duration": 10,
    "start_time": "2022-10-28T15:42:44.575Z"
   },
   {
    "duration": 42,
    "start_time": "2022-10-28T15:42:44.586Z"
   },
   {
    "duration": 3,
    "start_time": "2022-10-28T15:42:44.630Z"
   },
   {
    "duration": 7,
    "start_time": "2022-10-28T15:42:44.635Z"
   },
   {
    "duration": 17,
    "start_time": "2022-10-28T15:42:44.643Z"
   },
   {
    "duration": 14,
    "start_time": "2022-10-28T15:42:44.663Z"
   },
   {
    "duration": 7,
    "start_time": "2022-10-28T15:42:44.679Z"
   },
   {
    "duration": 13,
    "start_time": "2022-10-28T15:42:44.724Z"
   },
   {
    "duration": 7,
    "start_time": "2022-10-28T15:42:44.739Z"
   },
   {
    "duration": 11,
    "start_time": "2022-10-28T15:42:44.747Z"
   },
   {
    "duration": 122,
    "start_time": "2022-10-28T15:42:44.760Z"
   },
   {
    "duration": 306,
    "start_time": "2022-10-28T15:42:44.884Z"
   },
   {
    "duration": 104,
    "start_time": "2022-10-28T15:42:45.192Z"
   },
   {
    "duration": 229,
    "start_time": "2022-10-28T15:42:45.297Z"
   },
   {
    "duration": 290,
    "start_time": "2022-10-28T15:42:45.527Z"
   },
   {
    "duration": 310,
    "start_time": "2022-10-28T15:42:45.824Z"
   },
   {
    "duration": 203,
    "start_time": "2022-10-28T15:42:46.136Z"
   },
   {
    "duration": 28,
    "start_time": "2022-10-28T15:42:46.341Z"
   },
   {
    "duration": 237,
    "start_time": "2022-10-28T15:42:46.371Z"
   },
   {
    "duration": 316,
    "start_time": "2022-10-28T15:42:46.610Z"
   },
   {
    "duration": 156,
    "start_time": "2022-10-28T15:42:46.928Z"
   },
   {
    "duration": 6,
    "start_time": "2022-10-28T15:42:47.086Z"
   },
   {
    "duration": 244,
    "start_time": "2022-10-28T15:42:47.093Z"
   },
   {
    "duration": 5,
    "start_time": "2022-10-28T15:42:47.341Z"
   },
   {
    "duration": 175,
    "start_time": "2022-10-28T15:42:47.348Z"
   },
   {
    "duration": 5,
    "start_time": "2022-10-28T15:42:47.525Z"
   },
   {
    "duration": 36,
    "start_time": "2022-10-28T15:42:47.532Z"
   },
   {
    "duration": 165,
    "start_time": "2022-10-28T15:42:47.570Z"
   },
   {
    "duration": 307,
    "start_time": "2022-10-28T15:42:47.737Z"
   },
   {
    "duration": 500,
    "start_time": "2022-10-28T15:42:48.046Z"
   },
   {
    "duration": 285,
    "start_time": "2022-10-28T15:42:48.547Z"
   },
   {
    "duration": 434,
    "start_time": "2022-10-28T15:42:48.834Z"
   },
   {
    "duration": 92,
    "start_time": "2022-10-28T15:42:49.270Z"
   },
   {
    "duration": 96,
    "start_time": "2022-10-28T15:42:49.364Z"
   },
   {
    "duration": 71,
    "start_time": "2022-10-28T15:42:49.463Z"
   },
   {
    "duration": 26,
    "start_time": "2022-10-28T15:42:49.536Z"
   },
   {
    "duration": 1257,
    "start_time": "2022-10-28T15:45:44.907Z"
   },
   {
    "duration": 112,
    "start_time": "2022-10-28T15:45:46.167Z"
   },
   {
    "duration": 22,
    "start_time": "2022-10-28T15:45:46.281Z"
   },
   {
    "duration": 32,
    "start_time": "2022-10-28T15:45:46.305Z"
   },
   {
    "duration": 9,
    "start_time": "2022-10-28T15:45:46.338Z"
   },
   {
    "duration": 8,
    "start_time": "2022-10-28T15:45:46.349Z"
   },
   {
    "duration": 3,
    "start_time": "2022-10-28T15:45:46.359Z"
   },
   {
    "duration": 7,
    "start_time": "2022-10-28T15:45:46.364Z"
   },
   {
    "duration": 17,
    "start_time": "2022-10-28T15:45:46.373Z"
   },
   {
    "duration": 45,
    "start_time": "2022-10-28T15:45:46.392Z"
   },
   {
    "duration": 25,
    "start_time": "2022-10-28T15:45:46.439Z"
   },
   {
    "duration": 20,
    "start_time": "2022-10-28T15:45:46.466Z"
   },
   {
    "duration": 15,
    "start_time": "2022-10-28T15:45:46.488Z"
   },
   {
    "duration": 27,
    "start_time": "2022-10-28T15:45:46.504Z"
   },
   {
    "duration": 111,
    "start_time": "2022-10-28T15:45:46.533Z"
   },
   {
    "duration": 287,
    "start_time": "2022-10-28T15:45:46.646Z"
   },
   {
    "duration": 110,
    "start_time": "2022-10-28T15:45:46.935Z"
   },
   {
    "duration": 207,
    "start_time": "2022-10-28T15:45:47.046Z"
   },
   {
    "duration": 280,
    "start_time": "2022-10-28T15:45:47.255Z"
   },
   {
    "duration": 310,
    "start_time": "2022-10-28T15:45:47.537Z"
   },
   {
    "duration": 203,
    "start_time": "2022-10-28T15:45:47.849Z"
   },
   {
    "duration": 26,
    "start_time": "2022-10-28T15:45:48.054Z"
   },
   {
    "duration": 237,
    "start_time": "2022-10-28T15:45:48.081Z"
   },
   {
    "duration": 308,
    "start_time": "2022-10-28T15:45:48.323Z"
   },
   {
    "duration": 135,
    "start_time": "2022-10-28T15:45:48.633Z"
   },
   {
    "duration": 6,
    "start_time": "2022-10-28T15:45:48.769Z"
   },
   {
    "duration": 235,
    "start_time": "2022-10-28T15:45:48.777Z"
   },
   {
    "duration": 10,
    "start_time": "2022-10-28T15:45:49.015Z"
   },
   {
    "duration": 156,
    "start_time": "2022-10-28T15:45:49.026Z"
   },
   {
    "duration": 7,
    "start_time": "2022-10-28T15:45:49.183Z"
   },
   {
    "duration": 29,
    "start_time": "2022-10-28T15:45:49.191Z"
   },
   {
    "duration": 116,
    "start_time": "2022-10-28T15:45:49.222Z"
   },
   {
    "duration": 113,
    "start_time": "2022-10-28T15:45:49.340Z"
   },
   {
    "duration": 283,
    "start_time": "2022-10-28T15:45:49.455Z"
   },
   {
    "duration": 138,
    "start_time": "2022-10-28T15:45:49.741Z"
   },
   {
    "duration": 327,
    "start_time": "2022-10-28T15:45:49.881Z"
   },
   {
    "duration": 60,
    "start_time": "2022-10-28T15:45:50.210Z"
   },
   {
    "duration": 53,
    "start_time": "2022-10-28T15:45:50.272Z"
   },
   {
    "duration": 16,
    "start_time": "2022-10-28T15:45:50.327Z"
   },
   {
    "duration": 14,
    "start_time": "2022-10-28T15:45:50.346Z"
   },
   {
    "duration": 1180,
    "start_time": "2022-10-28T15:48:04.353Z"
   },
   {
    "duration": 1226,
    "start_time": "2022-10-28T15:48:21.808Z"
   },
   {
    "duration": 1347,
    "start_time": "2022-10-28T15:48:31.346Z"
   },
   {
    "duration": 1377,
    "start_time": "2022-10-28T15:48:41.506Z"
   },
   {
    "duration": 113,
    "start_time": "2022-10-28T15:48:42.885Z"
   },
   {
    "duration": 24,
    "start_time": "2022-10-28T15:48:43.000Z"
   },
   {
    "duration": 60,
    "start_time": "2022-10-28T15:48:43.027Z"
   },
   {
    "duration": 14,
    "start_time": "2022-10-28T15:48:43.089Z"
   },
   {
    "duration": 20,
    "start_time": "2022-10-28T15:48:43.105Z"
   },
   {
    "duration": 28,
    "start_time": "2022-10-28T15:48:43.127Z"
   },
   {
    "duration": 23,
    "start_time": "2022-10-28T15:48:43.156Z"
   },
   {
    "duration": 45,
    "start_time": "2022-10-28T15:48:43.181Z"
   },
   {
    "duration": 35,
    "start_time": "2022-10-28T15:48:43.231Z"
   },
   {
    "duration": 33,
    "start_time": "2022-10-28T15:48:43.267Z"
   },
   {
    "duration": 39,
    "start_time": "2022-10-28T15:48:43.302Z"
   },
   {
    "duration": 9,
    "start_time": "2022-10-28T15:48:43.343Z"
   },
   {
    "duration": 33,
    "start_time": "2022-10-28T15:48:43.354Z"
   },
   {
    "duration": 120,
    "start_time": "2022-10-28T15:48:43.389Z"
   },
   {
    "duration": 295,
    "start_time": "2022-10-28T15:48:43.511Z"
   },
   {
    "duration": 103,
    "start_time": "2022-10-28T15:48:43.808Z"
   },
   {
    "duration": 219,
    "start_time": "2022-10-28T15:48:43.913Z"
   },
   {
    "duration": 278,
    "start_time": "2022-10-28T15:48:44.135Z"
   },
   {
    "duration": 310,
    "start_time": "2022-10-28T15:48:44.425Z"
   },
   {
    "duration": 409,
    "start_time": "2022-10-28T15:48:44.737Z"
   },
   {
    "duration": 81,
    "start_time": "2022-10-28T15:48:45.148Z"
   },
   {
    "duration": 435,
    "start_time": "2022-10-28T15:48:45.231Z"
   },
   {
    "duration": 481,
    "start_time": "2022-10-28T15:48:45.668Z"
   },
   {
    "duration": 291,
    "start_time": "2022-10-28T15:48:46.151Z"
   },
   {
    "duration": 6,
    "start_time": "2022-10-28T15:48:46.444Z"
   },
   {
    "duration": 501,
    "start_time": "2022-10-28T15:48:46.452Z"
   },
   {
    "duration": 5,
    "start_time": "2022-10-28T15:48:46.957Z"
   },
   {
    "duration": 188,
    "start_time": "2022-10-28T15:48:46.963Z"
   },
   {
    "duration": 6,
    "start_time": "2022-10-28T15:48:47.153Z"
   },
   {
    "duration": 7,
    "start_time": "2022-10-28T15:48:47.161Z"
   },
   {
    "duration": 117,
    "start_time": "2022-10-28T15:48:47.170Z"
   },
   {
    "duration": 108,
    "start_time": "2022-10-28T15:48:47.289Z"
   },
   {
    "duration": 325,
    "start_time": "2022-10-28T15:48:47.399Z"
   },
   {
    "duration": 148,
    "start_time": "2022-10-28T15:48:47.725Z"
   },
   {
    "duration": 308,
    "start_time": "2022-10-28T15:48:47.875Z"
   },
   {
    "duration": 46,
    "start_time": "2022-10-28T15:48:48.185Z"
   },
   {
    "duration": 37,
    "start_time": "2022-10-28T15:48:48.233Z"
   },
   {
    "duration": 13,
    "start_time": "2022-10-28T15:48:48.272Z"
   },
   {
    "duration": 39,
    "start_time": "2022-10-28T15:48:48.287Z"
   },
   {
    "duration": 1146,
    "start_time": "2022-10-28T15:48:55.671Z"
   },
   {
    "duration": 1188,
    "start_time": "2022-10-28T15:49:09.224Z"
   },
   {
    "duration": 27,
    "start_time": "2022-10-28T15:49:13.414Z"
   },
   {
    "duration": 1242,
    "start_time": "2022-10-28T15:49:37.735Z"
   },
   {
    "duration": 111,
    "start_time": "2022-10-28T15:49:38.979Z"
   },
   {
    "duration": 24,
    "start_time": "2022-10-28T15:49:39.092Z"
   },
   {
    "duration": 34,
    "start_time": "2022-10-28T15:49:39.119Z"
   },
   {
    "duration": 10,
    "start_time": "2022-10-28T15:49:39.155Z"
   },
   {
    "duration": 7,
    "start_time": "2022-10-28T15:49:39.166Z"
   },
   {
    "duration": 3,
    "start_time": "2022-10-28T15:49:39.175Z"
   },
   {
    "duration": 7,
    "start_time": "2022-10-28T15:49:39.225Z"
   },
   {
    "duration": 15,
    "start_time": "2022-10-28T15:49:39.233Z"
   },
   {
    "duration": 14,
    "start_time": "2022-10-28T15:49:39.251Z"
   },
   {
    "duration": 7,
    "start_time": "2022-10-28T15:49:39.267Z"
   },
   {
    "duration": 56,
    "start_time": "2022-10-28T15:49:39.275Z"
   },
   {
    "duration": 7,
    "start_time": "2022-10-28T15:49:39.333Z"
   },
   {
    "duration": 10,
    "start_time": "2022-10-28T15:49:39.342Z"
   },
   {
    "duration": 122,
    "start_time": "2022-10-28T15:49:39.354Z"
   },
   {
    "duration": 306,
    "start_time": "2022-10-28T15:49:39.477Z"
   },
   {
    "duration": 104,
    "start_time": "2022-10-28T15:49:39.785Z"
   },
   {
    "duration": 206,
    "start_time": "2022-10-28T15:49:39.891Z"
   },
   {
    "duration": 337,
    "start_time": "2022-10-28T15:49:40.099Z"
   },
   {
    "duration": 297,
    "start_time": "2022-10-28T15:49:40.438Z"
   },
   {
    "duration": 195,
    "start_time": "2022-10-28T15:49:40.737Z"
   },
   {
    "duration": 15,
    "start_time": "2022-10-28T15:49:40.934Z"
   },
   {
    "duration": 243,
    "start_time": "2022-10-28T15:49:40.951Z"
   },
   {
    "duration": 321,
    "start_time": "2022-10-28T15:49:41.195Z"
   },
   {
    "duration": 155,
    "start_time": "2022-10-28T15:49:41.524Z"
   },
   {
    "duration": 6,
    "start_time": "2022-10-28T15:49:41.682Z"
   },
   {
    "duration": 280,
    "start_time": "2022-10-28T15:49:41.690Z"
   },
   {
    "duration": 6,
    "start_time": "2022-10-28T15:49:41.974Z"
   },
   {
    "duration": 149,
    "start_time": "2022-10-28T15:49:41.983Z"
   },
   {
    "duration": 6,
    "start_time": "2022-10-28T15:49:42.134Z"
   },
   {
    "duration": 6,
    "start_time": "2022-10-28T15:49:42.141Z"
   },
   {
    "duration": 116,
    "start_time": "2022-10-28T15:49:42.148Z"
   },
   {
    "duration": 194,
    "start_time": "2022-10-28T15:49:42.265Z"
   },
   {
    "duration": 500,
    "start_time": "2022-10-28T15:49:42.461Z"
   },
   {
    "duration": 287,
    "start_time": "2022-10-28T15:49:42.962Z"
   },
   {
    "duration": 494,
    "start_time": "2022-10-28T15:49:43.251Z"
   },
   {
    "duration": 84,
    "start_time": "2022-10-28T15:49:43.747Z"
   },
   {
    "duration": 91,
    "start_time": "2022-10-28T15:49:43.833Z"
   },
   {
    "duration": 13,
    "start_time": "2022-10-28T15:49:43.926Z"
   },
   {
    "duration": 15,
    "start_time": "2022-10-28T15:49:43.941Z"
   }
  ],
  "colab": {
   "provenance": []
  },
  "kernelspec": {
   "display_name": "Python 3 (ipykernel)",
   "language": "python",
   "name": "python3"
  },
  "language_info": {
   "codemirror_mode": {
    "name": "ipython",
    "version": 3
   },
   "file_extension": ".py",
   "mimetype": "text/x-python",
   "name": "python",
   "nbconvert_exporter": "python",
   "pygments_lexer": "ipython3",
   "version": "3.9.7"
  },
  "toc": {
   "base_numbering": "1",
   "nav_menu": {},
   "number_sections": true,
   "sideBar": true,
   "skip_h1_title": false,
   "title_cell": "Table of Contents",
   "title_sidebar": "Contents",
   "toc_cell": false,
   "toc_position": {
    "height": "calc(100% - 180px)",
    "left": "10px",
    "top": "150px",
    "width": "307.2px"
   },
   "toc_section_display": true,
   "toc_window_display": true
  }
 },
 "nbformat": 4,
 "nbformat_minor": 1
}
