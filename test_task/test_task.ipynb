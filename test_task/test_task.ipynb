{
 "cells": [
  {
   "cell_type": "markdown",
   "id": "28f756bb",
   "metadata": {},
   "source": [
    "# Тестовое задание для компании М"
   ]
  },
  {
   "cell_type": "markdown",
   "id": "f8ce0c2f",
   "metadata": {},
   "source": [
    "## Задание"
   ]
  },
  {
   "cell_type": "markdown",
   "id": "06a2fefc",
   "metadata": {},
   "source": [
    "Напишите скрипт, который решает задачу:\n",
    "- Формирует общий датасет, соединяя данные из таблицы обращений на сервере PostgreSQL с данными из файла csv.\n",
    "- Анализирует собранные данные на предмет их однородности и наличия аномалий.\n",
    "- Проверяет, существует ли взаимосвязь между количеством обращений с органики по бренду и количеством показов соответствующих поисковых фраз.\n",
    "\n",
    "Напишите пояснительную записку, в которой:\n",
    "- Кратко опишите подход к решению задачи.\n",
    "- Опишите результаты анализа: существует связь или нет, какие-то дополнительные ее характеристики (сила, статистическая значимость и подобное)\n"
   ]
  },
  {
   "cell_type": "markdown",
   "id": "ca1c8278",
   "metadata": {},
   "source": [
    "## Загрузка, предобработка и формирование общего датасета"
   ]
  },
  {
   "cell_type": "markdown",
   "id": "173e0199",
   "metadata": {},
   "source": [
    "### Загрузка таблиц и первичная предобработка"
   ]
  },
  {
   "cell_type": "markdown",
   "id": "a50f9ac1",
   "metadata": {},
   "source": [
    "Импортируем библиотеки"
   ]
  },
  {
   "cell_type": "code",
   "execution_count": 1,
   "id": "de08e933",
   "metadata": {},
   "outputs": [],
   "source": [
    "import pandas as pd \n",
    "from sqlalchemy import create_engine \n",
    "import seaborn as sns\n",
    "import matplotlib.pyplot as plt \n",
    "import numpy as np\n",
    "import scipy as sci\n",
    "from scipy import stats\n",
    "import json as JSON"
   ]
  },
  {
   "cell_type": "markdown",
   "id": "61f81a35",
   "metadata": {},
   "source": [
    "Открываем локальный датасет "
   ]
  },
  {
   "cell_type": "code",
   "execution_count": 2,
   "id": "957a0104",
   "metadata": {},
   "outputs": [],
   "source": [
    "path = 'phrases_shows.csv'\n",
    "wordstat_data = pd.read_csv(path, sep=';')"
   ]
  },
  {
   "cell_type": "code",
   "execution_count": 3,
   "id": "98c430c0",
   "metadata": {
    "scrolled": true
   },
   "outputs": [
    {
     "data": {
      "text/html": [
       "<div>\n",
       "<style scoped>\n",
       "    .dataframe tbody tr th:only-of-type {\n",
       "        vertical-align: middle;\n",
       "    }\n",
       "\n",
       "    .dataframe tbody tr th {\n",
       "        vertical-align: top;\n",
       "    }\n",
       "\n",
       "    .dataframe thead th {\n",
       "        text-align: right;\n",
       "    }\n",
       "</style>\n",
       "<table border=\"1\" class=\"dataframe\">\n",
       "  <thead>\n",
       "    <tr style=\"text-align: right;\">\n",
       "      <th></th>\n",
       "      <th>date</th>\n",
       "      <th>brand_id</th>\n",
       "      <th>phrase_id</th>\n",
       "      <th>shows</th>\n",
       "    </tr>\n",
       "  </thead>\n",
       "  <tbody>\n",
       "    <tr>\n",
       "      <th>0</th>\n",
       "      <td>2021-06-01</td>\n",
       "      <td>0</td>\n",
       "      <td>0</td>\n",
       "      <td>576</td>\n",
       "    </tr>\n",
       "    <tr>\n",
       "      <th>1</th>\n",
       "      <td>2021-06-01</td>\n",
       "      <td>0</td>\n",
       "      <td>1</td>\n",
       "      <td>90</td>\n",
       "    </tr>\n",
       "    <tr>\n",
       "      <th>2</th>\n",
       "      <td>2021-06-01</td>\n",
       "      <td>0</td>\n",
       "      <td>2</td>\n",
       "      <td>55</td>\n",
       "    </tr>\n",
       "    <tr>\n",
       "      <th>3</th>\n",
       "      <td>2021-06-01</td>\n",
       "      <td>0</td>\n",
       "      <td>3</td>\n",
       "      <td>144</td>\n",
       "    </tr>\n",
       "    <tr>\n",
       "      <th>4</th>\n",
       "      <td>2021-06-01</td>\n",
       "      <td>0</td>\n",
       "      <td>4</td>\n",
       "      <td>8</td>\n",
       "    </tr>\n",
       "    <tr>\n",
       "      <th>5</th>\n",
       "      <td>2021-06-01</td>\n",
       "      <td>0</td>\n",
       "      <td>5</td>\n",
       "      <td>66</td>\n",
       "    </tr>\n",
       "    <tr>\n",
       "      <th>6</th>\n",
       "      <td>2021-06-01</td>\n",
       "      <td>0</td>\n",
       "      <td>6</td>\n",
       "      <td>3</td>\n",
       "    </tr>\n",
       "    <tr>\n",
       "      <th>7</th>\n",
       "      <td>2021-06-01</td>\n",
       "      <td>0</td>\n",
       "      <td>7</td>\n",
       "      <td>8115</td>\n",
       "    </tr>\n",
       "    <tr>\n",
       "      <th>8</th>\n",
       "      <td>2021-06-01</td>\n",
       "      <td>0</td>\n",
       "      <td>8</td>\n",
       "      <td>1940</td>\n",
       "    </tr>\n",
       "    <tr>\n",
       "      <th>9</th>\n",
       "      <td>2021-06-01</td>\n",
       "      <td>0</td>\n",
       "      <td>9</td>\n",
       "      <td>526</td>\n",
       "    </tr>\n",
       "    <tr>\n",
       "      <th>10</th>\n",
       "      <td>2021-06-01</td>\n",
       "      <td>0</td>\n",
       "      <td>10</td>\n",
       "      <td>67</td>\n",
       "    </tr>\n",
       "    <tr>\n",
       "      <th>11</th>\n",
       "      <td>2021-06-01</td>\n",
       "      <td>1</td>\n",
       "      <td>11</td>\n",
       "      <td>1137</td>\n",
       "    </tr>\n",
       "    <tr>\n",
       "      <th>12</th>\n",
       "      <td>2021-06-01</td>\n",
       "      <td>1</td>\n",
       "      <td>12</td>\n",
       "      <td>98</td>\n",
       "    </tr>\n",
       "    <tr>\n",
       "      <th>13</th>\n",
       "      <td>2021-06-01</td>\n",
       "      <td>1</td>\n",
       "      <td>13</td>\n",
       "      <td>101</td>\n",
       "    </tr>\n",
       "    <tr>\n",
       "      <th>14</th>\n",
       "      <td>2021-06-01</td>\n",
       "      <td>1</td>\n",
       "      <td>14</td>\n",
       "      <td>196</td>\n",
       "    </tr>\n",
       "    <tr>\n",
       "      <th>15</th>\n",
       "      <td>2021-06-01</td>\n",
       "      <td>1</td>\n",
       "      <td>15</td>\n",
       "      <td>882</td>\n",
       "    </tr>\n",
       "    <tr>\n",
       "      <th>16</th>\n",
       "      <td>2021-06-01</td>\n",
       "      <td>1</td>\n",
       "      <td>16</td>\n",
       "      <td>87</td>\n",
       "    </tr>\n",
       "    <tr>\n",
       "      <th>17</th>\n",
       "      <td>2021-06-01</td>\n",
       "      <td>1</td>\n",
       "      <td>17</td>\n",
       "      <td>5078</td>\n",
       "    </tr>\n",
       "    <tr>\n",
       "      <th>18</th>\n",
       "      <td>2021-06-01</td>\n",
       "      <td>1</td>\n",
       "      <td>18</td>\n",
       "      <td>20790</td>\n",
       "    </tr>\n",
       "    <tr>\n",
       "      <th>19</th>\n",
       "      <td>2021-06-01</td>\n",
       "      <td>1</td>\n",
       "      <td>19</td>\n",
       "      <td>2003</td>\n",
       "    </tr>\n",
       "    <tr>\n",
       "      <th>20</th>\n",
       "      <td>2021-06-01</td>\n",
       "      <td>1</td>\n",
       "      <td>20</td>\n",
       "      <td>124</td>\n",
       "    </tr>\n",
       "    <tr>\n",
       "      <th>21</th>\n",
       "      <td>2021-06-01</td>\n",
       "      <td>1</td>\n",
       "      <td>21</td>\n",
       "      <td>1923</td>\n",
       "    </tr>\n",
       "    <tr>\n",
       "      <th>22</th>\n",
       "      <td>2021-06-01</td>\n",
       "      <td>1</td>\n",
       "      <td>22</td>\n",
       "      <td>222</td>\n",
       "    </tr>\n",
       "    <tr>\n",
       "      <th>23</th>\n",
       "      <td>2021-06-02</td>\n",
       "      <td>0</td>\n",
       "      <td>0</td>\n",
       "      <td>580</td>\n",
       "    </tr>\n",
       "    <tr>\n",
       "      <th>24</th>\n",
       "      <td>2021-06-02</td>\n",
       "      <td>0</td>\n",
       "      <td>1</td>\n",
       "      <td>83</td>\n",
       "    </tr>\n",
       "    <tr>\n",
       "      <th>25</th>\n",
       "      <td>2021-06-02</td>\n",
       "      <td>0</td>\n",
       "      <td>2</td>\n",
       "      <td>52</td>\n",
       "    </tr>\n",
       "    <tr>\n",
       "      <th>26</th>\n",
       "      <td>2021-06-02</td>\n",
       "      <td>0</td>\n",
       "      <td>3</td>\n",
       "      <td>147</td>\n",
       "    </tr>\n",
       "    <tr>\n",
       "      <th>27</th>\n",
       "      <td>2021-06-02</td>\n",
       "      <td>0</td>\n",
       "      <td>4</td>\n",
       "      <td>8</td>\n",
       "    </tr>\n",
       "    <tr>\n",
       "      <th>28</th>\n",
       "      <td>2021-06-02</td>\n",
       "      <td>0</td>\n",
       "      <td>5</td>\n",
       "      <td>66</td>\n",
       "    </tr>\n",
       "    <tr>\n",
       "      <th>29</th>\n",
       "      <td>2021-06-02</td>\n",
       "      <td>0</td>\n",
       "      <td>6</td>\n",
       "      <td>4</td>\n",
       "    </tr>\n",
       "    <tr>\n",
       "      <th>30</th>\n",
       "      <td>2021-06-02</td>\n",
       "      <td>0</td>\n",
       "      <td>7</td>\n",
       "      <td>8092</td>\n",
       "    </tr>\n",
       "    <tr>\n",
       "      <th>31</th>\n",
       "      <td>2021-06-02</td>\n",
       "      <td>0</td>\n",
       "      <td>8</td>\n",
       "      <td>1929</td>\n",
       "    </tr>\n",
       "    <tr>\n",
       "      <th>32</th>\n",
       "      <td>2021-06-02</td>\n",
       "      <td>0</td>\n",
       "      <td>9</td>\n",
       "      <td>509</td>\n",
       "    </tr>\n",
       "    <tr>\n",
       "      <th>33</th>\n",
       "      <td>2021-06-02</td>\n",
       "      <td>0</td>\n",
       "      <td>10</td>\n",
       "      <td>63</td>\n",
       "    </tr>\n",
       "    <tr>\n",
       "      <th>34</th>\n",
       "      <td>2021-06-02</td>\n",
       "      <td>1</td>\n",
       "      <td>11</td>\n",
       "      <td>1124</td>\n",
       "    </tr>\n",
       "    <tr>\n",
       "      <th>35</th>\n",
       "      <td>2021-06-02</td>\n",
       "      <td>1</td>\n",
       "      <td>12</td>\n",
       "      <td>93</td>\n",
       "    </tr>\n",
       "    <tr>\n",
       "      <th>36</th>\n",
       "      <td>2021-06-02</td>\n",
       "      <td>1</td>\n",
       "      <td>13</td>\n",
       "      <td>101</td>\n",
       "    </tr>\n",
       "    <tr>\n",
       "      <th>37</th>\n",
       "      <td>2021-06-02</td>\n",
       "      <td>1</td>\n",
       "      <td>14</td>\n",
       "      <td>209</td>\n",
       "    </tr>\n",
       "    <tr>\n",
       "      <th>38</th>\n",
       "      <td>2021-06-02</td>\n",
       "      <td>1</td>\n",
       "      <td>15</td>\n",
       "      <td>896</td>\n",
       "    </tr>\n",
       "    <tr>\n",
       "      <th>39</th>\n",
       "      <td>2021-06-02</td>\n",
       "      <td>1</td>\n",
       "      <td>16</td>\n",
       "      <td>83</td>\n",
       "    </tr>\n",
       "    <tr>\n",
       "      <th>40</th>\n",
       "      <td>2021-06-02</td>\n",
       "      <td>1</td>\n",
       "      <td>17</td>\n",
       "      <td>5096</td>\n",
       "    </tr>\n",
       "    <tr>\n",
       "      <th>41</th>\n",
       "      <td>2021-06-02</td>\n",
       "      <td>1</td>\n",
       "      <td>18</td>\n",
       "      <td>20786</td>\n",
       "    </tr>\n",
       "    <tr>\n",
       "      <th>42</th>\n",
       "      <td>2021-06-02</td>\n",
       "      <td>1</td>\n",
       "      <td>19</td>\n",
       "      <td>2006</td>\n",
       "    </tr>\n",
       "    <tr>\n",
       "      <th>43</th>\n",
       "      <td>2021-06-02</td>\n",
       "      <td>1</td>\n",
       "      <td>20</td>\n",
       "      <td>124</td>\n",
       "    </tr>\n",
       "    <tr>\n",
       "      <th>44</th>\n",
       "      <td>2021-06-02</td>\n",
       "      <td>1</td>\n",
       "      <td>21</td>\n",
       "      <td>1914</td>\n",
       "    </tr>\n",
       "    <tr>\n",
       "      <th>45</th>\n",
       "      <td>2021-06-02</td>\n",
       "      <td>1</td>\n",
       "      <td>22</td>\n",
       "      <td>217</td>\n",
       "    </tr>\n",
       "    <tr>\n",
       "      <th>46</th>\n",
       "      <td>2021-06-03</td>\n",
       "      <td>0</td>\n",
       "      <td>0</td>\n",
       "      <td>585</td>\n",
       "    </tr>\n",
       "    <tr>\n",
       "      <th>47</th>\n",
       "      <td>2021-06-03</td>\n",
       "      <td>0</td>\n",
       "      <td>1</td>\n",
       "      <td>81</td>\n",
       "    </tr>\n",
       "    <tr>\n",
       "      <th>48</th>\n",
       "      <td>2021-06-03</td>\n",
       "      <td>0</td>\n",
       "      <td>2</td>\n",
       "      <td>49</td>\n",
       "    </tr>\n",
       "    <tr>\n",
       "      <th>49</th>\n",
       "      <td>2021-06-03</td>\n",
       "      <td>0</td>\n",
       "      <td>3</td>\n",
       "      <td>146</td>\n",
       "    </tr>\n",
       "  </tbody>\n",
       "</table>\n",
       "</div>"
      ],
      "text/plain": [
       "          date  brand_id  phrase_id  shows\n",
       "0   2021-06-01         0          0    576\n",
       "1   2021-06-01         0          1     90\n",
       "2   2021-06-01         0          2     55\n",
       "3   2021-06-01         0          3    144\n",
       "4   2021-06-01         0          4      8\n",
       "5   2021-06-01         0          5     66\n",
       "6   2021-06-01         0          6      3\n",
       "7   2021-06-01         0          7   8115\n",
       "8   2021-06-01         0          8   1940\n",
       "9   2021-06-01         0          9    526\n",
       "10  2021-06-01         0         10     67\n",
       "11  2021-06-01         1         11   1137\n",
       "12  2021-06-01         1         12     98\n",
       "13  2021-06-01         1         13    101\n",
       "14  2021-06-01         1         14    196\n",
       "15  2021-06-01         1         15    882\n",
       "16  2021-06-01         1         16     87\n",
       "17  2021-06-01         1         17   5078\n",
       "18  2021-06-01         1         18  20790\n",
       "19  2021-06-01         1         19   2003\n",
       "20  2021-06-01         1         20    124\n",
       "21  2021-06-01         1         21   1923\n",
       "22  2021-06-01         1         22    222\n",
       "23  2021-06-02         0          0    580\n",
       "24  2021-06-02         0          1     83\n",
       "25  2021-06-02         0          2     52\n",
       "26  2021-06-02         0          3    147\n",
       "27  2021-06-02         0          4      8\n",
       "28  2021-06-02         0          5     66\n",
       "29  2021-06-02         0          6      4\n",
       "30  2021-06-02         0          7   8092\n",
       "31  2021-06-02         0          8   1929\n",
       "32  2021-06-02         0          9    509\n",
       "33  2021-06-02         0         10     63\n",
       "34  2021-06-02         1         11   1124\n",
       "35  2021-06-02         1         12     93\n",
       "36  2021-06-02         1         13    101\n",
       "37  2021-06-02         1         14    209\n",
       "38  2021-06-02         1         15    896\n",
       "39  2021-06-02         1         16     83\n",
       "40  2021-06-02         1         17   5096\n",
       "41  2021-06-02         1         18  20786\n",
       "42  2021-06-02         1         19   2006\n",
       "43  2021-06-02         1         20    124\n",
       "44  2021-06-02         1         21   1914\n",
       "45  2021-06-02         1         22    217\n",
       "46  2021-06-03         0          0    585\n",
       "47  2021-06-03         0          1     81\n",
       "48  2021-06-03         0          2     49\n",
       "49  2021-06-03         0          3    146"
      ]
     },
     "execution_count": 3,
     "metadata": {},
     "output_type": "execute_result"
    }
   ],
   "source": [
    "wordstat_data.head(50)"
   ]
  },
  {
   "cell_type": "code",
   "execution_count": 4,
   "id": "51021862",
   "metadata": {},
   "outputs": [
    {
     "name": "stdout",
     "output_type": "stream",
     "text": [
      "<class 'pandas.core.frame.DataFrame'>\n",
      "RangeIndex: 2668 entries, 0 to 2667\n",
      "Data columns (total 4 columns):\n",
      " #   Column     Non-Null Count  Dtype \n",
      "---  ------     --------------  ----- \n",
      " 0   date       2668 non-null   object\n",
      " 1   brand_id   2668 non-null   int64 \n",
      " 2   phrase_id  2668 non-null   int64 \n",
      " 3   shows      2668 non-null   int64 \n",
      "dtypes: int64(3), object(1)\n",
      "memory usage: 83.5+ KB\n"
     ]
    }
   ],
   "source": [
    "wordstat_data.info()"
   ]
  },
  {
   "cell_type": "markdown",
   "id": "82a168e8",
   "metadata": {},
   "source": [
    "Подключаемся к базе данных PostgreSQL. Записываем данные для авторизации в объект `db_config`, и передаем функции `create_engine()` строку для соединения с базой данных. База данных, порт подключения, имя и пароль пользователя предварительно записы в файл `dict.json`"
   ]
  },
  {
   "cell_type": "code",
   "execution_count": 5,
   "id": "1f46d038",
   "metadata": {},
   "outputs": [],
   "source": [
    "with open('dict.json') as json_data:\n",
    "    db_config = JSON.load(json_data)\n",
    "\n",
    "connection_string = 'postgresql://{}:{}@{}:{}/{}'.format(\n",
    "    db_config['user'],\n",
    "    db_config['pwd'],\n",
    "    db_config['host'],\n",
    "    db_config['port'],\n",
    "    db_config['db'],\n",
    ") \n",
    "\n",
    "engine = create_engine(connection_string) # создание соединения"
   ]
  },
  {
   "cell_type": "markdown",
   "id": "305b5cb9",
   "metadata": {},
   "source": [
    "Извлекаем результаты SQL-запроса"
   ]
  },
  {
   "cell_type": "code",
   "execution_count": 6,
   "id": "46bf6cf7",
   "metadata": {},
   "outputs": [],
   "source": [
    "query = '''\n",
    "SELECT *\n",
    "FROM wordstat_data.communications\n",
    "'''"
   ]
  },
  {
   "cell_type": "code",
   "execution_count": 7,
   "id": "15e3361d",
   "metadata": {},
   "outputs": [],
   "source": [
    "data = pd.read_sql_query(query, con = engine) "
   ]
  },
  {
   "cell_type": "code",
   "execution_count": 8,
   "id": "a1aa7af6",
   "metadata": {},
   "outputs": [
    {
     "data": {
      "text/html": [
       "<div>\n",
       "<style scoped>\n",
       "    .dataframe tbody tr th:only-of-type {\n",
       "        vertical-align: middle;\n",
       "    }\n",
       "\n",
       "    .dataframe tbody tr th {\n",
       "        vertical-align: top;\n",
       "    }\n",
       "\n",
       "    .dataframe thead th {\n",
       "        text-align: right;\n",
       "    }\n",
       "</style>\n",
       "<table border=\"1\" class=\"dataframe\">\n",
       "  <thead>\n",
       "    <tr style=\"text-align: right;\">\n",
       "      <th></th>\n",
       "      <th>communication_id</th>\n",
       "      <th>date_time</th>\n",
       "      <th>brand_id</th>\n",
       "      <th>source_type</th>\n",
       "    </tr>\n",
       "  </thead>\n",
       "  <tbody>\n",
       "    <tr>\n",
       "      <th>0</th>\n",
       "      <td>11394944</td>\n",
       "      <td>2021-06-01 00:41:20</td>\n",
       "      <td>1</td>\n",
       "      <td>other</td>\n",
       "    </tr>\n",
       "    <tr>\n",
       "      <th>1</th>\n",
       "      <td>11395343</td>\n",
       "      <td>2021-06-01 01:33:09</td>\n",
       "      <td>1</td>\n",
       "      <td>other</td>\n",
       "    </tr>\n",
       "    <tr>\n",
       "      <th>2</th>\n",
       "      <td>11397299</td>\n",
       "      <td>2021-06-01 06:02:29</td>\n",
       "      <td>1</td>\n",
       "      <td>other</td>\n",
       "    </tr>\n",
       "    <tr>\n",
       "      <th>3</th>\n",
       "      <td>1656035517</td>\n",
       "      <td>2021-06-01 06:09:14</td>\n",
       "      <td>0</td>\n",
       "      <td>other</td>\n",
       "    </tr>\n",
       "    <tr>\n",
       "      <th>4</th>\n",
       "      <td>11397353</td>\n",
       "      <td>2021-06-01 06:13:20</td>\n",
       "      <td>1</td>\n",
       "      <td>other</td>\n",
       "    </tr>\n",
       "    <tr>\n",
       "      <th>5</th>\n",
       "      <td>11397365</td>\n",
       "      <td>2021-06-01 06:15:35</td>\n",
       "      <td>0</td>\n",
       "      <td>other</td>\n",
       "    </tr>\n",
       "    <tr>\n",
       "      <th>6</th>\n",
       "      <td>11397374</td>\n",
       "      <td>2021-06-01 06:16:06</td>\n",
       "      <td>1</td>\n",
       "      <td>other</td>\n",
       "    </tr>\n",
       "    <tr>\n",
       "      <th>7</th>\n",
       "      <td>1656040719</td>\n",
       "      <td>2021-06-01 06:20:49</td>\n",
       "      <td>0</td>\n",
       "      <td>other</td>\n",
       "    </tr>\n",
       "    <tr>\n",
       "      <th>8</th>\n",
       "      <td>11397383</td>\n",
       "      <td>2021-06-01 06:20:53</td>\n",
       "      <td>1</td>\n",
       "      <td>other</td>\n",
       "    </tr>\n",
       "    <tr>\n",
       "      <th>9</th>\n",
       "      <td>11397386</td>\n",
       "      <td>2021-06-01 06:21:29</td>\n",
       "      <td>0</td>\n",
       "      <td>other</td>\n",
       "    </tr>\n",
       "  </tbody>\n",
       "</table>\n",
       "</div>"
      ],
      "text/plain": [
       "   communication_id           date_time  brand_id source_type\n",
       "0          11394944 2021-06-01 00:41:20         1       other\n",
       "1          11395343 2021-06-01 01:33:09         1       other\n",
       "2          11397299 2021-06-01 06:02:29         1       other\n",
       "3        1656035517 2021-06-01 06:09:14         0       other\n",
       "4          11397353 2021-06-01 06:13:20         1       other\n",
       "5          11397365 2021-06-01 06:15:35         0       other\n",
       "6          11397374 2021-06-01 06:16:06         1       other\n",
       "7        1656040719 2021-06-01 06:20:49         0       other\n",
       "8          11397383 2021-06-01 06:20:53         1       other\n",
       "9          11397386 2021-06-01 06:21:29         0       other"
      ]
     },
     "execution_count": 8,
     "metadata": {},
     "output_type": "execute_result"
    }
   ],
   "source": [
    "data.head(10)"
   ]
  },
  {
   "cell_type": "code",
   "execution_count": 9,
   "id": "f7a89ae6",
   "metadata": {},
   "outputs": [
    {
     "name": "stdout",
     "output_type": "stream",
     "text": [
      "<class 'pandas.core.frame.DataFrame'>\n",
      "RangeIndex: 25162 entries, 0 to 25161\n",
      "Data columns (total 4 columns):\n",
      " #   Column            Non-Null Count  Dtype         \n",
      "---  ------            --------------  -----         \n",
      " 0   communication_id  25162 non-null  int64         \n",
      " 1   date_time         25162 non-null  datetime64[ns]\n",
      " 2   brand_id          25162 non-null  int64         \n",
      " 3   source_type       25162 non-null  object        \n",
      "dtypes: datetime64[ns](1), int64(2), object(1)\n",
      "memory usage: 786.4+ KB\n"
     ]
    }
   ],
   "source": [
    "data.info()"
   ]
  },
  {
   "cell_type": "markdown",
   "id": "958d1955",
   "metadata": {},
   "source": [
    "Приводим некоторые столбцы к формату `datetime`"
   ]
  },
  {
   "cell_type": "code",
   "execution_count": 10,
   "id": "37b14da4",
   "metadata": {},
   "outputs": [],
   "source": [
    "data['date'] = pd.to_datetime(data['date_time'].dt.date)\n",
    "wordstat_data['date'] = pd.to_datetime(wordstat_data['date'])"
   ]
  },
  {
   "cell_type": "markdown",
   "id": "94010a00",
   "metadata": {},
   "source": [
    "Проверяем пропуски и явные дубликаты"
   ]
  },
  {
   "cell_type": "code",
   "execution_count": 11,
   "id": "2cfb0871",
   "metadata": {},
   "outputs": [
    {
     "data": {
      "text/plain": [
       "communication_id    0\n",
       "date_time           0\n",
       "brand_id            0\n",
       "source_type         0\n",
       "date                0\n",
       "dtype: int64"
      ]
     },
     "metadata": {},
     "output_type": "display_data"
    },
    {
     "data": {
      "text/plain": [
       "date         0\n",
       "brand_id     0\n",
       "phrase_id    0\n",
       "shows        0\n",
       "dtype: int64"
      ]
     },
     "metadata": {},
     "output_type": "display_data"
    }
   ],
   "source": [
    "display (data.isna().sum())\n",
    "display (wordstat_data.isna().sum())"
   ]
  },
  {
   "cell_type": "code",
   "execution_count": 12,
   "id": "dd096f2b",
   "metadata": {},
   "outputs": [
    {
     "data": {
      "text/plain": [
       "0"
      ]
     },
     "metadata": {},
     "output_type": "display_data"
    },
    {
     "data": {
      "text/plain": [
       "0"
      ]
     },
     "metadata": {},
     "output_type": "display_data"
    },
    {
     "data": {
      "text/plain": [
       "0"
      ]
     },
     "metadata": {},
     "output_type": "display_data"
    }
   ],
   "source": [
    "display (data.duplicated().sum())\n",
    "display (wordstat_data.duplicated().sum())\n",
    "display (data['communication_id'].duplicated().sum())"
   ]
  },
  {
   "cell_type": "markdown",
   "id": "b4f53aad",
   "metadata": {},
   "source": [
    "Явные дубликаты и пропуски в Датафрейме отсутствуют"
   ]
  },
  {
   "cell_type": "markdown",
   "id": "950622a9",
   "metadata": {},
   "source": [
    "Проверяем неявные дубликаты "
   ]
  },
  {
   "cell_type": "code",
   "execution_count": 13,
   "id": "3dea78fa",
   "metadata": {
    "scrolled": true
   },
   "outputs": [
    {
     "data": {
      "text/plain": [
       "array([1, 0], dtype=int64)"
      ]
     },
     "metadata": {},
     "output_type": "display_data"
    },
    {
     "data": {
      "text/plain": [
       "array(['other', 'organic'], dtype=object)"
      ]
     },
     "metadata": {},
     "output_type": "display_data"
    },
    {
     "data": {
      "text/plain": [
       "array([ 0,  1,  2,  3,  4,  5,  6,  7,  8,  9, 10, 11, 12, 13, 14, 15, 16,\n",
       "       17, 18, 19, 20, 21, 22, 23, 24, 25, 26, 27, 28, 29, 30, 31, 32, 33,\n",
       "       34, 35, 36, 37, 38, 39, 40, 41, 42, 43, 44, 45, 46], dtype=int64)"
      ]
     },
     "metadata": {},
     "output_type": "display_data"
    }
   ],
   "source": [
    "display (data['brand_id'].unique())\n",
    "display (data['source_type'].unique())\n",
    "display (wordstat_data['phrase_id'].unique())"
   ]
  },
  {
   "cell_type": "code",
   "execution_count": 14,
   "id": "8129b91c",
   "metadata": {
    "scrolled": true
   },
   "outputs": [
    {
     "data": {
      "image/png": "[encoded data removed]",
      "text/plain": [
       "<Figure size 432x288 with 1 Axes>"
      ]
     },
     "metadata": {
      "needs_background": "light"
     },
     "output_type": "display_data"
    }
   ],
   "source": [
    "plt.title('Количество поисковых фраз в Wordstat по дням')\n",
    "wordstat_data.groupby('date').phrase_id.count().plot();"
   ]
  },
  {
   "cell_type": "code",
   "execution_count": 15,
   "id": "fd7042c0",
   "metadata": {
    "scrolled": true
   },
   "outputs": [
    {
     "data": {
      "text/plain": [
       "date\n",
       "2021-08-07    23\n",
       "2021-08-08    23\n",
       "2021-08-09    47\n",
       "2021-08-10    47\n",
       "2021-08-11    47\n",
       "2021-08-12    47\n",
       "2021-08-13    47\n",
       "2021-08-14    47\n",
       "2021-08-15    47\n",
       "2021-08-16    47\n",
       "2021-08-17    47\n",
       "2021-08-18    47\n",
       "2021-08-19    47\n",
       "2021-08-20    47\n",
       "2021-08-21    47\n",
       "2021-08-22    47\n",
       "2021-08-23    47\n",
       "2021-08-24    47\n",
       "2021-08-25    47\n",
       "2021-08-26    47\n",
       "2021-08-27    47\n",
       "2021-08-28    47\n",
       "2021-08-29    47\n",
       "2021-08-30    47\n",
       "2021-08-31    47\n",
       "Name: phrase_id, dtype: int64"
      ]
     },
     "execution_count": 15,
     "metadata": {},
     "output_type": "execute_result"
    }
   ],
   "source": [
    "wordstat_data.groupby('date').phrase_id.count().tail(25)"
   ]
  },
  {
   "cell_type": "markdown",
   "id": "936112a9",
   "metadata": {},
   "source": [
    "Начиная с 9 августа в датасет добавляются новые фразы с вордстата. Исключим их из таблицы, чтобы они не искажали результаты дальнейшего анализа"
   ]
  },
  {
   "cell_type": "code",
   "execution_count": 16,
   "id": "8baad649",
   "metadata": {},
   "outputs": [],
   "source": [
    "wordstat_data = wordstat_data.query('phrase_id <= 22')"
   ]
  },
  {
   "cell_type": "code",
   "execution_count": 17,
   "id": "2d4ba0d0",
   "metadata": {},
   "outputs": [
    {
     "name": "stdout",
     "output_type": "stream",
     "text": [
      "Рассматриваемый период: c 2021-06-01 по 2021-08-31\n"
     ]
    }
   ],
   "source": [
    "print (f'Рассматриваемый период: c {wordstat_data.date.min().date()} по {wordstat_data.date.max().date()}')"
   ]
  },
  {
   "cell_type": "markdown",
   "id": "4b6b3147",
   "metadata": {},
   "source": [
    "### Объединение датафрейма"
   ]
  },
  {
   "cell_type": "markdown",
   "id": "ab93a2a7",
   "metadata": {},
   "source": [
    "Объеденим два датасета в один, агрегируя существующие данные"
   ]
  },
  {
   "cell_type": "code",
   "execution_count": 18,
   "id": "e7992900",
   "metadata": {
    "scrolled": true
   },
   "outputs": [
    {
     "data": {
      "text/html": [
       "<div>\n",
       "<style scoped>\n",
       "    .dataframe tbody tr th:only-of-type {\n",
       "        vertical-align: middle;\n",
       "    }\n",
       "\n",
       "    .dataframe tbody tr th {\n",
       "        vertical-align: top;\n",
       "    }\n",
       "\n",
       "    .dataframe thead th {\n",
       "        text-align: right;\n",
       "    }\n",
       "</style>\n",
       "<table border=\"1\" class=\"dataframe\">\n",
       "  <thead>\n",
       "    <tr style=\"text-align: right;\">\n",
       "      <th></th>\n",
       "      <th>date</th>\n",
       "      <th>brand_id</th>\n",
       "      <th>source_type</th>\n",
       "      <th>leads</th>\n",
       "      <th>phrases</th>\n",
       "      <th>shows</th>\n",
       "    </tr>\n",
       "  </thead>\n",
       "  <tbody>\n",
       "    <tr>\n",
       "      <th>0</th>\n",
       "      <td>2021-06-01</td>\n",
       "      <td>0</td>\n",
       "      <td>organic</td>\n",
       "      <td>3</td>\n",
       "      <td>11</td>\n",
       "      <td>11590</td>\n",
       "    </tr>\n",
       "    <tr>\n",
       "      <th>1</th>\n",
       "      <td>2021-06-01</td>\n",
       "      <td>0</td>\n",
       "      <td>other</td>\n",
       "      <td>184</td>\n",
       "      <td>11</td>\n",
       "      <td>11590</td>\n",
       "    </tr>\n",
       "    <tr>\n",
       "      <th>2</th>\n",
       "      <td>2021-06-01</td>\n",
       "      <td>1</td>\n",
       "      <td>organic</td>\n",
       "      <td>15</td>\n",
       "      <td>12</td>\n",
       "      <td>32641</td>\n",
       "    </tr>\n",
       "    <tr>\n",
       "      <th>3</th>\n",
       "      <td>2021-06-01</td>\n",
       "      <td>1</td>\n",
       "      <td>other</td>\n",
       "      <td>201</td>\n",
       "      <td>12</td>\n",
       "      <td>32641</td>\n",
       "    </tr>\n",
       "    <tr>\n",
       "      <th>4</th>\n",
       "      <td>2021-06-02</td>\n",
       "      <td>0</td>\n",
       "      <td>organic</td>\n",
       "      <td>5</td>\n",
       "      <td>11</td>\n",
       "      <td>11533</td>\n",
       "    </tr>\n",
       "    <tr>\n",
       "      <th>...</th>\n",
       "      <td>...</td>\n",
       "      <td>...</td>\n",
       "      <td>...</td>\n",
       "      <td>...</td>\n",
       "      <td>...</td>\n",
       "      <td>...</td>\n",
       "    </tr>\n",
       "    <tr>\n",
       "      <th>362</th>\n",
       "      <td>2021-08-30</td>\n",
       "      <td>1</td>\n",
       "      <td>other</td>\n",
       "      <td>151</td>\n",
       "      <td>12</td>\n",
       "      <td>38541</td>\n",
       "    </tr>\n",
       "    <tr>\n",
       "      <th>363</th>\n",
       "      <td>2021-08-31</td>\n",
       "      <td>0</td>\n",
       "      <td>organic</td>\n",
       "      <td>8</td>\n",
       "      <td>11</td>\n",
       "      <td>14999</td>\n",
       "    </tr>\n",
       "    <tr>\n",
       "      <th>364</th>\n",
       "      <td>2021-08-31</td>\n",
       "      <td>0</td>\n",
       "      <td>other</td>\n",
       "      <td>146</td>\n",
       "      <td>11</td>\n",
       "      <td>14999</td>\n",
       "    </tr>\n",
       "    <tr>\n",
       "      <th>365</th>\n",
       "      <td>2021-08-31</td>\n",
       "      <td>1</td>\n",
       "      <td>organic</td>\n",
       "      <td>10</td>\n",
       "      <td>12</td>\n",
       "      <td>38485</td>\n",
       "    </tr>\n",
       "    <tr>\n",
       "      <th>366</th>\n",
       "      <td>2021-08-31</td>\n",
       "      <td>1</td>\n",
       "      <td>other</td>\n",
       "      <td>155</td>\n",
       "      <td>12</td>\n",
       "      <td>38485</td>\n",
       "    </tr>\n",
       "  </tbody>\n",
       "</table>\n",
       "<p>367 rows × 6 columns</p>\n",
       "</div>"
      ],
      "text/plain": [
       "          date  brand_id source_type  leads  phrases  shows\n",
       "0   2021-06-01         0     organic      3       11  11590\n",
       "1   2021-06-01         0       other    184       11  11590\n",
       "2   2021-06-01         1     organic     15       12  32641\n",
       "3   2021-06-01         1       other    201       12  32641\n",
       "4   2021-06-02         0     organic      5       11  11533\n",
       "..         ...       ...         ...    ...      ...    ...\n",
       "362 2021-08-30         1       other    151       12  38541\n",
       "363 2021-08-31         0     organic      8       11  14999\n",
       "364 2021-08-31         0       other    146       11  14999\n",
       "365 2021-08-31         1     organic     10       12  38485\n",
       "366 2021-08-31         1       other    155       12  38485\n",
       "\n",
       "[367 rows x 6 columns]"
      ]
     },
     "execution_count": 18,
     "metadata": {},
     "output_type": "execute_result"
    }
   ],
   "source": [
    "# Переменные с датафреймами агрегированных значений, которые нужно объединить \n",
    "data_agg = data.groupby(['date', 'brand_id', 'source_type'], as_index=False).agg({'communication_id':'count'})\n",
    "wordstat_data_agg = wordstat_data.groupby(['date', 'brand_id'], as_index=False).agg({'phrase_id':'count', 'shows':'sum'})\n",
    "\n",
    "merged_data = pd.merge(data_agg, wordstat_data_agg, on=('date','brand_id'))\n",
    "\n",
    "merged_data.sort_values(by=['date', 'brand_id', 'source_type']).head(30)\n",
    "merged_data.columns = ['date', 'brand_id', 'source_type', 'leads', 'phrases', 'shows']\n",
    "\n",
    "merged_data"
   ]
  },
  {
   "cell_type": "markdown",
   "id": "7a139dca",
   "metadata": {},
   "source": [
    "## Анализ данных на наличие аномалий"
   ]
  },
  {
   "cell_type": "markdown",
   "id": "6175b462",
   "metadata": {},
   "source": [
    "Определим наличие выбросов в данных, используя диаграммы размаха"
   ]
  },
  {
   "cell_type": "code",
   "execution_count": 19,
   "id": "29836072",
   "metadata": {},
   "outputs": [
    {
     "data": {
      "image/png": "[encoded data removed]",
      "text/plain": [
       "<Figure size 864x576 with 1 Axes>"
      ]
     },
     "metadata": {
      "needs_background": "light"
     },
     "output_type": "display_data"
    }
   ],
   "source": [
    "sns.set_palette(\"Set2\")\n",
    "plt.figure(figsize=(12,8))\n",
    "plt.title('График Boxplot по количеству ежедневных обращений по разным брендам из разных типов источника')\n",
    "sns.boxplot(x='brand_id', y='leads', hue='source_type', showfliers=True, data=merged_data);"
   ]
  },
  {
   "cell_type": "code",
   "execution_count": 20,
   "id": "df9f0998",
   "metadata": {},
   "outputs": [
    {
     "data": {
      "image/png": "[encoded data removed]",
      "text/plain": [
       "<Figure size 864x576 with 1 Axes>"
      ]
     },
     "metadata": {
      "needs_background": "light"
     },
     "output_type": "display_data"
    }
   ],
   "source": [
    "plt.figure(figsize=(12,8))\n",
    "plt.title('График Boxplot по количеству ежедневных обращений по разным брендам с канала органики')\n",
    "sns.boxplot(x='brand_id', y='leads', data=merged_data.query('source_type == \"organic\"'));"
   ]
  },
  {
   "cell_type": "code",
   "execution_count": 21,
   "id": "3799b9e1",
   "metadata": {},
   "outputs": [
    {
     "data": {
      "image/png": "[encoded data removed]",
      "text/plain": [
       "<Figure size 864x576 with 1 Axes>"
      ]
     },
     "metadata": {
      "needs_background": "light"
     },
     "output_type": "display_data"
    }
   ],
   "source": [
    "plt.figure(figsize=(12,8))\n",
    "plt.title('График Boxplot по количеству показов запросов по разным брендам')\n",
    "sns.boxplot(x='brand_id', y='shows',  showfliers=True, data=merged_data);"
   ]
  },
  {
   "cell_type": "code",
   "execution_count": 22,
   "id": "a9944c6f",
   "metadata": {},
   "outputs": [
    {
     "data": {
      "image/png": "[encoded data removed]",
      "text/plain": [
       "<Figure size 864x576 with 1 Axes>"
      ]
     },
     "metadata": {
      "needs_background": "light"
     },
     "output_type": "display_data"
    }
   ],
   "source": [
    "plt.figure(figsize=(12,8))\n",
    "sns.boxplot(x='brand_id', y='shows', data=merged_data.query('shows < 15000'));"
   ]
  },
  {
   "cell_type": "markdown",
   "id": "cefd4909",
   "metadata": {},
   "source": [
    "Выбросов и аномалий не наблюдается"
   ]
  },
  {
   "cell_type": "markdown",
   "id": "e2bf21ad",
   "metadata": {},
   "source": [
    "Ограничим датафрейм органическим трафиком"
   ]
  },
  {
   "cell_type": "code",
   "execution_count": 23,
   "id": "b05ef6b2",
   "metadata": {},
   "outputs": [],
   "source": [
    "merged_data_org = merged_data.query('source_type == \"organic\"')"
   ]
  },
  {
   "cell_type": "code",
   "execution_count": 24,
   "id": "1ad4a1d8",
   "metadata": {
    "scrolled": false
   },
   "outputs": [
    {
     "data": {
      "image/png": "[encoded data removed]",
      "text/plain": [
       "<Figure size 591.5x540 with 12 Axes>"
      ]
     },
     "metadata": {
      "needs_background": "light"
     },
     "output_type": "display_data"
    }
   ],
   "source": [
    "sns.pairplot(merged_data_org, hue=\"brand_id\");"
   ]
  },
  {
   "cell_type": "markdown",
   "id": "e046a7b3",
   "metadata": {},
   "source": [
    "## Исследование взаимосвязи значений"
   ]
  },
  {
   "cell_type": "markdown",
   "id": "9980bbeb",
   "metadata": {},
   "source": [
    "По заданию необходимо оценить взаимосвязь между количеством обращений с органики по бренду и количеством показов соответствующих поисковых фраз.\n",
    "Сформулируем нулевую `H_0` и альтернативную `H_a` гипотезы:\n",
    "\n",
    "`H_0`:  Существует взаимосвязь между количеством обращений с органики по бренду и количеством показов соответствующих поисковых фраз.\n",
    "\n",
    "`H_a`: Взаимосвязи между количеством обращений с органики по бренду и количеством показов соответствующих поисковых фраз нет."
   ]
  },
  {
   "cell_type": "markdown",
   "id": "4c627f68",
   "metadata": {},
   "source": [
    "Разделим отфильтрованный органикой датафрейм на 2 таблицы по разным брендам"
   ]
  },
  {
   "cell_type": "code",
   "execution_count": 25,
   "id": "4cc63414",
   "metadata": {
    "scrolled": true
   },
   "outputs": [],
   "source": [
    "merged_data_org0 = merged_data_org.query('brand_id == 0').reset_index(drop=True)\n",
    "merged_data_org1 = merged_data_org.query('brand_id == 1').reset_index(drop=True)"
   ]
  },
  {
   "cell_type": "code",
   "execution_count": 26,
   "id": "47945ed4",
   "metadata": {},
   "outputs": [
    {
     "data": {
      "text/plain": [
       "date           0\n",
       "brand_id       0\n",
       "source_type    0\n",
       "leads          0\n",
       "phrases        0\n",
       "shows          0\n",
       "dtype: int64"
      ]
     },
     "execution_count": 26,
     "metadata": {},
     "output_type": "execute_result"
    }
   ],
   "source": [
    "merged_data_org1.isna().sum()"
   ]
  },
  {
   "cell_type": "markdown",
   "id": "258b75ec",
   "metadata": {},
   "source": [
    "Так как с Wordstat парсятся информация по показам за предыдущий месяц, то фактически мы можем провести анализ только по двум месяцам, с июня по июль, так как в таблице по июню у нас значения показов запросов за май. То есть все значения смещены на месяц. Учитывая это, посчитаем скользящую сумму обращений. \n",
    "\n",
    "Для того, чтобы найти зависимость ежедневного количества обращений с каналов органики от спроса, нам нужно сравнивать сумму обращений за предыдущий месяц и количество показов запросов за предыдущий месяц"
   ]
  },
  {
   "cell_type": "code",
   "execution_count": 27,
   "id": "03c5c435",
   "metadata": {},
   "outputs": [],
   "source": [
    "merged_data_org1['leads_sum'] = merged_data_org1.leads.rolling(31).sum()\n",
    "merged_data_org0['leads_sum'] = merged_data_org0.leads.rolling(31).sum()"
   ]
  },
  {
   "cell_type": "code",
   "execution_count": 28,
   "id": "fd736ecd",
   "metadata": {
    "scrolled": false
   },
   "outputs": [
    {
     "data": {
      "text/html": [
       "<div>\n",
       "<style scoped>\n",
       "    .dataframe tbody tr th:only-of-type {\n",
       "        vertical-align: middle;\n",
       "    }\n",
       "\n",
       "    .dataframe tbody tr th {\n",
       "        vertical-align: top;\n",
       "    }\n",
       "\n",
       "    .dataframe thead th {\n",
       "        text-align: right;\n",
       "    }\n",
       "</style>\n",
       "<table border=\"1\" class=\"dataframe\">\n",
       "  <thead>\n",
       "    <tr style=\"text-align: right;\">\n",
       "      <th></th>\n",
       "      <th>date</th>\n",
       "      <th>brand_id</th>\n",
       "      <th>source_type</th>\n",
       "      <th>leads</th>\n",
       "      <th>phrases</th>\n",
       "      <th>shows</th>\n",
       "      <th>leads_sum</th>\n",
       "    </tr>\n",
       "  </thead>\n",
       "  <tbody>\n",
       "    <tr>\n",
       "      <th>0</th>\n",
       "      <td>2021-07-01</td>\n",
       "      <td>1</td>\n",
       "      <td>organic</td>\n",
       "      <td>13</td>\n",
       "      <td>12</td>\n",
       "      <td>32353</td>\n",
       "      <td>303.0</td>\n",
       "    </tr>\n",
       "    <tr>\n",
       "      <th>1</th>\n",
       "      <td>2021-07-02</td>\n",
       "      <td>1</td>\n",
       "      <td>organic</td>\n",
       "      <td>9</td>\n",
       "      <td>12</td>\n",
       "      <td>32353</td>\n",
       "      <td>297.0</td>\n",
       "    </tr>\n",
       "    <tr>\n",
       "      <th>2</th>\n",
       "      <td>2021-07-03</td>\n",
       "      <td>1</td>\n",
       "      <td>organic</td>\n",
       "      <td>1</td>\n",
       "      <td>12</td>\n",
       "      <td>32915</td>\n",
       "      <td>291.0</td>\n",
       "    </tr>\n",
       "    <tr>\n",
       "      <th>3</th>\n",
       "      <td>2021-07-04</td>\n",
       "      <td>1</td>\n",
       "      <td>organic</td>\n",
       "      <td>5</td>\n",
       "      <td>12</td>\n",
       "      <td>32967</td>\n",
       "      <td>287.0</td>\n",
       "    </tr>\n",
       "    <tr>\n",
       "      <th>4</th>\n",
       "      <td>2021-07-05</td>\n",
       "      <td>1</td>\n",
       "      <td>organic</td>\n",
       "      <td>5</td>\n",
       "      <td>12</td>\n",
       "      <td>32978</td>\n",
       "      <td>279.0</td>\n",
       "    </tr>\n",
       "    <tr>\n",
       "      <th>...</th>\n",
       "      <td>...</td>\n",
       "      <td>...</td>\n",
       "      <td>...</td>\n",
       "      <td>...</td>\n",
       "      <td>...</td>\n",
       "      <td>...</td>\n",
       "      <td>...</td>\n",
       "    </tr>\n",
       "    <tr>\n",
       "      <th>57</th>\n",
       "      <td>2021-08-27</td>\n",
       "      <td>1</td>\n",
       "      <td>organic</td>\n",
       "      <td>7</td>\n",
       "      <td>12</td>\n",
       "      <td>38352</td>\n",
       "      <td>245.0</td>\n",
       "    </tr>\n",
       "    <tr>\n",
       "      <th>58</th>\n",
       "      <td>2021-08-28</td>\n",
       "      <td>1</td>\n",
       "      <td>organic</td>\n",
       "      <td>8</td>\n",
       "      <td>12</td>\n",
       "      <td>38930</td>\n",
       "      <td>241.0</td>\n",
       "    </tr>\n",
       "    <tr>\n",
       "      <th>59</th>\n",
       "      <td>2021-08-29</td>\n",
       "      <td>1</td>\n",
       "      <td>organic</td>\n",
       "      <td>2</td>\n",
       "      <td>12</td>\n",
       "      <td>39263</td>\n",
       "      <td>227.0</td>\n",
       "    </tr>\n",
       "    <tr>\n",
       "      <th>60</th>\n",
       "      <td>2021-08-30</td>\n",
       "      <td>1</td>\n",
       "      <td>organic</td>\n",
       "      <td>9</td>\n",
       "      <td>12</td>\n",
       "      <td>38541</td>\n",
       "      <td>229.0</td>\n",
       "    </tr>\n",
       "    <tr>\n",
       "      <th>61</th>\n",
       "      <td>2021-08-31</td>\n",
       "      <td>1</td>\n",
       "      <td>organic</td>\n",
       "      <td>10</td>\n",
       "      <td>12</td>\n",
       "      <td>38485</td>\n",
       "      <td>237.0</td>\n",
       "    </tr>\n",
       "  </tbody>\n",
       "</table>\n",
       "<p>62 rows × 7 columns</p>\n",
       "</div>"
      ],
      "text/plain": [
       "         date  brand_id source_type  leads  phrases  shows  leads_sum\n",
       "0  2021-07-01         1     organic     13       12  32353      303.0\n",
       "1  2021-07-02         1     organic      9       12  32353      297.0\n",
       "2  2021-07-03         1     organic      1       12  32915      291.0\n",
       "3  2021-07-04         1     organic      5       12  32967      287.0\n",
       "4  2021-07-05         1     organic      5       12  32978      279.0\n",
       "..        ...       ...         ...    ...      ...    ...        ...\n",
       "57 2021-08-27         1     organic      7       12  38352      245.0\n",
       "58 2021-08-28         1     organic      8       12  38930      241.0\n",
       "59 2021-08-29         1     organic      2       12  39263      227.0\n",
       "60 2021-08-30         1     organic      9       12  38541      229.0\n",
       "61 2021-08-31         1     organic     10       12  38485      237.0\n",
       "\n",
       "[62 rows x 7 columns]"
      ]
     },
     "execution_count": 28,
     "metadata": {},
     "output_type": "execute_result"
    }
   ],
   "source": [
    "# усекаем датафрейм до 2 месяцев, в которых есть заполненные скользящие значения параметров\n",
    "merged_data_org1 = merged_data_org1.dropna().reset_index(drop=True)\n",
    "merged_data_org0 = merged_data_org0.dropna().reset_index(drop=True)\n",
    "merged_data_org1"
   ]
  },
  {
   "cell_type": "markdown",
   "id": "315665b7",
   "metadata": {},
   "source": [
    "Отобразим два графика разброса для исследуемых нами величин для двух разных брендов, а также рассчитаем коэффициент корреляции для данных параметров."
   ]
  },
  {
   "cell_type": "code",
   "execution_count": 29,
   "id": "7ab8661d",
   "metadata": {
    "scrolled": true
   },
   "outputs": [
    {
     "name": "stdout",
     "output_type": "stream",
     "text": [
      "Коэффициент корреляции равен: 0.5649\n"
     ]
    },
    {
     "data": {
      "image/png": "[encoded data removed]",
      "text/plain": [
       "<Figure size 432x288 with 1 Axes>"
      ]
     },
     "metadata": {
      "needs_background": "light"
     },
     "output_type": "display_data"
    }
   ],
   "source": [
    "merged_data_org0.plot(x='leads_sum', y='shows', kind='scatter')\n",
    "plt.title('Зависимость просмотров за месяц и суммы обращений за месяц для бренда 0');\n",
    "print (f'Коэффициент корреляции равен: {round(merged_data_org0[\"shows\"].corr(merged_data_org0[\"leads_sum\"]), 4)}')"
   ]
  },
  {
   "cell_type": "code",
   "execution_count": 30,
   "id": "4fa365c7",
   "metadata": {
    "scrolled": true
   },
   "outputs": [
    {
     "name": "stdout",
     "output_type": "stream",
     "text": [
      "Коэффициент корреляции равен: -0.2987\n"
     ]
    },
    {
     "data": {
      "image/png": "[encoded data removed]",
      "text/plain": [
       "<Figure size 432x288 with 1 Axes>"
      ]
     },
     "metadata": {
      "needs_background": "light"
     },
     "output_type": "display_data"
    }
   ],
   "source": [
    "merged_data_org1.plot(x='leads_sum', y='shows', kind='scatter')\n",
    "plt.title('Зависимость просмотров за месяц и суммы обращений за месяц для бренда 1')\n",
    "print (f'Коэффициент корреляции равен: {round(merged_data_org1[\"shows\"].corr(merged_data_org1[\"leads_sum\"]), 4)}');"
   ]
  },
  {
   "cell_type": "markdown",
   "id": "cacd23e2",
   "metadata": {},
   "source": [
    "**По полученным визуальным и расчетным данным нельзя сказать, что корреляция между исследуемыми параметрами существенна. Проверим нормально ли распределены параметры, чтобы продолжить дальнейший статистический расчет. Будем использовать Критерий Шапиро-Уилка.**"
   ]
  },
  {
   "cell_type": "code",
   "execution_count": 31,
   "id": "77954fa3",
   "metadata": {},
   "outputs": [],
   "source": [
    "def Shapiro_Wilk_test(data):\n",
    "    data = np.array(data)\n",
    "    result = sci.stats.shapiro(data)\n",
    "    s_calc = result.statistic    # расчетное значение статистики критерия\n",
    "    a_calc = result.pvalue    # расчетный уровень значимости\n",
    "    a_level = 0.05\n",
    "\n",
    "    print(f\"Расчетный уровень значимости: a_calc = {round(a_calc, 8)}\")\n",
    "    print(f\"Заданный уровень значимости: a_level = {round(a_level, 8)}\")\n",
    "    \n",
    "    if a_calc >= a_level:\n",
    "        conclusion_ShW_test = f\"Так как a_calc = {round(a_calc, 8)} >= a_level = {round(a_level, 8)}\" + \\\n",
    "            \", нормальность распределения по критерию Шапиро-Уилка ПРИНИМАЕТСЯ\"\n",
    "    else:\n",
    "        conclusion_ShW_test = f\"Так как a_calc = {round(a_calc, 8)} < a_level = {round(a_level, 8)}\" + \\\n",
    "            \", нормальность распределения по критерию Шапиро-Уилка НЕ ПРИНИМАЕТСЯ\"\n",
    "    print(conclusion_ShW_test)"
   ]
  },
  {
   "cell_type": "code",
   "execution_count": 32,
   "id": "7aaaa473",
   "metadata": {},
   "outputs": [
    {
     "name": "stdout",
     "output_type": "stream",
     "text": [
      "Расчетный уровень значимости: a_calc = 6.32e-06\n",
      "Заданный уровень значимости: a_level = 0.05\n",
      "Так как a_calc = 6.32e-06 < a_level = 0.05, нормальность распределения по критерию Шапиро-Уилка НЕ ПРИНИМАЕТСЯ\n",
      "Расчетный уровень значимости: a_calc = 4.96e-06\n",
      "Заданный уровень значимости: a_level = 0.05\n",
      "Так как a_calc = 4.96e-06 < a_level = 0.05, нормальность распределения по критерию Шапиро-Уилка НЕ ПРИНИМАЕТСЯ\n"
     ]
    }
   ],
   "source": [
    "Shapiro_Wilk_test(merged_data_org0['leads_sum'])\n",
    "Shapiro_Wilk_test(merged_data_org0['shows'])"
   ]
  },
  {
   "cell_type": "code",
   "execution_count": 33,
   "id": "4c81f621",
   "metadata": {},
   "outputs": [
    {
     "name": "stdout",
     "output_type": "stream",
     "text": [
      "Расчетный уровень значимости: a_calc = 0.01974618\n",
      "Заданный уровень значимости: a_level = 0.05\n",
      "Так как a_calc = 0.01974618 < a_level = 0.05, нормальность распределения по критерию Шапиро-Уилка НЕ ПРИНИМАЕТСЯ\n",
      "Расчетный уровень значимости: a_calc = 2e-07\n",
      "Заданный уровень значимости: a_level = 0.05\n",
      "Так как a_calc = 2e-07 < a_level = 0.05, нормальность распределения по критерию Шапиро-Уилка НЕ ПРИНИМАЕТСЯ\n"
     ]
    }
   ],
   "source": [
    "Shapiro_Wilk_test(merged_data_org1['leads_sum'])\n",
    "Shapiro_Wilk_test(merged_data_org1['shows'])"
   ]
  },
  {
   "cell_type": "markdown",
   "id": "f17a5947",
   "metadata": {},
   "source": [
    "**У исходных данных распределение не равно нормальному, что не позволяет нам в дальнейшем пользоваться статистическим инструментарием для оценивания статистической значимости по коэффициенту корреляции Пирсона и дальнейшей проверки гипотезы.**\n",
    "\n",
    "Посчитаем плотности распределения по дням обращений и показов запросов, и покажем на графике "
   ]
  },
  {
   "cell_type": "code",
   "execution_count": 34,
   "id": "c089fdda",
   "metadata": {},
   "outputs": [],
   "source": [
    "merged_data_org1['shows_ratio'] = merged_data_org1.apply(lambda row: row['shows'] / merged_data_org1.shows.sum(), axis=1)\n",
    "merged_data_org1['leads_ratio'] = merged_data_org1.apply(lambda row: row['leads_sum'] / merged_data_org1.leads_sum.sum(), axis=1)"
   ]
  },
  {
   "cell_type": "code",
   "execution_count": 35,
   "id": "d8cd4a2e",
   "metadata": {},
   "outputs": [],
   "source": [
    "merged_data_org0['shows_ratio'] = merged_data_org0.apply(lambda row: row['shows'] / merged_data_org0.shows.sum(), axis=1)\n",
    "merged_data_org0['leads_ratio'] = merged_data_org0.apply(lambda row: row['leads_sum'] / merged_data_org0.leads_sum.sum(), axis=1)"
   ]
  },
  {
   "cell_type": "code",
   "execution_count": 36,
   "id": "45a438b1",
   "metadata": {
    "scrolled": true
   },
   "outputs": [
    {
     "data": {
      "image/png": "[encoded data removed]",
      "text/plain": [
       "<Figure size 1296x432 with 1 Axes>"
      ]
     },
     "metadata": {
      "needs_background": "light"
     },
     "output_type": "display_data"
    }
   ],
   "source": [
    "plt.figure(figsize=(18, 6))\n",
    "plt.bar(height=merged_data_org0['shows_ratio'], x=merged_data_org0['date'], alpha=1, label='Показы')\n",
    "plt.bar(height=merged_data_org0['leads_ratio'], x=merged_data_org0['date'], alpha=0.7, label='Обращения')\n",
    "plt.legend(loc='upper right')\n",
    "plt.title('Плотность обращений и показов по времени')\n",
    "plt.show()"
   ]
  },
  {
   "cell_type": "markdown",
   "id": "18721ac3",
   "metadata": {},
   "source": [
    "**Никакой связи визуально также не наблюдается. По результату проведенного анализа отвергаем нулевую гипотезу. Взаимосвязи между количеством обращений с органики по бренду и количеством показов соответствующих поисковых фраз обнаружено не было.**"
   ]
  },
  {
   "cell_type": "markdown",
   "id": "9c62ad08",
   "metadata": {},
   "source": [
    "Для улучшения существующей модели сбора и предобработки данных, опционально, можно:\n",
    "- Для категорий брендов собирать данные показов по одинаковому количеству запросов\n",
    "- Выгружать вместе с id запросов, строчные значения. Это улучшит качество анализа и позволит фильтровать нерелевантные или выбивающиеся запросы \n",
    "- Проверить возможность парсинга количества просмотров по неделям для более точной обработки результатов. Wordstat группирует по неделям в т.ч.\n",
    "- Продолжить сбор данных по месяцам для увеличения горизонта анализа: возможно это поможет в будущем обнаружить корреляцию у исследуемых параметров, а также даст возможность более эффективно считать и сравнивать между собой скользящую корреляцию."
   ]
  }
 ],
 "metadata": {
  "kernelspec": {
   "display_name": "Python 3 (ipykernel)",
   "language": "python",
   "name": "python3"
  },
  "language_info": {
   "codemirror_mode": {
    "name": "ipython",
    "version": 3
   },
   "file_extension": ".py",
   "mimetype": "text/x-python",
   "name": "python",
   "nbconvert_exporter": "python",
   "pygments_lexer": "ipython3",
   "version": "3.9.7"
  },
  "toc": {
   "base_numbering": "1",
   "nav_menu": {},
   "number_sections": true,
   "sideBar": true,
   "skip_h1_title": true,
   "title_cell": "Table of Contents",
   "title_sidebar": "Contents",
   "toc_cell": false,
   "toc_position": {
    "height": "calc(100% - 180px)",
    "left": "10px",
    "top": "150px",
    "width": "307.2px"
   },
   "toc_section_display": true,
   "toc_window_display": true
  }
 },
 "nbformat": 4,
 "nbformat_minor": 5
}
