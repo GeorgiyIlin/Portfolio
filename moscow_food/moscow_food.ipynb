{
 "cells": [
  {
   "cell_type": "markdown",
   "metadata": {},
   "source": [
    "<font size=\"+3\">Исследования рынка общепита в Москве для принятия решения об открытии нового заведения</font> \n",
    "\n",
    "\n",
    "Инвесторы из фонда «Shut Up and Take My Money» решили попробовать себя в новой области и открыть заведение общественного питания в Москве. Заказчики ещё не знают, что это будет за место: кафе, ресторан, пиццерия, паб или бар, — и какими будут расположение, меню и цены.\n",
    "\n",
    "Для начала они просят вас — аналитика — подготовить исследование рынка Москвы, найти интересные особенности и презентовать полученные результаты, которые в будущем помогут в выборе подходящего инвесторам места.\n",
    "\n",
    "Постарайтесь сделать презентацию информативной и лаконичной. Её структура и оформление сильно влияют на восприятие информации читателями вашего исследования. Выбирать инструменты (matplotlib, seaborn и другие) и типы визуализаций вы можете самостоятельно."
   ]
  },
  {
   "cell_type": "markdown",
   "metadata": {},
   "source": [
    "# Описание данных"
   ]
  },
  {
   "cell_type": "markdown",
   "metadata": {},
   "source": [
    "Вам доступен датасет `moscow_places` с заведениями общественного питания Москвы, составленный на основе данных сервисов Яндекс Карты и Яндекс Бизнес на лето 2022 года. Информация, размещённая в сервисе Яндекс Бизнес, могла быть добавлена пользователями или найдена в общедоступных источниках. Она носит исключительно справочный характер.\n",
    "\n",
    "Файл `moscow_places.csv`:\n",
    "\n",
    "- `name` — название заведения;\n",
    "- `address` — адрес заведения;\n",
    "- `category` — категория заведения, например «кафе», «пиццерия» или «кофейня»;\n",
    "- `hours` — информация о днях и часах работы;\n",
    "- `lat` — широта географической точки, в которой находится заведение;\n",
    "- `lng` — долгота географической точки, в которой находится заведение;\n",
    "- `rating` — рейтинг заведения по оценкам пользователей в Яндекс Картах (высшая оценка — `5.0`);\n",
    "- `price` — категория цен в заведении, например «средние», «ниже среднего», «выше среднего» и так далее;\n",
    "- `avg_bill` — строка, которая хранит среднюю стоимость заказа в виде диапазона, например:\n",
    "    - «Средний счёт: 1000–1500 ₽»;\n",
    "    - «Цена чашки капучино: 130–220 ₽»;\n",
    "    - «Цена бокала пива: 400–600 ₽».\n",
    "       и так далее;\n",
    "- `middle_avg_bill` — число с оценкой среднего чека, которое указано только для значений из столбца `avg_bill`, начинающихся с подстроки «Средний счёт»:\n",
    "    - Если в строке указан ценовой диапазон из двух значений, в столбец войдёт медиана этих двух значений.\n",
    "    - Если в строке указано одно число — цена без диапазона, то в столбец войдёт это число. \n",
    "    - Если значения нет или оно не начинается с подстроки «Средний счёт», то в столбец ничего не войдёт. \n",
    "- `middle_coffee_cup` — число с оценкой одной чашки капучино, которое указано только для значений из столбца `avg_bill`, начинающихся с подстроки «Цена одной чашки капучино»:\n",
    "    - Если в строке указан ценовой диапазон из двух значений, в столбец войдёт медиана этих двух значений.\n",
    "    - Если в строке указано одно число — цена без диапазона, то в столбец войдёт это число. \n",
    "    - Если значения нет или оно не начинается с подстроки «Цена одной чашки капучино», то в столбец ничего не войдёт. \n",
    "- `chain` — число, выраженное `0` или `1`, которое показывает, является ли заведение сетевым (для маленьких сетей могут встречаться ошибки);\n",
    "- `district` — административный район, в котором находится заведение, например Центральный административный округ;\n",
    "- `seats` — количество посадочных мест."
   ]
  },
  {
   "cell_type": "markdown",
   "metadata": {},
   "source": [
    "# Загрузка и предобработка данных "
   ]
  },
  {
   "cell_type": "markdown",
   "metadata": {},
   "source": [
    "## Загрузка таблиц и библиотек"
   ]
  },
  {
   "cell_type": "markdown",
   "metadata": {},
   "source": [
    "Загрузим библиотеки и откроем файл с датасетом"
   ]
  },
  {
   "cell_type": "code",
   "execution_count": 1,
   "metadata": {},
   "outputs": [],
   "source": [
    "import pandas as pd \n",
    "import matplotlib.pyplot as plt\n",
    "import numpy as np\n",
    "import seaborn as sns\n",
    "import plotly.express as px\n",
    "from plotly import graph_objects as go\n",
    "from matplotlib import pyplot\n",
    "import re\n",
    "\n",
    "import folium\n",
    "from folium.plugins import MarkerCluster\n",
    "import json\n",
    "from folium import Choropleth \n",
    "from folium import CustomIcon\n",
    "\n",
    "import plotly.io as pio\n",
    "pio.renderers.default = \"png\"\n",
    "\n",
    "from IPython.display import Image, display"
   ]
  },
  {
   "cell_type": "code",
   "execution_count": 2,
   "metadata": {
    "code_folding": []
   },
   "outputs": [],
   "source": [
    "data = pd.read_csv('C:/Users/Georgii/Desktop/ANALYTICS/moscow_places.csv')"
   ]
  },
  {
   "cell_type": "markdown",
   "metadata": {},
   "source": [
    "Изучим сохраненные данные. Выведем основную информацию по таблицe"
   ]
  },
  {
   "cell_type": "code",
   "execution_count": 3,
   "metadata": {
    "code_folding": [],
    "scrolled": true
   },
   "outputs": [
    {
     "data": {
      "text/html": [
       "<div>\n",
       "<style scoped>\n",
       "    .dataframe tbody tr th:only-of-type {\n",
       "        vertical-align: middle;\n",
       "    }\n",
       "\n",
       "    .dataframe tbody tr th {\n",
       "        vertical-align: top;\n",
       "    }\n",
       "\n",
       "    .dataframe thead th {\n",
       "        text-align: right;\n",
       "    }\n",
       "</style>\n",
       "<table border=\"1\" class=\"dataframe\">\n",
       "  <thead>\n",
       "    <tr style=\"text-align: right;\">\n",
       "      <th></th>\n",
       "      <th>name</th>\n",
       "      <th>category</th>\n",
       "      <th>address</th>\n",
       "      <th>district</th>\n",
       "      <th>hours</th>\n",
       "      <th>lat</th>\n",
       "      <th>lng</th>\n",
       "      <th>rating</th>\n",
       "      <th>price</th>\n",
       "      <th>avg_bill</th>\n",
       "      <th>middle_avg_bill</th>\n",
       "      <th>middle_coffee_cup</th>\n",
       "      <th>chain</th>\n",
       "      <th>seats</th>\n",
       "    </tr>\n",
       "  </thead>\n",
       "  <tbody>\n",
       "    <tr>\n",
       "      <th>0</th>\n",
       "      <td>WoWфли</td>\n",
       "      <td>кафе</td>\n",
       "      <td>Москва, улица Дыбенко, 7/1</td>\n",
       "      <td>Северный административный округ</td>\n",
       "      <td>ежедневно, 10:00–22:00</td>\n",
       "      <td>55.878494</td>\n",
       "      <td>37.478860</td>\n",
       "      <td>5.0</td>\n",
       "      <td>NaN</td>\n",
       "      <td>NaN</td>\n",
       "      <td>NaN</td>\n",
       "      <td>NaN</td>\n",
       "      <td>0</td>\n",
       "      <td>NaN</td>\n",
       "    </tr>\n",
       "    <tr>\n",
       "      <th>1</th>\n",
       "      <td>Четыре комнаты</td>\n",
       "      <td>ресторан</td>\n",
       "      <td>Москва, улица Дыбенко, 36, корп. 1</td>\n",
       "      <td>Северный административный округ</td>\n",
       "      <td>ежедневно, 10:00–22:00</td>\n",
       "      <td>55.875801</td>\n",
       "      <td>37.484479</td>\n",
       "      <td>4.5</td>\n",
       "      <td>выше среднего</td>\n",
       "      <td>Средний счёт:1500–1600 ₽</td>\n",
       "      <td>1550.0</td>\n",
       "      <td>NaN</td>\n",
       "      <td>0</td>\n",
       "      <td>4.0</td>\n",
       "    </tr>\n",
       "    <tr>\n",
       "      <th>2</th>\n",
       "      <td>Хазри</td>\n",
       "      <td>кафе</td>\n",
       "      <td>Москва, Клязьминская улица, 15</td>\n",
       "      <td>Северный административный округ</td>\n",
       "      <td>пн-чт 11:00–02:00; пт,сб 11:00–05:00; вс 11:00...</td>\n",
       "      <td>55.889146</td>\n",
       "      <td>37.525901</td>\n",
       "      <td>4.6</td>\n",
       "      <td>средние</td>\n",
       "      <td>Средний счёт:от 1000 ₽</td>\n",
       "      <td>1000.0</td>\n",
       "      <td>NaN</td>\n",
       "      <td>0</td>\n",
       "      <td>45.0</td>\n",
       "    </tr>\n",
       "    <tr>\n",
       "      <th>3</th>\n",
       "      <td>Dormouse Coffee Shop</td>\n",
       "      <td>кофейня</td>\n",
       "      <td>Москва, улица Маршала Федоренко, 12</td>\n",
       "      <td>Северный административный округ</td>\n",
       "      <td>ежедневно, 09:00–22:00</td>\n",
       "      <td>55.881608</td>\n",
       "      <td>37.488860</td>\n",
       "      <td>5.0</td>\n",
       "      <td>NaN</td>\n",
       "      <td>Цена чашки капучино:155–185 ₽</td>\n",
       "      <td>NaN</td>\n",
       "      <td>170.0</td>\n",
       "      <td>0</td>\n",
       "      <td>NaN</td>\n",
       "    </tr>\n",
       "    <tr>\n",
       "      <th>4</th>\n",
       "      <td>Иль Марко</td>\n",
       "      <td>пиццерия</td>\n",
       "      <td>Москва, Правобережная улица, 1Б</td>\n",
       "      <td>Северный административный округ</td>\n",
       "      <td>ежедневно, 10:00–22:00</td>\n",
       "      <td>55.881166</td>\n",
       "      <td>37.449357</td>\n",
       "      <td>5.0</td>\n",
       "      <td>средние</td>\n",
       "      <td>Средний счёт:400–600 ₽</td>\n",
       "      <td>500.0</td>\n",
       "      <td>NaN</td>\n",
       "      <td>1</td>\n",
       "      <td>148.0</td>\n",
       "    </tr>\n",
       "    <tr>\n",
       "      <th>5</th>\n",
       "      <td>Sergio Pizza</td>\n",
       "      <td>пиццерия</td>\n",
       "      <td>Москва, Ижорская улица, вл8Б</td>\n",
       "      <td>Северный административный округ</td>\n",
       "      <td>ежедневно, 10:00–23:00</td>\n",
       "      <td>55.888010</td>\n",
       "      <td>37.509573</td>\n",
       "      <td>4.6</td>\n",
       "      <td>средние</td>\n",
       "      <td>NaN</td>\n",
       "      <td>NaN</td>\n",
       "      <td>NaN</td>\n",
       "      <td>0</td>\n",
       "      <td>NaN</td>\n",
       "    </tr>\n",
       "    <tr>\n",
       "      <th>6</th>\n",
       "      <td>Огни города</td>\n",
       "      <td>бар,паб</td>\n",
       "      <td>Москва, Клязьминская улица, 9, стр. 3</td>\n",
       "      <td>Северный административный округ</td>\n",
       "      <td>пн 15:00–04:00; вт-вс 15:00–05:00</td>\n",
       "      <td>55.890752</td>\n",
       "      <td>37.524653</td>\n",
       "      <td>4.4</td>\n",
       "      <td>средние</td>\n",
       "      <td>Средний счёт:199 ₽</td>\n",
       "      <td>199.0</td>\n",
       "      <td>NaN</td>\n",
       "      <td>0</td>\n",
       "      <td>45.0</td>\n",
       "    </tr>\n",
       "    <tr>\n",
       "      <th>7</th>\n",
       "      <td>Mr. Уголёк</td>\n",
       "      <td>быстрое питание</td>\n",
       "      <td>Москва, Клязьминская улица, 9, стр. 3</td>\n",
       "      <td>Северный административный округ</td>\n",
       "      <td>пн-чт 10:00–22:00; пт,сб 10:00–23:00; вс 10:00...</td>\n",
       "      <td>55.890636</td>\n",
       "      <td>37.524303</td>\n",
       "      <td>4.7</td>\n",
       "      <td>средние</td>\n",
       "      <td>Средний счёт:200–300 ₽</td>\n",
       "      <td>250.0</td>\n",
       "      <td>NaN</td>\n",
       "      <td>0</td>\n",
       "      <td>45.0</td>\n",
       "    </tr>\n",
       "    <tr>\n",
       "      <th>8</th>\n",
       "      <td>Donna Maria</td>\n",
       "      <td>ресторан</td>\n",
       "      <td>Москва, Дмитровское шоссе, 107, корп. 4</td>\n",
       "      <td>Северный административный округ</td>\n",
       "      <td>ежедневно, 10:00–22:00</td>\n",
       "      <td>55.880045</td>\n",
       "      <td>37.539006</td>\n",
       "      <td>4.8</td>\n",
       "      <td>средние</td>\n",
       "      <td>Средний счёт:от 500 ₽</td>\n",
       "      <td>500.0</td>\n",
       "      <td>NaN</td>\n",
       "      <td>0</td>\n",
       "      <td>79.0</td>\n",
       "    </tr>\n",
       "    <tr>\n",
       "      <th>9</th>\n",
       "      <td>Готика</td>\n",
       "      <td>кафе</td>\n",
       "      <td>Москва, Ангарская улица, 39</td>\n",
       "      <td>Северный административный округ</td>\n",
       "      <td>ежедневно, 12:00–00:00</td>\n",
       "      <td>55.879038</td>\n",
       "      <td>37.524487</td>\n",
       "      <td>4.3</td>\n",
       "      <td>средние</td>\n",
       "      <td>Средний счёт:1000–1200 ₽</td>\n",
       "      <td>1100.0</td>\n",
       "      <td>NaN</td>\n",
       "      <td>0</td>\n",
       "      <td>65.0</td>\n",
       "    </tr>\n",
       "  </tbody>\n",
       "</table>\n",
       "</div>"
      ],
      "text/plain": [
       "                   name         category  \\\n",
       "0                WoWфли             кафе   \n",
       "1        Четыре комнаты         ресторан   \n",
       "2                 Хазри             кафе   \n",
       "3  Dormouse Coffee Shop          кофейня   \n",
       "4             Иль Марко         пиццерия   \n",
       "5          Sergio Pizza         пиццерия   \n",
       "6           Огни города          бар,паб   \n",
       "7            Mr. Уголёк  быстрое питание   \n",
       "8           Donna Maria         ресторан   \n",
       "9                Готика             кафе   \n",
       "\n",
       "                                   address                         district  \\\n",
       "0               Москва, улица Дыбенко, 7/1  Северный административный округ   \n",
       "1       Москва, улица Дыбенко, 36, корп. 1  Северный административный округ   \n",
       "2           Москва, Клязьминская улица, 15  Северный административный округ   \n",
       "3      Москва, улица Маршала Федоренко, 12  Северный административный округ   \n",
       "4          Москва, Правобережная улица, 1Б  Северный административный округ   \n",
       "5             Москва, Ижорская улица, вл8Б  Северный административный округ   \n",
       "6    Москва, Клязьминская улица, 9, стр. 3  Северный административный округ   \n",
       "7    Москва, Клязьминская улица, 9, стр. 3  Северный административный округ   \n",
       "8  Москва, Дмитровское шоссе, 107, корп. 4  Северный административный округ   \n",
       "9              Москва, Ангарская улица, 39  Северный административный округ   \n",
       "\n",
       "                                               hours        lat        lng  \\\n",
       "0                             ежедневно, 10:00–22:00  55.878494  37.478860   \n",
       "1                             ежедневно, 10:00–22:00  55.875801  37.484479   \n",
       "2  пн-чт 11:00–02:00; пт,сб 11:00–05:00; вс 11:00...  55.889146  37.525901   \n",
       "3                             ежедневно, 09:00–22:00  55.881608  37.488860   \n",
       "4                             ежедневно, 10:00–22:00  55.881166  37.449357   \n",
       "5                             ежедневно, 10:00–23:00  55.888010  37.509573   \n",
       "6                  пн 15:00–04:00; вт-вс 15:00–05:00  55.890752  37.524653   \n",
       "7  пн-чт 10:00–22:00; пт,сб 10:00–23:00; вс 10:00...  55.890636  37.524303   \n",
       "8                             ежедневно, 10:00–22:00  55.880045  37.539006   \n",
       "9                             ежедневно, 12:00–00:00  55.879038  37.524487   \n",
       "\n",
       "   rating          price                       avg_bill  middle_avg_bill  \\\n",
       "0     5.0            NaN                            NaN              NaN   \n",
       "1     4.5  выше среднего       Средний счёт:1500–1600 ₽           1550.0   \n",
       "2     4.6        средние         Средний счёт:от 1000 ₽           1000.0   \n",
       "3     5.0            NaN  Цена чашки капучино:155–185 ₽              NaN   \n",
       "4     5.0        средние         Средний счёт:400–600 ₽            500.0   \n",
       "5     4.6        средние                            NaN              NaN   \n",
       "6     4.4        средние             Средний счёт:199 ₽            199.0   \n",
       "7     4.7        средние         Средний счёт:200–300 ₽            250.0   \n",
       "8     4.8        средние          Средний счёт:от 500 ₽            500.0   \n",
       "9     4.3        средние       Средний счёт:1000–1200 ₽           1100.0   \n",
       "\n",
       "   middle_coffee_cup  chain  seats  \n",
       "0                NaN      0    NaN  \n",
       "1                NaN      0    4.0  \n",
       "2                NaN      0   45.0  \n",
       "3              170.0      0    NaN  \n",
       "4                NaN      1  148.0  \n",
       "5                NaN      0    NaN  \n",
       "6                NaN      0   45.0  \n",
       "7                NaN      0   45.0  \n",
       "8                NaN      0   79.0  \n",
       "9                NaN      0   65.0  "
      ]
     },
     "execution_count": 3,
     "metadata": {},
     "output_type": "execute_result"
    }
   ],
   "source": [
    "data.head(10)"
   ]
  },
  {
   "cell_type": "code",
   "execution_count": 4,
   "metadata": {
    "scrolled": true
   },
   "outputs": [
    {
     "name": "stdout",
     "output_type": "stream",
     "text": [
      "<class 'pandas.core.frame.DataFrame'>\n",
      "RangeIndex: 8406 entries, 0 to 8405\n",
      "Data columns (total 14 columns):\n",
      " #   Column             Non-Null Count  Dtype  \n",
      "---  ------             --------------  -----  \n",
      " 0   name               8406 non-null   object \n",
      " 1   category           8406 non-null   object \n",
      " 2   address            8406 non-null   object \n",
      " 3   district           8406 non-null   object \n",
      " 4   hours              7870 non-null   object \n",
      " 5   lat                8406 non-null   float64\n",
      " 6   lng                8406 non-null   float64\n",
      " 7   rating             8406 non-null   float64\n",
      " 8   price              3315 non-null   object \n",
      " 9   avg_bill           3816 non-null   object \n",
      " 10  middle_avg_bill    3149 non-null   float64\n",
      " 11  middle_coffee_cup  535 non-null    float64\n",
      " 12  chain              8406 non-null   int64  \n",
      " 13  seats              4795 non-null   float64\n",
      "dtypes: float64(6), int64(1), object(7)\n",
      "memory usage: 919.5+ KB\n"
     ]
    }
   ],
   "source": [
    "data.info()"
   ]
  },
  {
   "cell_type": "markdown",
   "metadata": {},
   "source": [
    "***Вывод: Данные выглядят корректно. Необходимо выполнить их предобработку, заполнить пропуски, проверить наличие дубликатов, добавить вспомогательные столбцы***"
   ]
  },
  {
   "cell_type": "markdown",
   "metadata": {},
   "source": [
    "## Предобработка данных"
   ]
  },
  {
   "cell_type": "markdown",
   "metadata": {},
   "source": [
    "### Проверка на пропуски и дубликаты"
   ]
  },
  {
   "cell_type": "markdown",
   "metadata": {},
   "source": [
    "Проверим наличие дубликатов."
   ]
  },
  {
   "cell_type": "code",
   "execution_count": 5,
   "metadata": {},
   "outputs": [
    {
     "name": "stdout",
     "output_type": "stream",
     "text": [
      "Количество строчек дубликатов: 0\n"
     ]
    }
   ],
   "source": [
    "print (f'Количество строчек дубликатов: {data.duplicated().sum()}')"
   ]
  },
  {
   "cell_type": "code",
   "execution_count": 6,
   "metadata": {
    "scrolled": true
   },
   "outputs": [
    {
     "data": {
      "text/plain": [
       "0"
      ]
     },
     "execution_count": 6,
     "metadata": {},
     "output_type": "execute_result"
    }
   ],
   "source": [
    "data[['name','address']].duplicated().sum()"
   ]
  },
  {
   "cell_type": "markdown",
   "metadata": {},
   "source": [
    "Очевидные дубликаты в датафрейме отсутствуют"
   ]
  },
  {
   "cell_type": "markdown",
   "metadata": {},
   "source": [
    "Проверим наличие пропусков в датафрейме."
   ]
  },
  {
   "cell_type": "code",
   "execution_count": 7,
   "metadata": {
    "scrolled": false
   },
   "outputs": [
    {
     "data": {
      "text/plain": [
       "name                    0\n",
       "category                0\n",
       "address                 0\n",
       "district                0\n",
       "hours                 536\n",
       "lat                     0\n",
       "lng                     0\n",
       "rating                  0\n",
       "price                5091\n",
       "avg_bill             4590\n",
       "middle_avg_bill      5257\n",
       "middle_coffee_cup    7871\n",
       "chain                   0\n",
       "seats                3611\n",
       "dtype: int64"
      ]
     },
     "execution_count": 7,
     "metadata": {},
     "output_type": "execute_result"
    }
   ],
   "source": [
    "data.isna().sum()"
   ]
  },
  {
   "cell_type": "code",
   "execution_count": 8,
   "metadata": {},
   "outputs": [
    {
     "data": {
      "text/plain": [
       "name                  0.0\n",
       "category              0.0\n",
       "address               0.0\n",
       "district              0.0\n",
       "hours                 6.4\n",
       "lat                   0.0\n",
       "lng                   0.0\n",
       "rating                0.0\n",
       "price                60.6\n",
       "avg_bill             54.6\n",
       "middle_avg_bill      62.5\n",
       "middle_coffee_cup    93.6\n",
       "chain                 0.0\n",
       "seats                43.0\n",
       "dtype: float64"
      ]
     },
     "execution_count": 8,
     "metadata": {},
     "output_type": "execute_result"
    }
   ],
   "source": [
    "(data.isna().mean()*100).round(1)"
   ]
  },
  {
   "cell_type": "markdown",
   "metadata": {},
   "source": [
    "В данных имеется достаточно большое количество пропусков. Попробуем заменить пропуски медианными значениями в данных, которые логически связаны друг с другом. Это стоблцы с категориями цен и средними чеками, а именно: `price`, `middle_avg_bill` и `middle_coffee_cup`."
   ]
  },
  {
   "cell_type": "markdown",
   "metadata": {},
   "source": [
    " Посчитаем какое количество пропущенных значений получится заменить в столбцах `middle_avg_bill` и `middle_coffee_cup` при известной ценовой категории заведения (`price`), предполагая, что категории цен заведения может соответствовать медианным значениям среднего чека и средней цены чашки кофе в данной категории."
   ]
  },
  {
   "cell_type": "code",
   "execution_count": 9,
   "metadata": {},
   "outputs": [
    {
     "name": "stdout",
     "output_type": "stream",
     "text": [
      "Количество пропущенных значений, которые можно заменить: 636\n",
      "Процент пропущенных значений от общего количества пропусков: 12.1 %\n"
     ]
    }
   ],
   "source": [
    "# подсчет кол-ва строк, где в столбце price значения заполнены, а в столбцах middle_avg_bill и middle_coffee_cup - NaN\n",
    "avg_bill_nan = data[(data['price'] == data['price']) \n",
    "     & (data['middle_avg_bill'] != data['middle_avg_bill'])\n",
    "    ].name.count()\n",
    "\n",
    "print (f'Количество пропущенных значений, которые можно заменить: {avg_bill_nan}')\n",
    "print (f'Процент пропущенных значений от общего количества пропусков: \\\n",
    "{round((avg_bill_nan / data.isna().middle_avg_bill.sum())*100, 2)} %')"
   ]
  },
  {
   "cell_type": "markdown",
   "metadata": {},
   "source": [
    "Убедимся, что заполненные значения в столбце `middle_coffee_cup` относятся к кофейням. "
   ]
  },
  {
   "cell_type": "code",
   "execution_count": 10,
   "metadata": {
    "scrolled": true
   },
   "outputs": [
    {
     "data": {
      "text/plain": [
       "кофейня            521\n",
       "бар,паб              6\n",
       "кафе                 4\n",
       "пиццерия             3\n",
       "быстрое питание      1\n",
       "Name: category, dtype: int64"
      ]
     },
     "execution_count": 10,
     "metadata": {},
     "output_type": "execute_result"
    }
   ],
   "source": [
    "data[data['middle_coffee_cup'] == data['middle_coffee_cup']].category.value_counts()"
   ]
  },
  {
   "cell_type": "markdown",
   "metadata": {},
   "source": [
    "Действильно, значения в `middle_coffee_cup` соответствуют, в основном, кофейням. Посчитаем количество пропусков, которые можно заполнить, по категории \"кофейня\"."
   ]
  },
  {
   "cell_type": "code",
   "execution_count": 11,
   "metadata": {
    "scrolled": true
   },
   "outputs": [
    {
     "name": "stdout",
     "output_type": "stream",
     "text": [
      "Количество пропущенных значений, которые можно заменить: 207\n",
      "Процент пропущенных значений от общего количества пропусков: 2.63 %\n"
     ]
    }
   ],
   "source": [
    "avg_coffee_nan = data[\n",
    "    (data['price'] == data['price']) \n",
    "    & (data['middle_coffee_cup'] != data['middle_coffee_cup'])\n",
    "].query('category == \"кофейня\"').name.count()\n",
    "\n",
    "print (f'Количество пропущенных значений, которые можно заменить: {avg_coffee_nan}')\n",
    "print (f'Процент пропущенных значений от общего количества пропусков: \\\n",
    "{round((avg_coffee_nan / data.isna().middle_coffee_cup.sum())*100, 2)} %')"
   ]
  },
  {
   "cell_type": "markdown",
   "metadata": {},
   "source": [
    "Заменяем пропущенные значения для стоблца `middle_avg_bill`"
   ]
  },
  {
   "cell_type": "code",
   "execution_count": 12,
   "metadata": {
    "scrolled": true
   },
   "outputs": [
    {
     "data": {
      "text/plain": [
       "array(['выше среднего', 'средние', 'высокие', 'низкие'], dtype=object)"
      ]
     },
     "execution_count": 12,
     "metadata": {},
     "output_type": "execute_result"
    }
   ],
   "source": [
    "# список категорий цен для цикла\n",
    "prices = data['price'].unique()[1:]\n",
    "prices"
   ]
  },
  {
   "cell_type": "code",
   "execution_count": 13,
   "metadata": {},
   "outputs": [
    {
     "data": {
      "text/plain": [
       "[1250.0, 500.0, 2000.0, 180.0]"
      ]
     },
     "execution_count": 13,
     "metadata": {},
     "output_type": "execute_result"
    }
   ],
   "source": [
    "# цикл, который считает медианные значения среднего чека для каждой категории цен\n",
    "avg_bill_medians = []\n",
    "for element in prices:\n",
    "    var = data[data['price'] == element].middle_avg_bill.median()\n",
    "    avg_bill_medians.append(var)\n",
    "avg_bill_medians # список используем в функции fill_nan_bill"
   ]
  },
  {
   "cell_type": "code",
   "execution_count": 14,
   "metadata": {
    "scrolled": true
   },
   "outputs": [],
   "source": [
    "# пишем функции для заполнения пропусков медианными значениями из списка avg_bill_medians\n",
    "def fill_nan_bill(row):\n",
    "    if row['price'] == row['price'] and row['middle_avg_bill'] != row['middle_avg_bill']:\n",
    "        if row['price'] == 'выше среднего':\n",
    "            return avg_bill_medians[0]\n",
    "        elif row['price'] == 'средние':\n",
    "            return avg_bill_medians[1]\n",
    "        elif row['price'] == 'высокие':\n",
    "            return avg_bill_medians[2]\n",
    "        elif row['price'] == 'низкие':\n",
    "            return avg_bill_medians[3]\n",
    "    else:\n",
    "        return row['middle_avg_bill']"
   ]
  },
  {
   "cell_type": "code",
   "execution_count": 15,
   "metadata": {},
   "outputs": [],
   "source": [
    "# применяем написанную функцию к датафрейму\n",
    "data['middle_avg_bill'] = data.apply(fill_nan_bill, axis=1)"
   ]
  },
  {
   "cell_type": "markdown",
   "metadata": {},
   "source": [
    "Заменяем пропущенные значения для стоблца `middle_coffee_cup`"
   ]
  },
  {
   "cell_type": "code",
   "execution_count": 16,
   "metadata": {},
   "outputs": [
    {
     "data": {
      "text/plain": [
       "[203.0, 200.0, 250.0, 139.0]"
      ]
     },
     "execution_count": 16,
     "metadata": {},
     "output_type": "execute_result"
    }
   ],
   "source": [
    "# цикл, который считает медианные значения средней цены чашки кофе для каждой категории цен\n",
    "middle_coffee_medians = []\n",
    "for element in prices:\n",
    "    var = data[data['price'] == element].middle_coffee_cup.median()\n",
    "    middle_coffee_medians.append(var)\n",
    "middle_coffee_medians"
   ]
  },
  {
   "cell_type": "code",
   "execution_count": 17,
   "metadata": {},
   "outputs": [],
   "source": [
    "# пишем функции для заполнения пропусков медианными значениями из списка middle_coffee_medians\n",
    "def fill_nan_coffee(row):\n",
    "    if row['price'] == row['price'] \\\n",
    "    and row['middle_coffee_cup'] != row['middle_coffee_cup'] \\\n",
    "    and row['category'] == 'кофейня':\n",
    "        if row['price'] == 'выше среднего':\n",
    "            return middle_coffee_medians[0]\n",
    "        elif row['price'] == 'средние':\n",
    "            return middle_coffee_medians[1]\n",
    "        elif row['price'] == 'высокие':\n",
    "            return middle_coffee_medians[2]\n",
    "        elif row['price'] == 'низкие':\n",
    "            return middle_coffee_medians[3]\n",
    "    else:\n",
    "        return row['middle_coffee_cup']"
   ]
  },
  {
   "cell_type": "code",
   "execution_count": 18,
   "metadata": {},
   "outputs": [],
   "source": [
    "# применяем написанную функцию к датафрейму\n",
    "data['middle_coffee_cup'] = data.apply(fill_nan_coffee, axis=1)"
   ]
  },
  {
   "cell_type": "markdown",
   "metadata": {},
   "source": [
    "Заменим пропуски для обратного случая. Когда известны значения `middle_avg_bill` и `middle_coffee_cup`, а в стоблце `price` - пропущенные значения"
   ]
  },
  {
   "cell_type": "code",
   "execution_count": 19,
   "metadata": {
    "scrolled": false
   },
   "outputs": [
    {
     "name": "stdout",
     "output_type": "stream",
     "text": [
      "Количество пропущенных значений, которые можно заменить: 470\n",
      "Процент пропущенных значений от общего количества пропусков: 10.17 %\n"
     ]
    }
   ],
   "source": [
    "price_nan = data[(data['price'] != data['price']) \n",
    "     & (data['middle_avg_bill'] == data['middle_avg_bill'])\n",
    "    ].name.count()\n",
    "\n",
    "print (f'Количество пропущенных значений, которые можно заменить: {price_nan}')\n",
    "print (f'Процент пропущенных значений от общего количества пропусков: \\\n",
    "{round((price_nan / data.isna().middle_avg_bill.sum())*100, 2)} %')"
   ]
  },
  {
   "cell_type": "code",
   "execution_count": 20,
   "metadata": {
    "scrolled": true
   },
   "outputs": [
    {
     "name": "stdout",
     "output_type": "stream",
     "text": [
      "Количество пропущенных значений, которые можно заменить: 252\n",
      "Процент пропущенных значений от общего количества пропусков: 3.29 %\n"
     ]
    }
   ],
   "source": [
    "price_coffee_nan = data[\n",
    "    (data['price'] != data['price']) \n",
    "    & (data['middle_coffee_cup'] == data['middle_coffee_cup'])\n",
    "].query('category == \"кофейня\"').name.count()\n",
    "\n",
    "print (f'Количество пропущенных значений, которые можно заменить: {price_coffee_nan}')\n",
    "print (f'Процент пропущенных значений от общего количества пропусков: \\\n",
    "{round((price_coffee_nan / data.isna().middle_coffee_cup.sum())*100, 2)} %')"
   ]
  },
  {
   "cell_type": "markdown",
   "metadata": {},
   "source": [
    "Необходимо наметить границы значений по среднему чеку. Для этого построим boxplot по средним чекам, исключая выбросы, а также посчитаем 10-ые и 90-ые перцентили по каждой категории. На основе полученных значений, сформируем ценовые диапазоны категорий цен."
   ]
  },
  {
   "cell_type": "code",
   "execution_count": 21,
   "metadata": {},
   "outputs": [],
   "source": [
    "sns.set_palette(\"Set2\")"
   ]
  },
  {
   "cell_type": "code",
   "execution_count": 22,
   "metadata": {
    "scrolled": true
   },
   "outputs": [
    {
     "data": {
      "image/png": "[encoded data removed]",
      "text/plain": [
       "<Figure size 1080x576 with 1 Axes>"
      ]
     },
     "metadata": {
      "needs_background": "light"
     },
     "output_type": "display_data"
    }
   ],
   "source": [
    "plt.figure(figsize=(15,8))\n",
    "sns.boxplot(x='price', y='middle_avg_bill', data=data, showfliers= False);"
   ]
  },
  {
   "cell_type": "code",
   "execution_count": 23,
   "metadata": {},
   "outputs": [
    {
     "name": "stdout",
     "output_type": "stream",
     "text": [
      "['выше среднего' 'средние' 'высокие' 'низкие']\n",
      "[1200.0, 300.0, 1750.0, 137.5]\n",
      "[1500.0, 1000.0, 3250.0, 300.0]\n"
     ]
    }
   ],
   "source": [
    "# считаем перцентили для разных категорий\n",
    "percentiles = [10,90]\n",
    "print (prices)\n",
    "for percent in percentiles:\n",
    "    bill_medians = []\n",
    "    for element in prices:\n",
    "        var = data[data['price'] == element].middle_avg_bill\n",
    "        bill_medians.append(np.percentile(var, percent))\n",
    "    print (bill_medians)   "
   ]
  },
  {
   "cell_type": "markdown",
   "metadata": {},
   "source": [
    "Примем следующие ценовые диапазоны средних чеков по категориям:\n",
    "- низкие - до 300 рублей \n",
    "- средние - от 300 до 1100 рублей\n",
    "- выше среднего - от 1100 до 1625 рублей \n",
    "- высокие - от 1625 рублей"
   ]
  },
  {
   "cell_type": "markdown",
   "metadata": {},
   "source": [
    "Заменяем пропущенные значения в `price` по ценовым диапазонам в `middle_avg_bill`"
   ]
  },
  {
   "cell_type": "code",
   "execution_count": 24,
   "metadata": {},
   "outputs": [],
   "source": [
    "def fill_nan_price_bill(row):\n",
    "    if row['price'] != row['price'] \\\n",
    "    and row['middle_avg_bill'] == row['middle_avg_bill']:\n",
    "        if row['middle_avg_bill'] < 300:\n",
    "            return 'низкие'\n",
    "        elif 300 <= row['middle_avg_bill'] < 1100:\n",
    "            return 'средние'\n",
    "        elif 1100 <= row['middle_avg_bill'] < 1625:\n",
    "            return 'выше среднего'\n",
    "        elif row['middle_avg_bill'] >= 1625:\n",
    "            return 'высокие'\n",
    "    else:\n",
    "        return row['price']"
   ]
  },
  {
   "cell_type": "code",
   "execution_count": 25,
   "metadata": {},
   "outputs": [],
   "source": [
    "data['price'] = data.apply(fill_nan_price_bill, axis=1)"
   ]
  },
  {
   "cell_type": "markdown",
   "metadata": {},
   "source": [
    "Для средней цены чашки кофе используем boxplot, и по нему сформируем диапазон цен"
   ]
  },
  {
   "cell_type": "code",
   "execution_count": 26,
   "metadata": {
    "scrolled": true
   },
   "outputs": [
    {
     "data": {
      "image/png": "[encoded data removed]",
      "text/plain": [
       "<Figure size 1080x576 with 1 Axes>"
      ]
     },
     "metadata": {
      "needs_background": "light"
     },
     "output_type": "display_data"
    }
   ],
   "source": [
    "plt.figure(figsize=(15,8))\n",
    "sns.boxplot(x='price', y='middle_coffee_cup', data=data, showfliers= False);"
   ]
  },
  {
   "cell_type": "markdown",
   "metadata": {},
   "source": [
    "Примем следующий диапазон цен по средней стоимости кофе по категориям:\n",
    "- низкие - до 150 рублей \n",
    "- средние - от 150 до 200 рублей\n",
    "- выше среднего - от 200 до 250 рублей \n",
    "- высокие - от 250 рублей"
   ]
  },
  {
   "cell_type": "markdown",
   "metadata": {},
   "source": [
    "Заменяем пропущенные значения в `price` по ценовым диапазонам в `middle_coffee_cup`"
   ]
  },
  {
   "cell_type": "code",
   "execution_count": 27,
   "metadata": {},
   "outputs": [],
   "source": [
    "def fill_nan_price_coffee(row):\n",
    "    if row['price'] != row['price'] \\\n",
    "    and row['middle_coffee_cup'] == row['middle_coffee_cup']:\n",
    "        if row['middle_coffee_cup'] < 150:\n",
    "            return 'низкие'\n",
    "        elif 150 <= row['middle_coffee_cup'] < 200:\n",
    "            return 'средние'\n",
    "        elif 200 <= row['middle_coffee_cup'] < 250:\n",
    "            return 'выше среднего'\n",
    "        elif row['middle_coffee_cup'] >= 250:\n",
    "            return 'высокие'\n",
    "    else:\n",
    "        return row['price']"
   ]
  },
  {
   "cell_type": "code",
   "execution_count": 28,
   "metadata": {},
   "outputs": [],
   "source": [
    "data['price'] = data.apply(fill_nan_price_coffee, axis=1)"
   ]
  },
  {
   "cell_type": "markdown",
   "metadata": {},
   "source": [
    "Обновим известное количество пропусков в датафрейме"
   ]
  },
  {
   "cell_type": "code",
   "execution_count": 29,
   "metadata": {
    "scrolled": true
   },
   "outputs": [
    {
     "data": {
      "text/plain": [
       "name                    0\n",
       "category                0\n",
       "address                 0\n",
       "district                0\n",
       "hours                 536\n",
       "lat                     0\n",
       "lng                     0\n",
       "rating                  0\n",
       "price                4364\n",
       "avg_bill             4590\n",
       "middle_avg_bill      4621\n",
       "middle_coffee_cup    7664\n",
       "chain                   0\n",
       "seats                3611\n",
       "dtype: int64"
      ]
     },
     "execution_count": 29,
     "metadata": {},
     "output_type": "execute_result"
    }
   ],
   "source": [
    "data.isna().sum()"
   ]
  },
  {
   "cell_type": "code",
   "execution_count": 30,
   "metadata": {},
   "outputs": [
    {
     "data": {
      "text/plain": [
       "name                  0.0\n",
       "category              0.0\n",
       "address               0.0\n",
       "district              0.0\n",
       "hours                 6.4\n",
       "lat                   0.0\n",
       "lng                   0.0\n",
       "rating                0.0\n",
       "price                51.9\n",
       "avg_bill             54.6\n",
       "middle_avg_bill      55.0\n",
       "middle_coffee_cup    91.2\n",
       "chain                 0.0\n",
       "seats                43.0\n",
       "dtype: float64"
      ]
     },
     "execution_count": 30,
     "metadata": {},
     "output_type": "execute_result"
    }
   ],
   "source": [
    "(data.isna().mean()*100).round(1)"
   ]
  },
  {
   "cell_type": "markdown",
   "metadata": {},
   "source": [
    "*Суммарно удалось заменить 1565 пропусков*"
   ]
  },
  {
   "cell_type": "markdown",
   "metadata": {},
   "source": [
    "### Дополнение таблицы"
   ]
  },
  {
   "cell_type": "markdown",
   "metadata": {},
   "source": [
    "Добавим отдельный столбец `street` с названиями улиц из столбца с адресом"
   ]
  },
  {
   "cell_type": "code",
   "execution_count": 31,
   "metadata": {},
   "outputs": [],
   "source": [
    "# функция для отбора названия улицы из строки с адресом, принимая километры на МКАД за отдельные улицы\n",
    "def street_row(row):\n",
    "    name = row['address'].split(', ')\n",
    "    if name[1] == 'МКАД':\n",
    "        return str('МКАД, ' + name[2])\n",
    "    else:\n",
    "        return name[1]"
   ]
  },
  {
   "cell_type": "code",
   "execution_count": 32,
   "metadata": {},
   "outputs": [],
   "source": [
    "data['street'] = data.apply(street_row, axis=1)"
   ]
  },
  {
   "cell_type": "markdown",
   "metadata": {},
   "source": [
    "Создадим столбец `is_24/7` с обозначением, что заведение работает ежедневно и круглосуточно (24/7)"
   ]
  },
  {
   "cell_type": "code",
   "execution_count": 33,
   "metadata": {},
   "outputs": [],
   "source": [
    "data['is_24/7'] = data['hours'].str.contains('круглосуточно')"
   ]
  },
  {
   "cell_type": "code",
   "execution_count": 34,
   "metadata": {
    "scrolled": true
   },
   "outputs": [
    {
     "data": {
      "text/html": [
       "<div>\n",
       "<style scoped>\n",
       "    .dataframe tbody tr th:only-of-type {\n",
       "        vertical-align: middle;\n",
       "    }\n",
       "\n",
       "    .dataframe tbody tr th {\n",
       "        vertical-align: top;\n",
       "    }\n",
       "\n",
       "    .dataframe thead th {\n",
       "        text-align: right;\n",
       "    }\n",
       "</style>\n",
       "<table border=\"1\" class=\"dataframe\">\n",
       "  <thead>\n",
       "    <tr style=\"text-align: right;\">\n",
       "      <th></th>\n",
       "      <th>name</th>\n",
       "      <th>category</th>\n",
       "      <th>address</th>\n",
       "      <th>district</th>\n",
       "      <th>hours</th>\n",
       "      <th>lat</th>\n",
       "      <th>lng</th>\n",
       "      <th>rating</th>\n",
       "      <th>price</th>\n",
       "      <th>avg_bill</th>\n",
       "      <th>middle_avg_bill</th>\n",
       "      <th>middle_coffee_cup</th>\n",
       "      <th>chain</th>\n",
       "      <th>seats</th>\n",
       "      <th>street</th>\n",
       "      <th>is_24/7</th>\n",
       "    </tr>\n",
       "  </thead>\n",
       "  <tbody>\n",
       "    <tr>\n",
       "      <th>8396</th>\n",
       "      <td>Пекинский Двор</td>\n",
       "      <td>ресторан</td>\n",
       "      <td>Москва, Ленинский проспект, 158</td>\n",
       "      <td>Западный административный округ</td>\n",
       "      <td>ежедневно, 11:00–23:00</td>\n",
       "      <td>55.651706</td>\n",
       "      <td>37.482667</td>\n",
       "      <td>4.3</td>\n",
       "      <td>выше среднего</td>\n",
       "      <td>Средний счёт:1000–1500 ₽</td>\n",
       "      <td>1250.0</td>\n",
       "      <td>NaN</td>\n",
       "      <td>0</td>\n",
       "      <td>200.0</td>\n",
       "      <td>Ленинский проспект</td>\n",
       "      <td>False</td>\n",
       "    </tr>\n",
       "    <tr>\n",
       "      <th>8397</th>\n",
       "      <td>Траектория Крафт-Кафе</td>\n",
       "      <td>пиццерия</td>\n",
       "      <td>Москва, улица Лобачевского, 52, корп. 1</td>\n",
       "      <td>Западный административный округ</td>\n",
       "      <td>пн-пт 10:00–23:00; сб,вс 12:00–23:00</td>\n",
       "      <td>55.672011</td>\n",
       "      <td>37.492628</td>\n",
       "      <td>4.4</td>\n",
       "      <td>средние</td>\n",
       "      <td>NaN</td>\n",
       "      <td>500.0</td>\n",
       "      <td>NaN</td>\n",
       "      <td>0</td>\n",
       "      <td>60.0</td>\n",
       "      <td>улица Лобачевского</td>\n",
       "      <td>False</td>\n",
       "    </tr>\n",
       "    <tr>\n",
       "      <th>8398</th>\n",
       "      <td>На Волгина</td>\n",
       "      <td>кафе</td>\n",
       "      <td>Москва, улица Академика Волгина, 2А</td>\n",
       "      <td>Юго-Западный административный округ</td>\n",
       "      <td>ежедневно, 09:00–23:00</td>\n",
       "      <td>55.654933</td>\n",
       "      <td>37.521421</td>\n",
       "      <td>4.4</td>\n",
       "      <td>NaN</td>\n",
       "      <td>NaN</td>\n",
       "      <td>NaN</td>\n",
       "      <td>NaN</td>\n",
       "      <td>0</td>\n",
       "      <td>49.0</td>\n",
       "      <td>улица Академика Волгина</td>\n",
       "      <td>False</td>\n",
       "    </tr>\n",
       "    <tr>\n",
       "      <th>8399</th>\n",
       "      <td>Пекарня, кафе-гриль</td>\n",
       "      <td>булочная</td>\n",
       "      <td>Москва, Болотниковская улица, 52, корп. 2</td>\n",
       "      <td>Юго-Западный административный округ</td>\n",
       "      <td>ежедневно, круглосуточно</td>\n",
       "      <td>55.662866</td>\n",
       "      <td>37.582572</td>\n",
       "      <td>4.2</td>\n",
       "      <td>низкие</td>\n",
       "      <td>Средний счёт:50–250 ₽</td>\n",
       "      <td>150.0</td>\n",
       "      <td>NaN</td>\n",
       "      <td>0</td>\n",
       "      <td>50.0</td>\n",
       "      <td>Болотниковская улица</td>\n",
       "      <td>True</td>\n",
       "    </tr>\n",
       "    <tr>\n",
       "      <th>8400</th>\n",
       "      <td>Практика Кофе</td>\n",
       "      <td>кофейня</td>\n",
       "      <td>Москва, Чонгарский бульвар, 26А, корп. 1</td>\n",
       "      <td>Юго-Западный административный округ</td>\n",
       "      <td>пн-пт 08:00–22:00; сб,вс 09:00–22:00</td>\n",
       "      <td>55.654289</td>\n",
       "      <td>37.600722</td>\n",
       "      <td>4.4</td>\n",
       "      <td>NaN</td>\n",
       "      <td>NaN</td>\n",
       "      <td>NaN</td>\n",
       "      <td>NaN</td>\n",
       "      <td>0</td>\n",
       "      <td>55.0</td>\n",
       "      <td>Чонгарский бульвар</td>\n",
       "      <td>False</td>\n",
       "    </tr>\n",
       "    <tr>\n",
       "      <th>8401</th>\n",
       "      <td>Суши Мания</td>\n",
       "      <td>кафе</td>\n",
       "      <td>Москва, Профсоюзная улица, 56</td>\n",
       "      <td>Юго-Западный административный округ</td>\n",
       "      <td>ежедневно, 09:00–02:00</td>\n",
       "      <td>55.670021</td>\n",
       "      <td>37.552480</td>\n",
       "      <td>4.4</td>\n",
       "      <td>NaN</td>\n",
       "      <td>NaN</td>\n",
       "      <td>NaN</td>\n",
       "      <td>NaN</td>\n",
       "      <td>0</td>\n",
       "      <td>86.0</td>\n",
       "      <td>Профсоюзная улица</td>\n",
       "      <td>False</td>\n",
       "    </tr>\n",
       "    <tr>\n",
       "      <th>8402</th>\n",
       "      <td>Миславнес</td>\n",
       "      <td>кафе</td>\n",
       "      <td>Москва, Пролетарский проспект, 19, корп. 1</td>\n",
       "      <td>Южный административный округ</td>\n",
       "      <td>ежедневно, 08:00–22:00</td>\n",
       "      <td>55.640875</td>\n",
       "      <td>37.656553</td>\n",
       "      <td>4.8</td>\n",
       "      <td>NaN</td>\n",
       "      <td>NaN</td>\n",
       "      <td>NaN</td>\n",
       "      <td>NaN</td>\n",
       "      <td>0</td>\n",
       "      <td>150.0</td>\n",
       "      <td>Пролетарский проспект</td>\n",
       "      <td>False</td>\n",
       "    </tr>\n",
       "    <tr>\n",
       "      <th>8403</th>\n",
       "      <td>Самовар</td>\n",
       "      <td>кафе</td>\n",
       "      <td>Москва, Люблинская улица, 112А, стр. 1</td>\n",
       "      <td>Юго-Восточный административный округ</td>\n",
       "      <td>ежедневно, круглосуточно</td>\n",
       "      <td>55.648859</td>\n",
       "      <td>37.743219</td>\n",
       "      <td>3.9</td>\n",
       "      <td>низкие</td>\n",
       "      <td>Средний счёт:от 150 ₽</td>\n",
       "      <td>150.0</td>\n",
       "      <td>NaN</td>\n",
       "      <td>0</td>\n",
       "      <td>150.0</td>\n",
       "      <td>Люблинская улица</td>\n",
       "      <td>True</td>\n",
       "    </tr>\n",
       "    <tr>\n",
       "      <th>8404</th>\n",
       "      <td>Чайхана Sabr</td>\n",
       "      <td>кафе</td>\n",
       "      <td>Москва, Люблинская улица, 112А, стр. 1</td>\n",
       "      <td>Юго-Восточный административный округ</td>\n",
       "      <td>ежедневно, круглосуточно</td>\n",
       "      <td>55.648849</td>\n",
       "      <td>37.743222</td>\n",
       "      <td>4.2</td>\n",
       "      <td>NaN</td>\n",
       "      <td>NaN</td>\n",
       "      <td>NaN</td>\n",
       "      <td>NaN</td>\n",
       "      <td>1</td>\n",
       "      <td>150.0</td>\n",
       "      <td>Люблинская улица</td>\n",
       "      <td>True</td>\n",
       "    </tr>\n",
       "    <tr>\n",
       "      <th>8405</th>\n",
       "      <td>Kebab Time</td>\n",
       "      <td>кафе</td>\n",
       "      <td>Москва, Россошанский проезд, 6</td>\n",
       "      <td>Южный административный округ</td>\n",
       "      <td>ежедневно, круглосуточно</td>\n",
       "      <td>55.598229</td>\n",
       "      <td>37.604702</td>\n",
       "      <td>3.9</td>\n",
       "      <td>NaN</td>\n",
       "      <td>NaN</td>\n",
       "      <td>NaN</td>\n",
       "      <td>NaN</td>\n",
       "      <td>0</td>\n",
       "      <td>12.0</td>\n",
       "      <td>Россошанский проезд</td>\n",
       "      <td>True</td>\n",
       "    </tr>\n",
       "  </tbody>\n",
       "</table>\n",
       "</div>"
      ],
      "text/plain": [
       "                       name  category  \\\n",
       "8396         Пекинский Двор  ресторан   \n",
       "8397  Траектория Крафт-Кафе  пиццерия   \n",
       "8398             На Волгина      кафе   \n",
       "8399    Пекарня, кафе-гриль  булочная   \n",
       "8400          Практика Кофе   кофейня   \n",
       "8401             Суши Мания      кафе   \n",
       "8402              Миславнес      кафе   \n",
       "8403                Самовар      кафе   \n",
       "8404           Чайхана Sabr      кафе   \n",
       "8405             Kebab Time      кафе   \n",
       "\n",
       "                                         address  \\\n",
       "8396             Москва, Ленинский проспект, 158   \n",
       "8397     Москва, улица Лобачевского, 52, корп. 1   \n",
       "8398         Москва, улица Академика Волгина, 2А   \n",
       "8399   Москва, Болотниковская улица, 52, корп. 2   \n",
       "8400    Москва, Чонгарский бульвар, 26А, корп. 1   \n",
       "8401               Москва, Профсоюзная улица, 56   \n",
       "8402  Москва, Пролетарский проспект, 19, корп. 1   \n",
       "8403      Москва, Люблинская улица, 112А, стр. 1   \n",
       "8404      Москва, Люблинская улица, 112А, стр. 1   \n",
       "8405              Москва, Россошанский проезд, 6   \n",
       "\n",
       "                                  district  \\\n",
       "8396       Западный административный округ   \n",
       "8397       Западный административный округ   \n",
       "8398   Юго-Западный административный округ   \n",
       "8399   Юго-Западный административный округ   \n",
       "8400   Юго-Западный административный округ   \n",
       "8401   Юго-Западный административный округ   \n",
       "8402          Южный административный округ   \n",
       "8403  Юго-Восточный административный округ   \n",
       "8404  Юго-Восточный административный округ   \n",
       "8405          Южный административный округ   \n",
       "\n",
       "                                     hours        lat        lng  rating  \\\n",
       "8396                ежедневно, 11:00–23:00  55.651706  37.482667     4.3   \n",
       "8397  пн-пт 10:00–23:00; сб,вс 12:00–23:00  55.672011  37.492628     4.4   \n",
       "8398                ежедневно, 09:00–23:00  55.654933  37.521421     4.4   \n",
       "8399              ежедневно, круглосуточно  55.662866  37.582572     4.2   \n",
       "8400  пн-пт 08:00–22:00; сб,вс 09:00–22:00  55.654289  37.600722     4.4   \n",
       "8401                ежедневно, 09:00–02:00  55.670021  37.552480     4.4   \n",
       "8402                ежедневно, 08:00–22:00  55.640875  37.656553     4.8   \n",
       "8403              ежедневно, круглосуточно  55.648859  37.743219     3.9   \n",
       "8404              ежедневно, круглосуточно  55.648849  37.743222     4.2   \n",
       "8405              ежедневно, круглосуточно  55.598229  37.604702     3.9   \n",
       "\n",
       "              price                  avg_bill  middle_avg_bill  \\\n",
       "8396  выше среднего  Средний счёт:1000–1500 ₽           1250.0   \n",
       "8397        средние                       NaN            500.0   \n",
       "8398            NaN                       NaN              NaN   \n",
       "8399         низкие     Средний счёт:50–250 ₽            150.0   \n",
       "8400            NaN                       NaN              NaN   \n",
       "8401            NaN                       NaN              NaN   \n",
       "8402            NaN                       NaN              NaN   \n",
       "8403         низкие     Средний счёт:от 150 ₽            150.0   \n",
       "8404            NaN                       NaN              NaN   \n",
       "8405            NaN                       NaN              NaN   \n",
       "\n",
       "      middle_coffee_cup  chain  seats                   street is_24/7  \n",
       "8396                NaN      0  200.0       Ленинский проспект   False  \n",
       "8397                NaN      0   60.0       улица Лобачевского   False  \n",
       "8398                NaN      0   49.0  улица Академика Волгина   False  \n",
       "8399                NaN      0   50.0     Болотниковская улица    True  \n",
       "8400                NaN      0   55.0       Чонгарский бульвар   False  \n",
       "8401                NaN      0   86.0        Профсоюзная улица   False  \n",
       "8402                NaN      0  150.0    Пролетарский проспект   False  \n",
       "8403                NaN      0  150.0         Люблинская улица    True  \n",
       "8404                NaN      1  150.0         Люблинская улица    True  \n",
       "8405                NaN      0   12.0      Россошанский проезд    True  "
      ]
     },
     "execution_count": 34,
     "metadata": {},
     "output_type": "execute_result"
    }
   ],
   "source": [
    "data.tail(10)"
   ]
  },
  {
   "cell_type": "markdown",
   "metadata": {},
   "source": [
    "Проведем поиск неявных дубликатов заведений. Для этого, в столбце `names`, приведем к единому регистру, заменим служебные знаки, удалим лишние пробелы и заменим буквы `ё`"
   ]
  },
  {
   "cell_type": "code",
   "execution_count": 35,
   "metadata": {},
   "outputs": [],
   "source": [
    "data['name'] = data.apply(lambda row: row['name'].lower(), axis=1)\n",
    "data['name'] = data.apply(lambda row: row['name'].replace('ё', 'е'), axis=1)\n",
    "data['name'] = data.apply(lambda row: row['name'].replace('  ', ' '), axis=1)\n",
    "data['name'] = data.apply(lambda row: row['name'].replace('-', ' '), axis=1)\n",
    "data['name'] = data.apply(lambda row: row['name'].replace('.', ''), axis=1)\n",
    "data['name'] = data.apply(lambda row: row['name'].replace('№', ' '), axis=1)\n",
    "data['name'] = data.apply(lambda row: row['name'].replace('\\\"', ' '), axis=1)\n",
    "data['name'] = data.apply(lambda row: row['name'].strip(), axis=1)"
   ]
  },
  {
   "cell_type": "code",
   "execution_count": 36,
   "metadata": {
    "scrolled": true
   },
   "outputs": [
    {
     "data": {
      "text/html": [
       "<div>\n",
       "<style scoped>\n",
       "    .dataframe tbody tr th:only-of-type {\n",
       "        vertical-align: middle;\n",
       "    }\n",
       "\n",
       "    .dataframe tbody tr th {\n",
       "        vertical-align: top;\n",
       "    }\n",
       "\n",
       "    .dataframe thead th {\n",
       "        text-align: right;\n",
       "    }\n",
       "</style>\n",
       "<table border=\"1\" class=\"dataframe\">\n",
       "  <thead>\n",
       "    <tr style=\"text-align: right;\">\n",
       "      <th></th>\n",
       "      <th>name</th>\n",
       "      <th>category</th>\n",
       "      <th>address</th>\n",
       "      <th>district</th>\n",
       "      <th>hours</th>\n",
       "      <th>lat</th>\n",
       "      <th>lng</th>\n",
       "      <th>rating</th>\n",
       "      <th>price</th>\n",
       "      <th>avg_bill</th>\n",
       "      <th>middle_avg_bill</th>\n",
       "      <th>middle_coffee_cup</th>\n",
       "      <th>chain</th>\n",
       "      <th>seats</th>\n",
       "      <th>street</th>\n",
       "      <th>is_24/7</th>\n",
       "    </tr>\n",
       "  </thead>\n",
       "  <tbody>\n",
       "    <tr>\n",
       "      <th>1511</th>\n",
       "      <td>more poke</td>\n",
       "      <td>ресторан</td>\n",
       "      <td>Москва, Волоколамское шоссе, 11, стр. 2</td>\n",
       "      <td>Северный административный округ</td>\n",
       "      <td>пн-чт 09:00–18:00; пт,сб 09:00–21:00; вс 09:00...</td>\n",
       "      <td>55.806307</td>\n",
       "      <td>37.497566</td>\n",
       "      <td>4.2</td>\n",
       "      <td>NaN</td>\n",
       "      <td>NaN</td>\n",
       "      <td>NaN</td>\n",
       "      <td>NaN</td>\n",
       "      <td>1</td>\n",
       "      <td>188.0</td>\n",
       "      <td>Волоколамское шоссе</td>\n",
       "      <td>False</td>\n",
       "    </tr>\n",
       "    <tr>\n",
       "      <th>2420</th>\n",
       "      <td>раковарня клешни и хвосты</td>\n",
       "      <td>бар,паб</td>\n",
       "      <td>Москва, проспект Мира, 118</td>\n",
       "      <td>Северо-Восточный административный округ</td>\n",
       "      <td>пн-чт 12:00–00:00; пт,сб 12:00–01:00; вс 12:00...</td>\n",
       "      <td>55.810677</td>\n",
       "      <td>37.638379</td>\n",
       "      <td>4.4</td>\n",
       "      <td>NaN</td>\n",
       "      <td>NaN</td>\n",
       "      <td>NaN</td>\n",
       "      <td>NaN</td>\n",
       "      <td>1</td>\n",
       "      <td>150.0</td>\n",
       "      <td>проспект Мира</td>\n",
       "      <td>False</td>\n",
       "    </tr>\n",
       "    <tr>\n",
       "      <th>3109</th>\n",
       "      <td>хлеб да выпечка</td>\n",
       "      <td>кафе</td>\n",
       "      <td>Москва, Ярцевская улица, 19</td>\n",
       "      <td>Западный административный округ</td>\n",
       "      <td>NaN</td>\n",
       "      <td>55.738449</td>\n",
       "      <td>37.410937</td>\n",
       "      <td>4.1</td>\n",
       "      <td>NaN</td>\n",
       "      <td>NaN</td>\n",
       "      <td>NaN</td>\n",
       "      <td>NaN</td>\n",
       "      <td>0</td>\n",
       "      <td>276.0</td>\n",
       "      <td>Ярцевская улица</td>\n",
       "      <td>NaN</td>\n",
       "    </tr>\n",
       "  </tbody>\n",
       "</table>\n",
       "</div>"
      ],
      "text/plain": [
       "                           name  category  \\\n",
       "1511                  more poke  ресторан   \n",
       "2420  раковарня клешни и хвосты   бар,паб   \n",
       "3109            хлеб да выпечка      кафе   \n",
       "\n",
       "                                      address  \\\n",
       "1511  Москва, Волоколамское шоссе, 11, стр. 2   \n",
       "2420               Москва, проспект Мира, 118   \n",
       "3109              Москва, Ярцевская улица, 19   \n",
       "\n",
       "                                     district  \\\n",
       "1511          Северный административный округ   \n",
       "2420  Северо-Восточный административный округ   \n",
       "3109          Западный административный округ   \n",
       "\n",
       "                                                  hours        lat        lng  \\\n",
       "1511  пн-чт 09:00–18:00; пт,сб 09:00–21:00; вс 09:00...  55.806307  37.497566   \n",
       "2420  пн-чт 12:00–00:00; пт,сб 12:00–01:00; вс 12:00...  55.810677  37.638379   \n",
       "3109                                                NaN  55.738449  37.410937   \n",
       "\n",
       "      rating price avg_bill  middle_avg_bill  middle_coffee_cup  chain  seats  \\\n",
       "1511     4.2   NaN      NaN              NaN                NaN      1  188.0   \n",
       "2420     4.4   NaN      NaN              NaN                NaN      1  150.0   \n",
       "3109     4.1   NaN      NaN              NaN                NaN      0  276.0   \n",
       "\n",
       "                   street is_24/7  \n",
       "1511  Волоколамское шоссе   False  \n",
       "2420        проспект Мира   False  \n",
       "3109      Ярцевская улица     NaN  "
      ]
     },
     "execution_count": 36,
     "metadata": {},
     "output_type": "execute_result"
    }
   ],
   "source": [
    "data[data[['name','address']].duplicated()]"
   ]
  },
  {
   "cell_type": "markdown",
   "metadata": {},
   "source": [
    "Обнаружено 3 дубликата. Уберем их из датасета."
   ]
  },
  {
   "cell_type": "code",
   "execution_count": 37,
   "metadata": {},
   "outputs": [],
   "source": [
    "data = data.drop_duplicates(subset=['name','address']).reset_index(drop=True)"
   ]
  },
  {
   "cell_type": "markdown",
   "metadata": {},
   "source": [
    "Рассмотрим также присутствие выбросов и аномалий в столбцах `seats`, `middle_avg_bill` и `middle_coffee_cup`"
   ]
  },
  {
   "cell_type": "code",
   "execution_count": 38,
   "metadata": {
    "scrolled": true
   },
   "outputs": [
    {
     "data": {
      "image/png": "[encoded data removed]",
      "text/plain": [
       "<Figure size 432x288 with 1 Axes>"
      ]
     },
     "metadata": {
      "needs_background": "light"
     },
     "output_type": "display_data"
    }
   ],
   "source": [
    "sns.boxplot(x=data['middle_avg_bill']);"
   ]
  },
  {
   "cell_type": "code",
   "execution_count": 39,
   "metadata": {
    "scrolled": true
   },
   "outputs": [
    {
     "data": {
      "text/html": [
       "<div>\n",
       "<style scoped>\n",
       "    .dataframe tbody tr th:only-of-type {\n",
       "        vertical-align: middle;\n",
       "    }\n",
       "\n",
       "    .dataframe tbody tr th {\n",
       "        vertical-align: top;\n",
       "    }\n",
       "\n",
       "    .dataframe thead th {\n",
       "        text-align: right;\n",
       "    }\n",
       "</style>\n",
       "<table border=\"1\" class=\"dataframe\">\n",
       "  <thead>\n",
       "    <tr style=\"text-align: right;\">\n",
       "      <th></th>\n",
       "      <th>name</th>\n",
       "      <th>category</th>\n",
       "      <th>address</th>\n",
       "      <th>district</th>\n",
       "      <th>hours</th>\n",
       "      <th>lat</th>\n",
       "      <th>lng</th>\n",
       "      <th>rating</th>\n",
       "      <th>price</th>\n",
       "      <th>avg_bill</th>\n",
       "      <th>middle_avg_bill</th>\n",
       "      <th>middle_coffee_cup</th>\n",
       "      <th>chain</th>\n",
       "      <th>seats</th>\n",
       "      <th>street</th>\n",
       "      <th>is_24/7</th>\n",
       "    </tr>\n",
       "  </thead>\n",
       "  <tbody>\n",
       "    <tr>\n",
       "      <th>3036</th>\n",
       "      <td>беллини</td>\n",
       "      <td>ресторан</td>\n",
       "      <td>Москва, Рублёвское шоссе, 28</td>\n",
       "      <td>Западный административный округ</td>\n",
       "      <td>ежедневно, 12:00–00:00</td>\n",
       "      <td>55.747632</td>\n",
       "      <td>37.425631</td>\n",
       "      <td>4.3</td>\n",
       "      <td>высокие</td>\n",
       "      <td>Средний счёт:5000–5500 ₽</td>\n",
       "      <td>5250.0</td>\n",
       "      <td>NaN</td>\n",
       "      <td>0</td>\n",
       "      <td>150.0</td>\n",
       "      <td>Рублёвское шоссе</td>\n",
       "      <td>False</td>\n",
       "    </tr>\n",
       "    <tr>\n",
       "      <th>2793</th>\n",
       "      <td>крошка картошка</td>\n",
       "      <td>быстрое питание</td>\n",
       "      <td>Москва, Щёлковское шоссе, вл75</td>\n",
       "      <td>Восточный административный округ</td>\n",
       "      <td>ежедневно, 10:00–22:00</td>\n",
       "      <td>55.811160</td>\n",
       "      <td>37.799823</td>\n",
       "      <td>4.0</td>\n",
       "      <td>высокие</td>\n",
       "      <td>Средний счёт:1000–10000 ₽</td>\n",
       "      <td>5500.0</td>\n",
       "      <td>NaN</td>\n",
       "      <td>1</td>\n",
       "      <td>NaN</td>\n",
       "      <td>Щёлковское шоссе</td>\n",
       "      <td>False</td>\n",
       "    </tr>\n",
       "    <tr>\n",
       "      <th>3600</th>\n",
       "      <td>lucky izakaya bar</td>\n",
       "      <td>бар,паб</td>\n",
       "      <td>Москва, Калашный переулок, 9</td>\n",
       "      <td>Центральный административный округ</td>\n",
       "      <td>пн-чт 12:00–00:00; пт,сб 12:00–02:00; вс 12:00...</td>\n",
       "      <td>55.757313</td>\n",
       "      <td>37.599581</td>\n",
       "      <td>4.8</td>\n",
       "      <td>высокие</td>\n",
       "      <td>Средний счёт:5500 ₽</td>\n",
       "      <td>5500.0</td>\n",
       "      <td>NaN</td>\n",
       "      <td>0</td>\n",
       "      <td>NaN</td>\n",
       "      <td>Калашный переулок</td>\n",
       "      <td>False</td>\n",
       "    </tr>\n",
       "    <tr>\n",
       "      <th>3907</th>\n",
       "      <td>кантинетта антинори</td>\n",
       "      <td>ресторан</td>\n",
       "      <td>Москва, Денежный переулок, 20</td>\n",
       "      <td>Центральный административный округ</td>\n",
       "      <td>ежедневно, 12:00–00:00</td>\n",
       "      <td>55.745383</td>\n",
       "      <td>37.586595</td>\n",
       "      <td>4.7</td>\n",
       "      <td>высокие</td>\n",
       "      <td>Средний счёт:6000 ₽</td>\n",
       "      <td>6000.0</td>\n",
       "      <td>NaN</td>\n",
       "      <td>0</td>\n",
       "      <td>80.0</td>\n",
       "      <td>Денежный переулок</td>\n",
       "      <td>False</td>\n",
       "    </tr>\n",
       "    <tr>\n",
       "      <th>3515</th>\n",
       "      <td>чайка</td>\n",
       "      <td>ресторан</td>\n",
       "      <td>Москва, Краснопресненская набережная, 12А</td>\n",
       "      <td>Центральный административный округ</td>\n",
       "      <td>ежедневно, 12:00–00:00</td>\n",
       "      <td>55.752857</td>\n",
       "      <td>37.556365</td>\n",
       "      <td>4.8</td>\n",
       "      <td>высокие</td>\n",
       "      <td>Средний счёт:5000–8000 ₽</td>\n",
       "      <td>6500.0</td>\n",
       "      <td>NaN</td>\n",
       "      <td>1</td>\n",
       "      <td>250.0</td>\n",
       "      <td>Краснопресненская набережная</td>\n",
       "      <td>False</td>\n",
       "    </tr>\n",
       "    <tr>\n",
       "      <th>3393</th>\n",
       "      <td>марио</td>\n",
       "      <td>ресторан</td>\n",
       "      <td>Москва, улица Климашкина, 17</td>\n",
       "      <td>Центральный административный округ</td>\n",
       "      <td>ежедневно, 12:00–00:00</td>\n",
       "      <td>55.767792</td>\n",
       "      <td>37.568453</td>\n",
       "      <td>4.5</td>\n",
       "      <td>высокие</td>\n",
       "      <td>Средний счёт:7000 ₽</td>\n",
       "      <td>7000.0</td>\n",
       "      <td>NaN</td>\n",
       "      <td>0</td>\n",
       "      <td>100.0</td>\n",
       "      <td>улица Климашкина</td>\n",
       "      <td>False</td>\n",
       "    </tr>\n",
       "    <tr>\n",
       "      <th>3484</th>\n",
       "      <td>800°с contemporary steak</td>\n",
       "      <td>ресторан</td>\n",
       "      <td>Москва, Большой Патриарший переулок, 6, стр. 1</td>\n",
       "      <td>Центральный административный округ</td>\n",
       "      <td>ежедневно, 09:00–23:30</td>\n",
       "      <td>55.762708</td>\n",
       "      <td>37.592138</td>\n",
       "      <td>4.7</td>\n",
       "      <td>высокие</td>\n",
       "      <td>Средний счёт:6000–8000 ₽</td>\n",
       "      <td>7000.0</td>\n",
       "      <td>NaN</td>\n",
       "      <td>0</td>\n",
       "      <td>75.0</td>\n",
       "      <td>Большой Патриарший переулок</td>\n",
       "      <td>False</td>\n",
       "    </tr>\n",
       "    <tr>\n",
       "      <th>3879</th>\n",
       "      <td>white rabbit</td>\n",
       "      <td>ресторан</td>\n",
       "      <td>Москва, Смоленская площадь, 3</td>\n",
       "      <td>Центральный административный округ</td>\n",
       "      <td>ежедневно, 12:00–00:00</td>\n",
       "      <td>55.747608</td>\n",
       "      <td>37.581248</td>\n",
       "      <td>4.9</td>\n",
       "      <td>высокие</td>\n",
       "      <td>Средний счёт:7000–7500 ₽</td>\n",
       "      <td>7250.0</td>\n",
       "      <td>NaN</td>\n",
       "      <td>0</td>\n",
       "      <td>150.0</td>\n",
       "      <td>Смоленская площадь</td>\n",
       "      <td>False</td>\n",
       "    </tr>\n",
       "    <tr>\n",
       "      <th>5478</th>\n",
       "      <td>гости</td>\n",
       "      <td>ресторан</td>\n",
       "      <td>Москва, шоссе Энтузиастов, 52</td>\n",
       "      <td>Восточный административный округ</td>\n",
       "      <td>пн,вс 18:00–22:30</td>\n",
       "      <td>55.759088</td>\n",
       "      <td>37.760570</td>\n",
       "      <td>4.1</td>\n",
       "      <td>высокие</td>\n",
       "      <td>Средний счёт:5000–15000 ₽</td>\n",
       "      <td>10000.0</td>\n",
       "      <td>NaN</td>\n",
       "      <td>0</td>\n",
       "      <td>NaN</td>\n",
       "      <td>шоссе Энтузиастов</td>\n",
       "      <td>False</td>\n",
       "    </tr>\n",
       "    <tr>\n",
       "      <th>730</th>\n",
       "      <td>чойхона</td>\n",
       "      <td>бар,паб</td>\n",
       "      <td>Москва, Дмитровское шоссе, 95А</td>\n",
       "      <td>Северный административный округ</td>\n",
       "      <td>ежедневно, 10:00–23:00</td>\n",
       "      <td>55.871497</td>\n",
       "      <td>37.543555</td>\n",
       "      <td>4.4</td>\n",
       "      <td>высокие</td>\n",
       "      <td>Средний счёт:5000–17000 ₽</td>\n",
       "      <td>11000.0</td>\n",
       "      <td>NaN</td>\n",
       "      <td>0</td>\n",
       "      <td>49.0</td>\n",
       "      <td>Дмитровское шоссе</td>\n",
       "      <td>False</td>\n",
       "    </tr>\n",
       "    <tr>\n",
       "      <th>7174</th>\n",
       "      <td>кафе</td>\n",
       "      <td>ресторан</td>\n",
       "      <td>Москва, Каширское шоссе, 23, стр. 2</td>\n",
       "      <td>Южный административный округ</td>\n",
       "      <td>ежедневно, круглосуточно</td>\n",
       "      <td>55.657450</td>\n",
       "      <td>37.646665</td>\n",
       "      <td>4.1</td>\n",
       "      <td>высокие</td>\n",
       "      <td>Средний счёт:20000–50000 ₽</td>\n",
       "      <td>35000.0</td>\n",
       "      <td>NaN</td>\n",
       "      <td>0</td>\n",
       "      <td>100.0</td>\n",
       "      <td>Каширское шоссе</td>\n",
       "      <td>True</td>\n",
       "    </tr>\n",
       "  </tbody>\n",
       "</table>\n",
       "</div>"
      ],
      "text/plain": [
       "                          name         category  \\\n",
       "3036                   беллини         ресторан   \n",
       "2793           крошка картошка  быстрое питание   \n",
       "3600         lucky izakaya bar          бар,паб   \n",
       "3907       кантинетта антинори         ресторан   \n",
       "3515                     чайка         ресторан   \n",
       "3393                     марио         ресторан   \n",
       "3484  800°с contemporary steak         ресторан   \n",
       "3879              white rabbit         ресторан   \n",
       "5478                     гости         ресторан   \n",
       "730                    чойхона          бар,паб   \n",
       "7174                      кафе         ресторан   \n",
       "\n",
       "                                             address  \\\n",
       "3036                    Москва, Рублёвское шоссе, 28   \n",
       "2793                  Москва, Щёлковское шоссе, вл75   \n",
       "3600                    Москва, Калашный переулок, 9   \n",
       "3907                   Москва, Денежный переулок, 20   \n",
       "3515       Москва, Краснопресненская набережная, 12А   \n",
       "3393                    Москва, улица Климашкина, 17   \n",
       "3484  Москва, Большой Патриарший переулок, 6, стр. 1   \n",
       "3879                   Москва, Смоленская площадь, 3   \n",
       "5478                   Москва, шоссе Энтузиастов, 52   \n",
       "730                   Москва, Дмитровское шоссе, 95А   \n",
       "7174             Москва, Каширское шоссе, 23, стр. 2   \n",
       "\n",
       "                                district  \\\n",
       "3036     Западный административный округ   \n",
       "2793    Восточный административный округ   \n",
       "3600  Центральный административный округ   \n",
       "3907  Центральный административный округ   \n",
       "3515  Центральный административный округ   \n",
       "3393  Центральный административный округ   \n",
       "3484  Центральный административный округ   \n",
       "3879  Центральный административный округ   \n",
       "5478    Восточный административный округ   \n",
       "730      Северный административный округ   \n",
       "7174        Южный административный округ   \n",
       "\n",
       "                                                  hours        lat        lng  \\\n",
       "3036                             ежедневно, 12:00–00:00  55.747632  37.425631   \n",
       "2793                             ежедневно, 10:00–22:00  55.811160  37.799823   \n",
       "3600  пн-чт 12:00–00:00; пт,сб 12:00–02:00; вс 12:00...  55.757313  37.599581   \n",
       "3907                             ежедневно, 12:00–00:00  55.745383  37.586595   \n",
       "3515                             ежедневно, 12:00–00:00  55.752857  37.556365   \n",
       "3393                             ежедневно, 12:00–00:00  55.767792  37.568453   \n",
       "3484                             ежедневно, 09:00–23:30  55.762708  37.592138   \n",
       "3879                             ежедневно, 12:00–00:00  55.747608  37.581248   \n",
       "5478                                  пн,вс 18:00–22:30  55.759088  37.760570   \n",
       "730                              ежедневно, 10:00–23:00  55.871497  37.543555   \n",
       "7174                           ежедневно, круглосуточно  55.657450  37.646665   \n",
       "\n",
       "      rating    price                    avg_bill  middle_avg_bill  \\\n",
       "3036     4.3  высокие    Средний счёт:5000–5500 ₽           5250.0   \n",
       "2793     4.0  высокие   Средний счёт:1000–10000 ₽           5500.0   \n",
       "3600     4.8  высокие         Средний счёт:5500 ₽           5500.0   \n",
       "3907     4.7  высокие         Средний счёт:6000 ₽           6000.0   \n",
       "3515     4.8  высокие    Средний счёт:5000–8000 ₽           6500.0   \n",
       "3393     4.5  высокие         Средний счёт:7000 ₽           7000.0   \n",
       "3484     4.7  высокие    Средний счёт:6000–8000 ₽           7000.0   \n",
       "3879     4.9  высокие    Средний счёт:7000–7500 ₽           7250.0   \n",
       "5478     4.1  высокие   Средний счёт:5000–15000 ₽          10000.0   \n",
       "730      4.4  высокие   Средний счёт:5000–17000 ₽          11000.0   \n",
       "7174     4.1  высокие  Средний счёт:20000–50000 ₽          35000.0   \n",
       "\n",
       "      middle_coffee_cup  chain  seats                        street is_24/7  \n",
       "3036                NaN      0  150.0              Рублёвское шоссе   False  \n",
       "2793                NaN      1    NaN              Щёлковское шоссе   False  \n",
       "3600                NaN      0    NaN             Калашный переулок   False  \n",
       "3907                NaN      0   80.0             Денежный переулок   False  \n",
       "3515                NaN      1  250.0  Краснопресненская набережная   False  \n",
       "3393                NaN      0  100.0              улица Климашкина   False  \n",
       "3484                NaN      0   75.0   Большой Патриарший переулок   False  \n",
       "3879                NaN      0  150.0            Смоленская площадь   False  \n",
       "5478                NaN      0    NaN             шоссе Энтузиастов   False  \n",
       "730                 NaN      0   49.0             Дмитровское шоссе   False  \n",
       "7174                NaN      0  100.0               Каширское шоссе    True  "
      ]
     },
     "execution_count": 39,
     "metadata": {},
     "output_type": "execute_result"
    }
   ],
   "source": [
    "data.query('middle_avg_bill > 5000').sort_values(by='middle_avg_bill')"
   ]
  },
  {
   "cell_type": "markdown",
   "metadata": {},
   "source": [
    "Похожими на выбросы можно назвать два последние строчки. Уберем их из датафрейма. А также, разделим на порядок заведения со средним ценником выше 4000 рублей в категории быстрое питание, предполагая наличие такой ошибки в данных"
   ]
  },
  {
   "cell_type": "code",
   "execution_count": 40,
   "metadata": {
    "code_folding": [],
    "scrolled": true
   },
   "outputs": [],
   "source": [
    "def bill_out_range(row):\n",
    "    if row['middle_avg_bill'] > 4000 \\\n",
    "    and row['category'] == 'быстрое питание':\n",
    "        return row['middle_avg_bill'] / 10\n",
    "    else: \n",
    "        return row['middle_avg_bill']"
   ]
  },
  {
   "cell_type": "code",
   "execution_count": 41,
   "metadata": {},
   "outputs": [],
   "source": [
    "data['middle_avg_bill'] = data.apply(bill_out_range, axis=1)"
   ]
  },
  {
   "cell_type": "code",
   "execution_count": 42,
   "metadata": {},
   "outputs": [],
   "source": [
    "data = data.query('middle_avg_bill < 8000 or middle_avg_bill != middle_avg_bill')"
   ]
  },
  {
   "cell_type": "code",
   "execution_count": 43,
   "metadata": {
    "scrolled": true
   },
   "outputs": [
    {
     "data": {
      "image/png": "[encoded data removed]",
      "text/plain": [
       "<Figure size 432x288 with 1 Axes>"
      ]
     },
     "metadata": {
      "needs_background": "light"
     },
     "output_type": "display_data"
    }
   ],
   "source": [
    "sns.boxplot(x=data['middle_coffee_cup']);"
   ]
  },
  {
   "cell_type": "markdown",
   "metadata": {},
   "source": [
    "Для данных по средней стоимости кофе достаточно отфильтровать слишком очевидный выброс"
   ]
  },
  {
   "cell_type": "code",
   "execution_count": 44,
   "metadata": {},
   "outputs": [],
   "source": [
    "data = data.query('middle_coffee_cup < 400 or middle_coffee_cup != middle_coffee_cup').reset_index(drop=True)"
   ]
  },
  {
   "cell_type": "code",
   "execution_count": 45,
   "metadata": {
    "scrolled": true
   },
   "outputs": [
    {
     "data": {
      "image/png": "[encoded data removed]",
      "text/plain": [
       "<Figure size 432x288 with 1 Axes>"
      ]
     },
     "metadata": {
      "needs_background": "light"
     },
     "output_type": "display_data"
    }
   ],
   "source": [
    "sns.boxplot(x=data['seats']);"
   ]
  },
  {
   "cell_type": "code",
   "execution_count": 46,
   "metadata": {},
   "outputs": [
    {
     "data": {
      "text/html": [
       "<div>\n",
       "<style scoped>\n",
       "    .dataframe tbody tr th:only-of-type {\n",
       "        vertical-align: middle;\n",
       "    }\n",
       "\n",
       "    .dataframe tbody tr th {\n",
       "        vertical-align: top;\n",
       "    }\n",
       "\n",
       "    .dataframe thead th {\n",
       "        text-align: right;\n",
       "    }\n",
       "</style>\n",
       "<table border=\"1\" class=\"dataframe\">\n",
       "  <thead>\n",
       "    <tr style=\"text-align: right;\">\n",
       "      <th></th>\n",
       "      <th>name</th>\n",
       "      <th>category</th>\n",
       "      <th>address</th>\n",
       "      <th>district</th>\n",
       "      <th>hours</th>\n",
       "      <th>lat</th>\n",
       "      <th>lng</th>\n",
       "      <th>rating</th>\n",
       "      <th>price</th>\n",
       "      <th>avg_bill</th>\n",
       "      <th>middle_avg_bill</th>\n",
       "      <th>middle_coffee_cup</th>\n",
       "      <th>chain</th>\n",
       "      <th>seats</th>\n",
       "      <th>street</th>\n",
       "      <th>is_24/7</th>\n",
       "    </tr>\n",
       "  </thead>\n",
       "  <tbody>\n",
       "    <tr>\n",
       "      <th>1325</th>\n",
       "      <td>нам</td>\n",
       "      <td>бар,паб</td>\n",
       "      <td>Москва, Ленинградский проспект, 69, стр. 1</td>\n",
       "      <td>Северный административный округ</td>\n",
       "      <td>ежедневно, 11:00–21:00</td>\n",
       "      <td>55.803236</td>\n",
       "      <td>37.517898</td>\n",
       "      <td>4.2</td>\n",
       "      <td>NaN</td>\n",
       "      <td>NaN</td>\n",
       "      <td>NaN</td>\n",
       "      <td>NaN</td>\n",
       "      <td>1</td>\n",
       "      <td>625.0</td>\n",
       "      <td>Ленинградский проспект</td>\n",
       "      <td>False</td>\n",
       "    </tr>\n",
       "    <tr>\n",
       "      <th>2102</th>\n",
       "      <td>ванильное небо</td>\n",
       "      <td>кофейня</td>\n",
       "      <td>Москва, Ленинградский проспект, 31А, стр. 1</td>\n",
       "      <td>Северный административный округ</td>\n",
       "      <td>пн-пт 08:00–20:00; сб 09:00–18:00</td>\n",
       "      <td>55.784066</td>\n",
       "      <td>37.559398</td>\n",
       "      <td>3.7</td>\n",
       "      <td>средние</td>\n",
       "      <td>Средний счёт:400 ₽</td>\n",
       "      <td>400.0</td>\n",
       "      <td>200.0</td>\n",
       "      <td>1</td>\n",
       "      <td>625.0</td>\n",
       "      <td>Ленинградский проспект</td>\n",
       "      <td>False</td>\n",
       "    </tr>\n",
       "    <tr>\n",
       "      <th>2085</th>\n",
       "      <td>лобби бар манжо</td>\n",
       "      <td>бар,паб</td>\n",
       "      <td>Москва, Ленинградский проспект, 31А, стр. 1</td>\n",
       "      <td>Северный административный округ</td>\n",
       "      <td>пн-пт 08:30–20:00</td>\n",
       "      <td>55.783622</td>\n",
       "      <td>37.559943</td>\n",
       "      <td>4.0</td>\n",
       "      <td>средние</td>\n",
       "      <td>Средний счёт:500 ₽</td>\n",
       "      <td>500.0</td>\n",
       "      <td>NaN</td>\n",
       "      <td>0</td>\n",
       "      <td>625.0</td>\n",
       "      <td>Ленинградский проспект</td>\n",
       "      <td>False</td>\n",
       "    </tr>\n",
       "    <tr>\n",
       "      <th>2033</th>\n",
       "      <td>столичный вкус</td>\n",
       "      <td>столовая</td>\n",
       "      <td>Москва, Ленинградский проспект, 35, стр. 1</td>\n",
       "      <td>Северный административный округ</td>\n",
       "      <td>пн-пт 09:00–17:00</td>\n",
       "      <td>55.789750</td>\n",
       "      <td>37.552723</td>\n",
       "      <td>4.1</td>\n",
       "      <td>NaN</td>\n",
       "      <td>NaN</td>\n",
       "      <td>NaN</td>\n",
       "      <td>NaN</td>\n",
       "      <td>1</td>\n",
       "      <td>625.0</td>\n",
       "      <td>Ленинградский проспект</td>\n",
       "      <td>False</td>\n",
       "    </tr>\n",
       "    <tr>\n",
       "      <th>2008</th>\n",
       "      <td>coffeeteabar</td>\n",
       "      <td>кофейня</td>\n",
       "      <td>Москва, Ленинградский проспект, 60, корп. 1</td>\n",
       "      <td>Северный административный округ</td>\n",
       "      <td>пн-пт 07:30–20:30; сб 07:30–19:30; вс 08:30–19:30</td>\n",
       "      <td>55.799751</td>\n",
       "      <td>37.535100</td>\n",
       "      <td>4.4</td>\n",
       "      <td>низкие</td>\n",
       "      <td>Цена чашки капучино:150–210 ₽</td>\n",
       "      <td>180.0</td>\n",
       "      <td>180.0</td>\n",
       "      <td>0</td>\n",
       "      <td>625.0</td>\n",
       "      <td>Ленинградский проспект</td>\n",
       "      <td>False</td>\n",
       "    </tr>\n",
       "    <tr>\n",
       "      <th>1878</th>\n",
       "      <td>чайхона айва</td>\n",
       "      <td>кафе</td>\n",
       "      <td>Москва, Ленинградский проспект, 45, корп. 1</td>\n",
       "      <td>Северный административный округ</td>\n",
       "      <td>ежедневно, круглосуточно</td>\n",
       "      <td>55.798882</td>\n",
       "      <td>37.533990</td>\n",
       "      <td>4.3</td>\n",
       "      <td>NaN</td>\n",
       "      <td>NaN</td>\n",
       "      <td>NaN</td>\n",
       "      <td>NaN</td>\n",
       "      <td>1</td>\n",
       "      <td>625.0</td>\n",
       "      <td>Ленинградский проспект</td>\n",
       "      <td>True</td>\n",
       "    </tr>\n",
       "    <tr>\n",
       "      <th>1865</th>\n",
       "      <td>vasilchukí chaihona  1</td>\n",
       "      <td>ресторан</td>\n",
       "      <td>Москва, Ленинградский проспект, 31А, стр. 1</td>\n",
       "      <td>Северный административный округ</td>\n",
       "      <td>пн-чт 11:00–00:00; пт,сб 11:00–01:00; вс 11:00...</td>\n",
       "      <td>55.783590</td>\n",
       "      <td>37.560170</td>\n",
       "      <td>4.3</td>\n",
       "      <td>выше среднего</td>\n",
       "      <td>Средний счёт:от 1500 ₽</td>\n",
       "      <td>1500.0</td>\n",
       "      <td>NaN</td>\n",
       "      <td>1</td>\n",
       "      <td>625.0</td>\n",
       "      <td>Ленинградский проспект</td>\n",
       "      <td>False</td>\n",
       "    </tr>\n",
       "    <tr>\n",
       "      <th>1836</th>\n",
       "      <td>take and wake</td>\n",
       "      <td>кофейня</td>\n",
       "      <td>Москва, Ленинградский проспект, 31А, стр. 1</td>\n",
       "      <td>Северный административный округ</td>\n",
       "      <td>пн-пт 08:00–20:00; сб,вс 09:00–19:00</td>\n",
       "      <td>55.783494</td>\n",
       "      <td>37.559933</td>\n",
       "      <td>4.5</td>\n",
       "      <td>средние</td>\n",
       "      <td>Цена чашки капучино:120–190 ₽</td>\n",
       "      <td>NaN</td>\n",
       "      <td>155.0</td>\n",
       "      <td>1</td>\n",
       "      <td>625.0</td>\n",
       "      <td>Ленинградский проспект</td>\n",
       "      <td>False</td>\n",
       "    </tr>\n",
       "    <tr>\n",
       "      <th>1764</th>\n",
       "      <td>золотая бухара</td>\n",
       "      <td>ресторан</td>\n",
       "      <td>Москва, Ленинградский проспект, 48, подъезд 1</td>\n",
       "      <td>Северный административный округ</td>\n",
       "      <td>ежедневно, 12:00–23:00</td>\n",
       "      <td>55.796294</td>\n",
       "      <td>37.542917</td>\n",
       "      <td>4.4</td>\n",
       "      <td>NaN</td>\n",
       "      <td>NaN</td>\n",
       "      <td>NaN</td>\n",
       "      <td>NaN</td>\n",
       "      <td>0</td>\n",
       "      <td>625.0</td>\n",
       "      <td>Ленинградский проспект</td>\n",
       "      <td>False</td>\n",
       "    </tr>\n",
       "    <tr>\n",
       "      <th>1670</th>\n",
       "      <td>ача чача</td>\n",
       "      <td>ресторан</td>\n",
       "      <td>Москва, Ленинградский проспект, 9Б, стр. 1</td>\n",
       "      <td>Северный административный округ</td>\n",
       "      <td>ежедневно, 12:00–00:00</td>\n",
       "      <td>55.780576</td>\n",
       "      <td>37.574727</td>\n",
       "      <td>4.6</td>\n",
       "      <td>высокие</td>\n",
       "      <td>Средний счёт:1500–2000 ₽</td>\n",
       "      <td>1750.0</td>\n",
       "      <td>NaN</td>\n",
       "      <td>1</td>\n",
       "      <td>625.0</td>\n",
       "      <td>Ленинградский проспект</td>\n",
       "      <td>False</td>\n",
       "    </tr>\n",
       "    <tr>\n",
       "      <th>1546</th>\n",
       "      <td>french bakery</td>\n",
       "      <td>кафе</td>\n",
       "      <td>Москва, Ленинградский проспект, 74, корп. 1</td>\n",
       "      <td>Северный административный округ</td>\n",
       "      <td>пн-пт 07:30–23:00; сб 08:00–22:00; вс 09:00–21:00</td>\n",
       "      <td>55.805133</td>\n",
       "      <td>37.516952</td>\n",
       "      <td>3.4</td>\n",
       "      <td>NaN</td>\n",
       "      <td>NaN</td>\n",
       "      <td>NaN</td>\n",
       "      <td>NaN</td>\n",
       "      <td>1</td>\n",
       "      <td>625.0</td>\n",
       "      <td>Ленинградский проспект</td>\n",
       "      <td>False</td>\n",
       "    </tr>\n",
       "    <tr>\n",
       "      <th>1824</th>\n",
       "      <td>волконский</td>\n",
       "      <td>булочная</td>\n",
       "      <td>Москва, Ленинградский проспект, 29, корп. 1</td>\n",
       "      <td>Северный административный округ</td>\n",
       "      <td>ежедневно, 08:00–22:00</td>\n",
       "      <td>55.785088</td>\n",
       "      <td>37.562647</td>\n",
       "      <td>4.4</td>\n",
       "      <td>NaN</td>\n",
       "      <td>NaN</td>\n",
       "      <td>NaN</td>\n",
       "      <td>NaN</td>\n",
       "      <td>1</td>\n",
       "      <td>625.0</td>\n",
       "      <td>Ленинградский проспект</td>\n",
       "      <td>False</td>\n",
       "    </tr>\n",
       "    <tr>\n",
       "      <th>1474</th>\n",
       "      <td>falko pizza</td>\n",
       "      <td>пиццерия</td>\n",
       "      <td>Москва, Ленинградский проспект, 80, корп. 1</td>\n",
       "      <td>Северный административный округ</td>\n",
       "      <td>пн-сб 09:30–20:30</td>\n",
       "      <td>55.810617</td>\n",
       "      <td>37.508490</td>\n",
       "      <td>4.3</td>\n",
       "      <td>средние</td>\n",
       "      <td>Средний счёт:500–1500 ₽</td>\n",
       "      <td>1000.0</td>\n",
       "      <td>NaN</td>\n",
       "      <td>0</td>\n",
       "      <td>625.0</td>\n",
       "      <td>Ленинградский проспект</td>\n",
       "      <td>False</td>\n",
       "    </tr>\n",
       "    <tr>\n",
       "      <th>1350</th>\n",
       "      <td>максима пицца</td>\n",
       "      <td>пиццерия</td>\n",
       "      <td>Москва, Ленинградский проспект, 78, корп. 1</td>\n",
       "      <td>Северный административный округ</td>\n",
       "      <td>пн-пт 09:00–00:00; сб,вс 10:00–00:00</td>\n",
       "      <td>55.805807</td>\n",
       "      <td>37.513994</td>\n",
       "      <td>4.3</td>\n",
       "      <td>выше среднего</td>\n",
       "      <td>Средний счёт:1500–1800 ₽</td>\n",
       "      <td>1650.0</td>\n",
       "      <td>NaN</td>\n",
       "      <td>0</td>\n",
       "      <td>625.0</td>\n",
       "      <td>Ленинградский проспект</td>\n",
       "      <td>False</td>\n",
       "    </tr>\n",
       "    <tr>\n",
       "      <th>1497</th>\n",
       "      <td>brooklyn coffee</td>\n",
       "      <td>кофейня</td>\n",
       "      <td>Москва, Ленинградский проспект, 78, корп. 1</td>\n",
       "      <td>Северный административный округ</td>\n",
       "      <td>пн-пт 07:00–21:00; сб,вс 09:00–20:00</td>\n",
       "      <td>55.805743</td>\n",
       "      <td>37.514283</td>\n",
       "      <td>4.0</td>\n",
       "      <td>низкие</td>\n",
       "      <td>Цена чашки капучино:60–150 ₽</td>\n",
       "      <td>NaN</td>\n",
       "      <td>105.0</td>\n",
       "      <td>0</td>\n",
       "      <td>625.0</td>\n",
       "      <td>Ленинградский проспект</td>\n",
       "      <td>False</td>\n",
       "    </tr>\n",
       "    <tr>\n",
       "      <th>1366</th>\n",
       "      <td>академия</td>\n",
       "      <td>пиццерия</td>\n",
       "      <td>Москва, Ленинградский проспект, 72, корп. 1</td>\n",
       "      <td>Северный административный округ</td>\n",
       "      <td>пн-пт 09:00–23:00; сб,вс 11:00–23:00</td>\n",
       "      <td>55.805579</td>\n",
       "      <td>37.520086</td>\n",
       "      <td>4.2</td>\n",
       "      <td>средние</td>\n",
       "      <td>Средний счёт:1000–1200 ₽</td>\n",
       "      <td>1100.0</td>\n",
       "      <td>NaN</td>\n",
       "      <td>1</td>\n",
       "      <td>625.0</td>\n",
       "      <td>Ленинградский проспект</td>\n",
       "      <td>False</td>\n",
       "    </tr>\n",
       "    <tr>\n",
       "      <th>1379</th>\n",
       "      <td>север метрополь</td>\n",
       "      <td>кофейня</td>\n",
       "      <td>Москва, Ленинградский проспект, 75, корп. 1</td>\n",
       "      <td>Северный административный округ</td>\n",
       "      <td>ежедневно, 09:00–21:00</td>\n",
       "      <td>55.804940</td>\n",
       "      <td>37.512423</td>\n",
       "      <td>4.6</td>\n",
       "      <td>NaN</td>\n",
       "      <td>NaN</td>\n",
       "      <td>NaN</td>\n",
       "      <td>NaN</td>\n",
       "      <td>1</td>\n",
       "      <td>625.0</td>\n",
       "      <td>Ленинградский проспект</td>\n",
       "      <td>False</td>\n",
       "    </tr>\n",
       "    <tr>\n",
       "      <th>1384</th>\n",
       "      <td>чайхона на соколе</td>\n",
       "      <td>кафе</td>\n",
       "      <td>Москва, Ленинградский проспект, 69, стр. 1</td>\n",
       "      <td>Северный административный округ</td>\n",
       "      <td>ежедневно, 08:00–23:00</td>\n",
       "      <td>55.803236</td>\n",
       "      <td>37.517931</td>\n",
       "      <td>4.3</td>\n",
       "      <td>средние</td>\n",
       "      <td>Средний счёт:400–800 ₽</td>\n",
       "      <td>600.0</td>\n",
       "      <td>NaN</td>\n",
       "      <td>0</td>\n",
       "      <td>625.0</td>\n",
       "      <td>Ленинградский проспект</td>\n",
       "      <td>False</td>\n",
       "    </tr>\n",
       "    <tr>\n",
       "      <th>1354</th>\n",
       "      <td>страдивари</td>\n",
       "      <td>ресторан</td>\n",
       "      <td>Москва, Ленинградский проспект, 77, корп. 1</td>\n",
       "      <td>Северный административный округ</td>\n",
       "      <td>ежедневно, 11:00–23:00</td>\n",
       "      <td>55.804980</td>\n",
       "      <td>37.509454</td>\n",
       "      <td>4.2</td>\n",
       "      <td>выше среднего</td>\n",
       "      <td>Средний счёт:1000–2000 ₽</td>\n",
       "      <td>1500.0</td>\n",
       "      <td>NaN</td>\n",
       "      <td>1</td>\n",
       "      <td>625.0</td>\n",
       "      <td>Ленинградский проспект</td>\n",
       "      <td>False</td>\n",
       "    </tr>\n",
       "    <tr>\n",
       "      <th>1441</th>\n",
       "      <td>abc coffee roasters</td>\n",
       "      <td>кофейня</td>\n",
       "      <td>Москва, Ленинградский проспект, 72, корп. 1</td>\n",
       "      <td>Северный административный округ</td>\n",
       "      <td>пн-пт 08:00–22:00; сб,вс 10:00–22:00</td>\n",
       "      <td>55.805547</td>\n",
       "      <td>37.520395</td>\n",
       "      <td>4.5</td>\n",
       "      <td>средние</td>\n",
       "      <td>Цена чашки капучино:220–270 ₽</td>\n",
       "      <td>500.0</td>\n",
       "      <td>245.0</td>\n",
       "      <td>0</td>\n",
       "      <td>625.0</td>\n",
       "      <td>Ленинградский проспект</td>\n",
       "      <td>False</td>\n",
       "    </tr>\n",
       "    <tr>\n",
       "      <th>1445</th>\n",
       "      <td>9 bar coffee</td>\n",
       "      <td>кофейня</td>\n",
       "      <td>Москва, Ленинградский проспект, 80, корп. 1</td>\n",
       "      <td>Северный административный округ</td>\n",
       "      <td>пн-пт 07:30–21:00; сб,вс 07:30–19:00</td>\n",
       "      <td>55.810352</td>\n",
       "      <td>37.506625</td>\n",
       "      <td>4.3</td>\n",
       "      <td>низкие</td>\n",
       "      <td>Цена чашки капучино:60–150 ₽</td>\n",
       "      <td>NaN</td>\n",
       "      <td>105.0</td>\n",
       "      <td>1</td>\n",
       "      <td>625.0</td>\n",
       "      <td>Ленинградский проспект</td>\n",
       "      <td>False</td>\n",
       "    </tr>\n",
       "    <tr>\n",
       "      <th>1463</th>\n",
       "      <td>находка</td>\n",
       "      <td>ресторан</td>\n",
       "      <td>Москва, Ленинградский проспект, 74, корп. 1</td>\n",
       "      <td>Северный административный округ</td>\n",
       "      <td>ежедневно, 09:00–22:00</td>\n",
       "      <td>55.804972</td>\n",
       "      <td>37.517319</td>\n",
       "      <td>4.9</td>\n",
       "      <td>NaN</td>\n",
       "      <td>NaN</td>\n",
       "      <td>NaN</td>\n",
       "      <td>NaN</td>\n",
       "      <td>1</td>\n",
       "      <td>625.0</td>\n",
       "      <td>Ленинградский проспект</td>\n",
       "      <td>False</td>\n",
       "    </tr>\n",
       "    <tr>\n",
       "      <th>1392</th>\n",
       "      <td>кулинарная лавка братьев караваевых</td>\n",
       "      <td>кафе</td>\n",
       "      <td>Москва, Ленинградский проспект, 72, корп. 1</td>\n",
       "      <td>Северный административный округ</td>\n",
       "      <td>ежедневно, 08:00–23:00</td>\n",
       "      <td>55.805791</td>\n",
       "      <td>37.520339</td>\n",
       "      <td>4.3</td>\n",
       "      <td>средние</td>\n",
       "      <td>Средний счёт:500–800 ₽</td>\n",
       "      <td>650.0</td>\n",
       "      <td>NaN</td>\n",
       "      <td>1</td>\n",
       "      <td>625.0</td>\n",
       "      <td>Ленинградский проспект</td>\n",
       "      <td>False</td>\n",
       "    </tr>\n",
       "    <tr>\n",
       "      <th>6690</th>\n",
       "      <td>кабул</td>\n",
       "      <td>ресторан</td>\n",
       "      <td>Москва, улица Миклухо-Маклая, 6</td>\n",
       "      <td>Юго-Западный административный округ</td>\n",
       "      <td>пн-пт 07:00–21:00; сб 07:00–18:00</td>\n",
       "      <td>55.652025</td>\n",
       "      <td>37.498719</td>\n",
       "      <td>4.3</td>\n",
       "      <td>NaN</td>\n",
       "      <td>NaN</td>\n",
       "      <td>NaN</td>\n",
       "      <td>NaN</td>\n",
       "      <td>1</td>\n",
       "      <td>644.0</td>\n",
       "      <td>улица Миклухо-Маклая</td>\n",
       "      <td>False</td>\n",
       "    </tr>\n",
       "    <tr>\n",
       "      <th>6542</th>\n",
       "      <td>vibes cafe</td>\n",
       "      <td>кафе</td>\n",
       "      <td>Москва, улица Миклухо-Маклая, 6</td>\n",
       "      <td>Юго-Западный административный округ</td>\n",
       "      <td>пн-пт 09:00–20:00; сб 09:00–16:00</td>\n",
       "      <td>55.651882</td>\n",
       "      <td>37.499295</td>\n",
       "      <td>4.4</td>\n",
       "      <td>NaN</td>\n",
       "      <td>NaN</td>\n",
       "      <td>NaN</td>\n",
       "      <td>NaN</td>\n",
       "      <td>0</td>\n",
       "      <td>644.0</td>\n",
       "      <td>улица Миклухо-Маклая</td>\n",
       "      <td>False</td>\n",
       "    </tr>\n",
       "    <tr>\n",
       "      <th>5714</th>\n",
       "      <td>ресторан китайской кухни чуаньюй</td>\n",
       "      <td>ресторан</td>\n",
       "      <td>Москва, Мичуринский проспект, 7, корп. 1</td>\n",
       "      <td>Западный административный округ</td>\n",
       "      <td>ежедневно, 11:00–23:00</td>\n",
       "      <td>55.700431</td>\n",
       "      <td>37.512799</td>\n",
       "      <td>4.4</td>\n",
       "      <td>средние</td>\n",
       "      <td>NaN</td>\n",
       "      <td>500.0</td>\n",
       "      <td>NaN</td>\n",
       "      <td>0</td>\n",
       "      <td>650.0</td>\n",
       "      <td>Мичуринский проспект</td>\n",
       "      <td>False</td>\n",
       "    </tr>\n",
       "    <tr>\n",
       "      <th>5835</th>\n",
       "      <td>for your kids</td>\n",
       "      <td>кафе</td>\n",
       "      <td>Москва, Мичуринский проспект, 58, корп. 1</td>\n",
       "      <td>Западный административный округ</td>\n",
       "      <td>NaN</td>\n",
       "      <td>55.691382</td>\n",
       "      <td>37.486793</td>\n",
       "      <td>3.3</td>\n",
       "      <td>NaN</td>\n",
       "      <td>NaN</td>\n",
       "      <td>NaN</td>\n",
       "      <td>NaN</td>\n",
       "      <td>0</td>\n",
       "      <td>650.0</td>\n",
       "      <td>Мичуринский проспект</td>\n",
       "      <td>NaN</td>\n",
       "    </tr>\n",
       "    <tr>\n",
       "      <th>5829</th>\n",
       "      <td>lyanson’s coffee</td>\n",
       "      <td>кафе</td>\n",
       "      <td>Москва, Мичуринский проспект, 27, корп. 1</td>\n",
       "      <td>Западный административный округ</td>\n",
       "      <td>пн-пт 08:00–20:00</td>\n",
       "      <td>55.697630</td>\n",
       "      <td>37.501684</td>\n",
       "      <td>3.8</td>\n",
       "      <td>NaN</td>\n",
       "      <td>NaN</td>\n",
       "      <td>NaN</td>\n",
       "      <td>NaN</td>\n",
       "      <td>0</td>\n",
       "      <td>650.0</td>\n",
       "      <td>Мичуринский проспект</td>\n",
       "      <td>False</td>\n",
       "    </tr>\n",
       "    <tr>\n",
       "      <th>5752</th>\n",
       "      <td>шоколадница</td>\n",
       "      <td>кофейня</td>\n",
       "      <td>Москва, Мичуринский проспект, 22, корп. 1</td>\n",
       "      <td>Западный административный округ</td>\n",
       "      <td>ежедневно, 08:00–23:00</td>\n",
       "      <td>55.701211</td>\n",
       "      <td>37.503986</td>\n",
       "      <td>4.2</td>\n",
       "      <td>средние</td>\n",
       "      <td>Цена чашки капучино:239–274 ₽</td>\n",
       "      <td>500.0</td>\n",
       "      <td>256.0</td>\n",
       "      <td>1</td>\n",
       "      <td>650.0</td>\n",
       "      <td>Мичуринский проспект</td>\n",
       "      <td>False</td>\n",
       "    </tr>\n",
       "    <tr>\n",
       "      <th>5732</th>\n",
       "      <td>университетское</td>\n",
       "      <td>кофейня</td>\n",
       "      <td>Москва, Мичуринский проспект, 8, стр. 1</td>\n",
       "      <td>Западный административный округ</td>\n",
       "      <td>ежедневно, 07:00–20:00</td>\n",
       "      <td>55.705561</td>\n",
       "      <td>37.511163</td>\n",
       "      <td>4.3</td>\n",
       "      <td>NaN</td>\n",
       "      <td>NaN</td>\n",
       "      <td>NaN</td>\n",
       "      <td>NaN</td>\n",
       "      <td>0</td>\n",
       "      <td>650.0</td>\n",
       "      <td>Мичуринский проспект</td>\n",
       "      <td>False</td>\n",
       "    </tr>\n",
       "    <tr>\n",
       "      <th>5649</th>\n",
       "      <td>the fox pub</td>\n",
       "      <td>бар,паб</td>\n",
       "      <td>Москва, Мичуринский проспект, 22, корп. 1</td>\n",
       "      <td>Западный административный округ</td>\n",
       "      <td>пн-чт 12:00–00:00; пт,сб 12:00–02:00; вс 12:00...</td>\n",
       "      <td>55.701625</td>\n",
       "      <td>37.504137</td>\n",
       "      <td>4.7</td>\n",
       "      <td>NaN</td>\n",
       "      <td>NaN</td>\n",
       "      <td>NaN</td>\n",
       "      <td>NaN</td>\n",
       "      <td>0</td>\n",
       "      <td>650.0</td>\n",
       "      <td>Мичуринский проспект</td>\n",
       "      <td>False</td>\n",
       "    </tr>\n",
       "    <tr>\n",
       "      <th>2897</th>\n",
       "      <td>ресторан тройка</td>\n",
       "      <td>бар,паб</td>\n",
       "      <td>Москва, Измайловское шоссе, 71, корп. 2Б</td>\n",
       "      <td>Восточный административный округ</td>\n",
       "      <td>ежедневно, 11:00–23:00</td>\n",
       "      <td>55.789276</td>\n",
       "      <td>37.747832</td>\n",
       "      <td>3.7</td>\n",
       "      <td>NaN</td>\n",
       "      <td>NaN</td>\n",
       "      <td>NaN</td>\n",
       "      <td>NaN</td>\n",
       "      <td>0</td>\n",
       "      <td>660.0</td>\n",
       "      <td>Измайловское шоссе</td>\n",
       "      <td>False</td>\n",
       "    </tr>\n",
       "    <tr>\n",
       "      <th>2909</th>\n",
       "      <td>хаус бар</td>\n",
       "      <td>бар,паб</td>\n",
       "      <td>Москва, Измайловское шоссе, 71, корп. 2Б</td>\n",
       "      <td>Восточный административный округ</td>\n",
       "      <td>ежедневно, 07:00–23:00</td>\n",
       "      <td>55.789639</td>\n",
       "      <td>37.747274</td>\n",
       "      <td>3.7</td>\n",
       "      <td>средние</td>\n",
       "      <td>Средний счёт:500–1000 ₽</td>\n",
       "      <td>750.0</td>\n",
       "      <td>NaN</td>\n",
       "      <td>0</td>\n",
       "      <td>660.0</td>\n",
       "      <td>Измайловское шоссе</td>\n",
       "      <td>False</td>\n",
       "    </tr>\n",
       "    <tr>\n",
       "      <th>7980</th>\n",
       "      <td>ресторан</td>\n",
       "      <td>ресторан</td>\n",
       "      <td>Москва, улица Маршала Захарова, 6, корп. 1</td>\n",
       "      <td>Южный административный округ</td>\n",
       "      <td>NaN</td>\n",
       "      <td>55.623680</td>\n",
       "      <td>37.704937</td>\n",
       "      <td>4.5</td>\n",
       "      <td>NaN</td>\n",
       "      <td>NaN</td>\n",
       "      <td>NaN</td>\n",
       "      <td>NaN</td>\n",
       "      <td>0</td>\n",
       "      <td>675.0</td>\n",
       "      <td>улица Маршала Захарова</td>\n",
       "      <td>NaN</td>\n",
       "    </tr>\n",
       "    <tr>\n",
       "      <th>5480</th>\n",
       "      <td>дом</td>\n",
       "      <td>кафе</td>\n",
       "      <td>Москва, улица Юности, 1</td>\n",
       "      <td>Восточный административный округ</td>\n",
       "      <td>NaN</td>\n",
       "      <td>55.736204</td>\n",
       "      <td>37.815500</td>\n",
       "      <td>4.9</td>\n",
       "      <td>NaN</td>\n",
       "      <td>NaN</td>\n",
       "      <td>NaN</td>\n",
       "      <td>NaN</td>\n",
       "      <td>0</td>\n",
       "      <td>760.0</td>\n",
       "      <td>улица Юности</td>\n",
       "      <td>NaN</td>\n",
       "    </tr>\n",
       "    <tr>\n",
       "      <th>4240</th>\n",
       "      <td>стейк &amp; бургер</td>\n",
       "      <td>кафе</td>\n",
       "      <td>Москва, Киевская улица, 2</td>\n",
       "      <td>Западный административный округ</td>\n",
       "      <td>ежедневно, 09:00–21:00</td>\n",
       "      <td>55.742953</td>\n",
       "      <td>37.561872</td>\n",
       "      <td>4.2</td>\n",
       "      <td>NaN</td>\n",
       "      <td>NaN</td>\n",
       "      <td>NaN</td>\n",
       "      <td>NaN</td>\n",
       "      <td>1</td>\n",
       "      <td>920.0</td>\n",
       "      <td>Киевская улица</td>\n",
       "      <td>False</td>\n",
       "    </tr>\n",
       "    <tr>\n",
       "      <th>4175</th>\n",
       "      <td>eataly</td>\n",
       "      <td>бар,паб</td>\n",
       "      <td>Москва, Киевская улица, 2</td>\n",
       "      <td>Западный административный округ</td>\n",
       "      <td>ежедневно, 12:00–23:00</td>\n",
       "      <td>55.743405</td>\n",
       "      <td>37.562535</td>\n",
       "      <td>4.6</td>\n",
       "      <td>NaN</td>\n",
       "      <td>NaN</td>\n",
       "      <td>NaN</td>\n",
       "      <td>NaN</td>\n",
       "      <td>0</td>\n",
       "      <td>920.0</td>\n",
       "      <td>Киевская улица</td>\n",
       "      <td>False</td>\n",
       "    </tr>\n",
       "    <tr>\n",
       "      <th>2962</th>\n",
       "      <td>матрешка</td>\n",
       "      <td>кафе</td>\n",
       "      <td>Москва, Измайловское шоссе, 71, корп. А</td>\n",
       "      <td>Восточный административный округ</td>\n",
       "      <td>NaN</td>\n",
       "      <td>55.789867</td>\n",
       "      <td>37.749656</td>\n",
       "      <td>4.0</td>\n",
       "      <td>NaN</td>\n",
       "      <td>NaN</td>\n",
       "      <td>NaN</td>\n",
       "      <td>NaN</td>\n",
       "      <td>0</td>\n",
       "      <td>1040.0</td>\n",
       "      <td>Измайловское шоссе</td>\n",
       "      <td>NaN</td>\n",
       "    </tr>\n",
       "    <tr>\n",
       "      <th>2767</th>\n",
       "      <td>шоколадница</td>\n",
       "      <td>кофейня</td>\n",
       "      <td>Москва, Измайловское шоссе, 71, корп. А</td>\n",
       "      <td>Восточный административный округ</td>\n",
       "      <td>пн-ср 11:00–23:00; чт 11:00–00:00; пт,сб 11:00...</td>\n",
       "      <td>55.789903</td>\n",
       "      <td>37.749822</td>\n",
       "      <td>4.1</td>\n",
       "      <td>NaN</td>\n",
       "      <td>NaN</td>\n",
       "      <td>NaN</td>\n",
       "      <td>NaN</td>\n",
       "      <td>1</td>\n",
       "      <td>1040.0</td>\n",
       "      <td>Измайловское шоссе</td>\n",
       "      <td>False</td>\n",
       "    </tr>\n",
       "    <tr>\n",
       "      <th>2719</th>\n",
       "      <td>маргарита</td>\n",
       "      <td>быстрое питание</td>\n",
       "      <td>Москва, Измайловское шоссе, 71, корп. А</td>\n",
       "      <td>Восточный административный округ</td>\n",
       "      <td>ежедневно, 10:00–22:00</td>\n",
       "      <td>55.789527</td>\n",
       "      <td>37.752004</td>\n",
       "      <td>4.3</td>\n",
       "      <td>NaN</td>\n",
       "      <td>NaN</td>\n",
       "      <td>NaN</td>\n",
       "      <td>NaN</td>\n",
       "      <td>1</td>\n",
       "      <td>1040.0</td>\n",
       "      <td>Измайловское шоссе</td>\n",
       "      <td>False</td>\n",
       "    </tr>\n",
       "    <tr>\n",
       "      <th>2710</th>\n",
       "      <td>ваня и гоги</td>\n",
       "      <td>бар,паб</td>\n",
       "      <td>Москва, Измайловское шоссе, 71, корп. А</td>\n",
       "      <td>Восточный административный округ</td>\n",
       "      <td>ежедневно, 11:00–06:00</td>\n",
       "      <td>55.789842</td>\n",
       "      <td>37.750282</td>\n",
       "      <td>4.2</td>\n",
       "      <td>высокие</td>\n",
       "      <td>Средний счёт:1000–2500 ₽</td>\n",
       "      <td>1750.0</td>\n",
       "      <td>NaN</td>\n",
       "      <td>0</td>\n",
       "      <td>1040.0</td>\n",
       "      <td>Измайловское шоссе</td>\n",
       "      <td>False</td>\n",
       "    </tr>\n",
       "    <tr>\n",
       "      <th>4226</th>\n",
       "      <td>рестобар argomento</td>\n",
       "      <td>столовая</td>\n",
       "      <td>Москва, Кутузовский проспект, 41, стр. 1</td>\n",
       "      <td>Западный административный округ</td>\n",
       "      <td>ежедневно, 12:00–23:00</td>\n",
       "      <td>55.738237</td>\n",
       "      <td>37.531819</td>\n",
       "      <td>4.2</td>\n",
       "      <td>высокие</td>\n",
       "      <td>Средний счёт:2500–5000 ₽</td>\n",
       "      <td>3750.0</td>\n",
       "      <td>NaN</td>\n",
       "      <td>0</td>\n",
       "      <td>1200.0</td>\n",
       "      <td>Кутузовский проспект</td>\n",
       "      <td>False</td>\n",
       "    </tr>\n",
       "    <tr>\n",
       "      <th>6802</th>\n",
       "      <td>яндекс лавка</td>\n",
       "      <td>ресторан</td>\n",
       "      <td>Москва, проспект Вернадского, 51, стр. 1</td>\n",
       "      <td>Западный административный округ</td>\n",
       "      <td>ежедневно, круглосуточно</td>\n",
       "      <td>55.672580</td>\n",
       "      <td>37.507753</td>\n",
       "      <td>4.0</td>\n",
       "      <td>NaN</td>\n",
       "      <td>NaN</td>\n",
       "      <td>NaN</td>\n",
       "      <td>NaN</td>\n",
       "      <td>1</td>\n",
       "      <td>1288.0</td>\n",
       "      <td>проспект Вернадского</td>\n",
       "      <td>True</td>\n",
       "    </tr>\n",
       "    <tr>\n",
       "      <th>6801</th>\n",
       "      <td>loft cafe академия</td>\n",
       "      <td>кафе</td>\n",
       "      <td>Москва, проспект Вернадского, 84, стр. 1</td>\n",
       "      <td>Западный административный округ</td>\n",
       "      <td>пн-пт 09:00–20:00; сб 09:00–16:00</td>\n",
       "      <td>55.665142</td>\n",
       "      <td>37.478603</td>\n",
       "      <td>3.6</td>\n",
       "      <td>NaN</td>\n",
       "      <td>NaN</td>\n",
       "      <td>NaN</td>\n",
       "      <td>NaN</td>\n",
       "      <td>0</td>\n",
       "      <td>1288.0</td>\n",
       "      <td>проспект Вернадского</td>\n",
       "      <td>False</td>\n",
       "    </tr>\n",
       "    <tr>\n",
       "      <th>6765</th>\n",
       "      <td>точка</td>\n",
       "      <td>кафе</td>\n",
       "      <td>Москва, проспект Вернадского, 84, стр. 1</td>\n",
       "      <td>Западный административный округ</td>\n",
       "      <td>NaN</td>\n",
       "      <td>55.665634</td>\n",
       "      <td>37.477830</td>\n",
       "      <td>4.7</td>\n",
       "      <td>NaN</td>\n",
       "      <td>NaN</td>\n",
       "      <td>NaN</td>\n",
       "      <td>NaN</td>\n",
       "      <td>1</td>\n",
       "      <td>1288.0</td>\n",
       "      <td>проспект Вернадского</td>\n",
       "      <td>NaN</td>\n",
       "    </tr>\n",
       "    <tr>\n",
       "      <th>6684</th>\n",
       "      <td>японская кухня</td>\n",
       "      <td>ресторан</td>\n",
       "      <td>Москва, проспект Вернадского, 121, корп. 1</td>\n",
       "      <td>Западный административный округ</td>\n",
       "      <td>NaN</td>\n",
       "      <td>55.657255</td>\n",
       "      <td>37.481547</td>\n",
       "      <td>4.4</td>\n",
       "      <td>NaN</td>\n",
       "      <td>NaN</td>\n",
       "      <td>NaN</td>\n",
       "      <td>NaN</td>\n",
       "      <td>1</td>\n",
       "      <td>1288.0</td>\n",
       "      <td>проспект Вернадского</td>\n",
       "      <td>NaN</td>\n",
       "    </tr>\n",
       "    <tr>\n",
       "      <th>6635</th>\n",
       "      <td>one price coffee</td>\n",
       "      <td>кофейня</td>\n",
       "      <td>Москва, проспект Вернадского, 84, стр. 1</td>\n",
       "      <td>Западный административный округ</td>\n",
       "      <td>ежедневно, 08:30–20:00</td>\n",
       "      <td>55.665129</td>\n",
       "      <td>37.478635</td>\n",
       "      <td>4.3</td>\n",
       "      <td>NaN</td>\n",
       "      <td>NaN</td>\n",
       "      <td>NaN</td>\n",
       "      <td>NaN</td>\n",
       "      <td>1</td>\n",
       "      <td>1288.0</td>\n",
       "      <td>проспект Вернадского</td>\n",
       "      <td>False</td>\n",
       "    </tr>\n",
       "    <tr>\n",
       "      <th>6652</th>\n",
       "      <td>гудбар</td>\n",
       "      <td>бар,паб</td>\n",
       "      <td>Москва, проспект Вернадского, 97, корп. 1</td>\n",
       "      <td>Западный административный округ</td>\n",
       "      <td>пн-пт 11:00–23:00; сб,вс 13:00–23:00</td>\n",
       "      <td>55.667327</td>\n",
       "      <td>37.490601</td>\n",
       "      <td>4.1</td>\n",
       "      <td>средние</td>\n",
       "      <td>Средний счёт:700 ₽</td>\n",
       "      <td>700.0</td>\n",
       "      <td>NaN</td>\n",
       "      <td>0</td>\n",
       "      <td>1288.0</td>\n",
       "      <td>проспект Вернадского</td>\n",
       "      <td>False</td>\n",
       "    </tr>\n",
       "    <tr>\n",
       "      <th>6518</th>\n",
       "      <td>ян примус</td>\n",
       "      <td>ресторан</td>\n",
       "      <td>Москва, проспект Вернадского, 121, корп. 1</td>\n",
       "      <td>Западный административный округ</td>\n",
       "      <td>пн-чт 12:00–00:00; пт,сб 12:00–02:00; вс 12:00...</td>\n",
       "      <td>55.657166</td>\n",
       "      <td>37.481519</td>\n",
       "      <td>4.5</td>\n",
       "      <td>выше среднего</td>\n",
       "      <td>Средний счёт:1500 ₽</td>\n",
       "      <td>1500.0</td>\n",
       "      <td>NaN</td>\n",
       "      <td>1</td>\n",
       "      <td>1288.0</td>\n",
       "      <td>проспект Вернадского</td>\n",
       "      <td>False</td>\n",
       "    </tr>\n",
       "    <tr>\n",
       "      <th>6512</th>\n",
       "      <td>delonixcafe</td>\n",
       "      <td>ресторан</td>\n",
       "      <td>Москва, проспект Вернадского, 94, корп. 1</td>\n",
       "      <td>Западный административный округ</td>\n",
       "      <td>ежедневно, круглосуточно</td>\n",
       "      <td>55.652577</td>\n",
       "      <td>37.475730</td>\n",
       "      <td>4.1</td>\n",
       "      <td>высокие</td>\n",
       "      <td>Средний счёт:1500–2000 ₽</td>\n",
       "      <td>1750.0</td>\n",
       "      <td>NaN</td>\n",
       "      <td>0</td>\n",
       "      <td>1288.0</td>\n",
       "      <td>проспект Вернадского</td>\n",
       "      <td>True</td>\n",
       "    </tr>\n",
       "    <tr>\n",
       "      <th>6832</th>\n",
       "      <td>alternative coffee</td>\n",
       "      <td>кофейня</td>\n",
       "      <td>Москва, проспект Вернадского, 41, стр. 1</td>\n",
       "      <td>Западный административный округ</td>\n",
       "      <td>пн-пт 09:00–21:00; сб,вс 09:00–22:00</td>\n",
       "      <td>55.673128</td>\n",
       "      <td>37.502992</td>\n",
       "      <td>4.3</td>\n",
       "      <td>NaN</td>\n",
       "      <td>NaN</td>\n",
       "      <td>NaN</td>\n",
       "      <td>NaN</td>\n",
       "      <td>0</td>\n",
       "      <td>1288.0</td>\n",
       "      <td>проспект Вернадского</td>\n",
       "      <td>False</td>\n",
       "    </tr>\n",
       "    <tr>\n",
       "      <th>6678</th>\n",
       "      <td>пивной ресторан</td>\n",
       "      <td>бар,паб</td>\n",
       "      <td>Москва, проспект Вернадского, 121, корп. 1</td>\n",
       "      <td>Западный административный округ</td>\n",
       "      <td>NaN</td>\n",
       "      <td>55.657133</td>\n",
       "      <td>37.481508</td>\n",
       "      <td>4.5</td>\n",
       "      <td>NaN</td>\n",
       "      <td>NaN</td>\n",
       "      <td>NaN</td>\n",
       "      <td>NaN</td>\n",
       "      <td>0</td>\n",
       "      <td>1288.0</td>\n",
       "      <td>проспект Вернадского</td>\n",
       "      <td>NaN</td>\n",
       "    </tr>\n",
       "    <tr>\n",
       "      <th>6568</th>\n",
       "      <td>мюнгер</td>\n",
       "      <td>пиццерия</td>\n",
       "      <td>Москва, проспект Вернадского, 97, корп. 1</td>\n",
       "      <td>Западный административный округ</td>\n",
       "      <td>пн-пт 08:00–21:00; сб,вс 10:00–21:00</td>\n",
       "      <td>55.667505</td>\n",
       "      <td>37.491001</td>\n",
       "      <td>4.8</td>\n",
       "      <td>NaN</td>\n",
       "      <td>NaN</td>\n",
       "      <td>NaN</td>\n",
       "      <td>NaN</td>\n",
       "      <td>1</td>\n",
       "      <td>1288.0</td>\n",
       "      <td>проспект Вернадского</td>\n",
       "      <td>False</td>\n",
       "    </tr>\n",
       "  </tbody>\n",
       "</table>\n",
       "</div>"
      ],
      "text/plain": [
       "                                     name         category  \\\n",
       "1325                                  нам          бар,паб   \n",
       "2102                       ванильное небо          кофейня   \n",
       "2085                      лобби бар манжо          бар,паб   \n",
       "2033                       столичный вкус         столовая   \n",
       "2008                         coffeeteabar          кофейня   \n",
       "1878                         чайхона айва             кафе   \n",
       "1865               vasilchukí chaihona  1         ресторан   \n",
       "1836                        take and wake          кофейня   \n",
       "1764                       золотая бухара         ресторан   \n",
       "1670                             ача чача         ресторан   \n",
       "1546                        french bakery             кафе   \n",
       "1824                           волконский         булочная   \n",
       "1474                          falko pizza         пиццерия   \n",
       "1350                        максима пицца         пиццерия   \n",
       "1497                      brooklyn coffee          кофейня   \n",
       "1366                             академия         пиццерия   \n",
       "1379                      север метрополь          кофейня   \n",
       "1384                    чайхона на соколе             кафе   \n",
       "1354                           страдивари         ресторан   \n",
       "1441                  abc coffee roasters          кофейня   \n",
       "1445                         9 bar coffee          кофейня   \n",
       "1463                              находка         ресторан   \n",
       "1392  кулинарная лавка братьев караваевых             кафе   \n",
       "6690                                кабул         ресторан   \n",
       "6542                           vibes cafe             кафе   \n",
       "5714     ресторан китайской кухни чуаньюй         ресторан   \n",
       "5835                        for your kids             кафе   \n",
       "5829                     lyanson’s coffee             кафе   \n",
       "5752                          шоколадница          кофейня   \n",
       "5732                      университетское          кофейня   \n",
       "5649                          the fox pub          бар,паб   \n",
       "2897                      ресторан тройка          бар,паб   \n",
       "2909                             хаус бар          бар,паб   \n",
       "7980                             ресторан         ресторан   \n",
       "5480                                  дом             кафе   \n",
       "4240                       стейк & бургер             кафе   \n",
       "4175                               eataly          бар,паб   \n",
       "2962                             матрешка             кафе   \n",
       "2767                          шоколадница          кофейня   \n",
       "2719                            маргарита  быстрое питание   \n",
       "2710                          ваня и гоги          бар,паб   \n",
       "4226                   рестобар argomento         столовая   \n",
       "6802                         яндекс лавка         ресторан   \n",
       "6801                   loft cafe академия             кафе   \n",
       "6765                                точка             кафе   \n",
       "6684                       японская кухня         ресторан   \n",
       "6635                     one price coffee          кофейня   \n",
       "6652                               гудбар          бар,паб   \n",
       "6518                            ян примус         ресторан   \n",
       "6512                          delonixcafe         ресторан   \n",
       "6832                   alternative coffee          кофейня   \n",
       "6678                      пивной ресторан          бар,паб   \n",
       "6568                               мюнгер         пиццерия   \n",
       "\n",
       "                                            address  \\\n",
       "1325     Москва, Ленинградский проспект, 69, стр. 1   \n",
       "2102    Москва, Ленинградский проспект, 31А, стр. 1   \n",
       "2085    Москва, Ленинградский проспект, 31А, стр. 1   \n",
       "2033     Москва, Ленинградский проспект, 35, стр. 1   \n",
       "2008    Москва, Ленинградский проспект, 60, корп. 1   \n",
       "1878    Москва, Ленинградский проспект, 45, корп. 1   \n",
       "1865    Москва, Ленинградский проспект, 31А, стр. 1   \n",
       "1836    Москва, Ленинградский проспект, 31А, стр. 1   \n",
       "1764  Москва, Ленинградский проспект, 48, подъезд 1   \n",
       "1670     Москва, Ленинградский проспект, 9Б, стр. 1   \n",
       "1546    Москва, Ленинградский проспект, 74, корп. 1   \n",
       "1824    Москва, Ленинградский проспект, 29, корп. 1   \n",
       "1474    Москва, Ленинградский проспект, 80, корп. 1   \n",
       "1350    Москва, Ленинградский проспект, 78, корп. 1   \n",
       "1497    Москва, Ленинградский проспект, 78, корп. 1   \n",
       "1366    Москва, Ленинградский проспект, 72, корп. 1   \n",
       "1379    Москва, Ленинградский проспект, 75, корп. 1   \n",
       "1384     Москва, Ленинградский проспект, 69, стр. 1   \n",
       "1354    Москва, Ленинградский проспект, 77, корп. 1   \n",
       "1441    Москва, Ленинградский проспект, 72, корп. 1   \n",
       "1445    Москва, Ленинградский проспект, 80, корп. 1   \n",
       "1463    Москва, Ленинградский проспект, 74, корп. 1   \n",
       "1392    Москва, Ленинградский проспект, 72, корп. 1   \n",
       "6690                Москва, улица Миклухо-Маклая, 6   \n",
       "6542                Москва, улица Миклухо-Маклая, 6   \n",
       "5714       Москва, Мичуринский проспект, 7, корп. 1   \n",
       "5835      Москва, Мичуринский проспект, 58, корп. 1   \n",
       "5829      Москва, Мичуринский проспект, 27, корп. 1   \n",
       "5752      Москва, Мичуринский проспект, 22, корп. 1   \n",
       "5732        Москва, Мичуринский проспект, 8, стр. 1   \n",
       "5649      Москва, Мичуринский проспект, 22, корп. 1   \n",
       "2897       Москва, Измайловское шоссе, 71, корп. 2Б   \n",
       "2909       Москва, Измайловское шоссе, 71, корп. 2Б   \n",
       "7980     Москва, улица Маршала Захарова, 6, корп. 1   \n",
       "5480                        Москва, улица Юности, 1   \n",
       "4240                      Москва, Киевская улица, 2   \n",
       "4175                      Москва, Киевская улица, 2   \n",
       "2962        Москва, Измайловское шоссе, 71, корп. А   \n",
       "2767        Москва, Измайловское шоссе, 71, корп. А   \n",
       "2719        Москва, Измайловское шоссе, 71, корп. А   \n",
       "2710        Москва, Измайловское шоссе, 71, корп. А   \n",
       "4226       Москва, Кутузовский проспект, 41, стр. 1   \n",
       "6802       Москва, проспект Вернадского, 51, стр. 1   \n",
       "6801       Москва, проспект Вернадского, 84, стр. 1   \n",
       "6765       Москва, проспект Вернадского, 84, стр. 1   \n",
       "6684     Москва, проспект Вернадского, 121, корп. 1   \n",
       "6635       Москва, проспект Вернадского, 84, стр. 1   \n",
       "6652      Москва, проспект Вернадского, 97, корп. 1   \n",
       "6518     Москва, проспект Вернадского, 121, корп. 1   \n",
       "6512      Москва, проспект Вернадского, 94, корп. 1   \n",
       "6832       Москва, проспект Вернадского, 41, стр. 1   \n",
       "6678     Москва, проспект Вернадского, 121, корп. 1   \n",
       "6568      Москва, проспект Вернадского, 97, корп. 1   \n",
       "\n",
       "                                 district  \\\n",
       "1325      Северный административный округ   \n",
       "2102      Северный административный округ   \n",
       "2085      Северный административный округ   \n",
       "2033      Северный административный округ   \n",
       "2008      Северный административный округ   \n",
       "1878      Северный административный округ   \n",
       "1865      Северный административный округ   \n",
       "1836      Северный административный округ   \n",
       "1764      Северный административный округ   \n",
       "1670      Северный административный округ   \n",
       "1546      Северный административный округ   \n",
       "1824      Северный административный округ   \n",
       "1474      Северный административный округ   \n",
       "1350      Северный административный округ   \n",
       "1497      Северный административный округ   \n",
       "1366      Северный административный округ   \n",
       "1379      Северный административный округ   \n",
       "1384      Северный административный округ   \n",
       "1354      Северный административный округ   \n",
       "1441      Северный административный округ   \n",
       "1445      Северный административный округ   \n",
       "1463      Северный административный округ   \n",
       "1392      Северный административный округ   \n",
       "6690  Юго-Западный административный округ   \n",
       "6542  Юго-Западный административный округ   \n",
       "5714      Западный административный округ   \n",
       "5835      Западный административный округ   \n",
       "5829      Западный административный округ   \n",
       "5752      Западный административный округ   \n",
       "5732      Западный административный округ   \n",
       "5649      Западный административный округ   \n",
       "2897     Восточный административный округ   \n",
       "2909     Восточный административный округ   \n",
       "7980         Южный административный округ   \n",
       "5480     Восточный административный округ   \n",
       "4240      Западный административный округ   \n",
       "4175      Западный административный округ   \n",
       "2962     Восточный административный округ   \n",
       "2767     Восточный административный округ   \n",
       "2719     Восточный административный округ   \n",
       "2710     Восточный административный округ   \n",
       "4226      Западный административный округ   \n",
       "6802      Западный административный округ   \n",
       "6801      Западный административный округ   \n",
       "6765      Западный административный округ   \n",
       "6684      Западный административный округ   \n",
       "6635      Западный административный округ   \n",
       "6652      Западный административный округ   \n",
       "6518      Западный административный округ   \n",
       "6512      Западный административный округ   \n",
       "6832      Западный административный округ   \n",
       "6678      Западный административный округ   \n",
       "6568      Западный административный округ   \n",
       "\n",
       "                                                  hours        lat        lng  \\\n",
       "1325                             ежедневно, 11:00–21:00  55.803236  37.517898   \n",
       "2102                  пн-пт 08:00–20:00; сб 09:00–18:00  55.784066  37.559398   \n",
       "2085                                  пн-пт 08:30–20:00  55.783622  37.559943   \n",
       "2033                                  пн-пт 09:00–17:00  55.789750  37.552723   \n",
       "2008  пн-пт 07:30–20:30; сб 07:30–19:30; вс 08:30–19:30  55.799751  37.535100   \n",
       "1878                           ежедневно, круглосуточно  55.798882  37.533990   \n",
       "1865  пн-чт 11:00–00:00; пт,сб 11:00–01:00; вс 11:00...  55.783590  37.560170   \n",
       "1836               пн-пт 08:00–20:00; сб,вс 09:00–19:00  55.783494  37.559933   \n",
       "1764                             ежедневно, 12:00–23:00  55.796294  37.542917   \n",
       "1670                             ежедневно, 12:00–00:00  55.780576  37.574727   \n",
       "1546  пн-пт 07:30–23:00; сб 08:00–22:00; вс 09:00–21:00  55.805133  37.516952   \n",
       "1824                             ежедневно, 08:00–22:00  55.785088  37.562647   \n",
       "1474                                  пн-сб 09:30–20:30  55.810617  37.508490   \n",
       "1350               пн-пт 09:00–00:00; сб,вс 10:00–00:00  55.805807  37.513994   \n",
       "1497               пн-пт 07:00–21:00; сб,вс 09:00–20:00  55.805743  37.514283   \n",
       "1366               пн-пт 09:00–23:00; сб,вс 11:00–23:00  55.805579  37.520086   \n",
       "1379                             ежедневно, 09:00–21:00  55.804940  37.512423   \n",
       "1384                             ежедневно, 08:00–23:00  55.803236  37.517931   \n",
       "1354                             ежедневно, 11:00–23:00  55.804980  37.509454   \n",
       "1441               пн-пт 08:00–22:00; сб,вс 10:00–22:00  55.805547  37.520395   \n",
       "1445               пн-пт 07:30–21:00; сб,вс 07:30–19:00  55.810352  37.506625   \n",
       "1463                             ежедневно, 09:00–22:00  55.804972  37.517319   \n",
       "1392                             ежедневно, 08:00–23:00  55.805791  37.520339   \n",
       "6690                  пн-пт 07:00–21:00; сб 07:00–18:00  55.652025  37.498719   \n",
       "6542                  пн-пт 09:00–20:00; сб 09:00–16:00  55.651882  37.499295   \n",
       "5714                             ежедневно, 11:00–23:00  55.700431  37.512799   \n",
       "5835                                                NaN  55.691382  37.486793   \n",
       "5829                                  пн-пт 08:00–20:00  55.697630  37.501684   \n",
       "5752                             ежедневно, 08:00–23:00  55.701211  37.503986   \n",
       "5732                             ежедневно, 07:00–20:00  55.705561  37.511163   \n",
       "5649  пн-чт 12:00–00:00; пт,сб 12:00–02:00; вс 12:00...  55.701625  37.504137   \n",
       "2897                             ежедневно, 11:00–23:00  55.789276  37.747832   \n",
       "2909                             ежедневно, 07:00–23:00  55.789639  37.747274   \n",
       "7980                                                NaN  55.623680  37.704937   \n",
       "5480                                                NaN  55.736204  37.815500   \n",
       "4240                             ежедневно, 09:00–21:00  55.742953  37.561872   \n",
       "4175                             ежедневно, 12:00–23:00  55.743405  37.562535   \n",
       "2962                                                NaN  55.789867  37.749656   \n",
       "2767  пн-ср 11:00–23:00; чт 11:00–00:00; пт,сб 11:00...  55.789903  37.749822   \n",
       "2719                             ежедневно, 10:00–22:00  55.789527  37.752004   \n",
       "2710                             ежедневно, 11:00–06:00  55.789842  37.750282   \n",
       "4226                             ежедневно, 12:00–23:00  55.738237  37.531819   \n",
       "6802                           ежедневно, круглосуточно  55.672580  37.507753   \n",
       "6801                  пн-пт 09:00–20:00; сб 09:00–16:00  55.665142  37.478603   \n",
       "6765                                                NaN  55.665634  37.477830   \n",
       "6684                                                NaN  55.657255  37.481547   \n",
       "6635                             ежедневно, 08:30–20:00  55.665129  37.478635   \n",
       "6652               пн-пт 11:00–23:00; сб,вс 13:00–23:00  55.667327  37.490601   \n",
       "6518  пн-чт 12:00–00:00; пт,сб 12:00–02:00; вс 12:00...  55.657166  37.481519   \n",
       "6512                           ежедневно, круглосуточно  55.652577  37.475730   \n",
       "6832               пн-пт 09:00–21:00; сб,вс 09:00–22:00  55.673128  37.502992   \n",
       "6678                                                NaN  55.657133  37.481508   \n",
       "6568               пн-пт 08:00–21:00; сб,вс 10:00–21:00  55.667505  37.491001   \n",
       "\n",
       "      rating          price                       avg_bill  middle_avg_bill  \\\n",
       "1325     4.2            NaN                            NaN              NaN   \n",
       "2102     3.7        средние             Средний счёт:400 ₽            400.0   \n",
       "2085     4.0        средние             Средний счёт:500 ₽            500.0   \n",
       "2033     4.1            NaN                            NaN              NaN   \n",
       "2008     4.4         низкие  Цена чашки капучино:150–210 ₽            180.0   \n",
       "1878     4.3            NaN                            NaN              NaN   \n",
       "1865     4.3  выше среднего         Средний счёт:от 1500 ₽           1500.0   \n",
       "1836     4.5        средние  Цена чашки капучино:120–190 ₽              NaN   \n",
       "1764     4.4            NaN                            NaN              NaN   \n",
       "1670     4.6        высокие       Средний счёт:1500–2000 ₽           1750.0   \n",
       "1546     3.4            NaN                            NaN              NaN   \n",
       "1824     4.4            NaN                            NaN              NaN   \n",
       "1474     4.3        средние        Средний счёт:500–1500 ₽           1000.0   \n",
       "1350     4.3  выше среднего       Средний счёт:1500–1800 ₽           1650.0   \n",
       "1497     4.0         низкие   Цена чашки капучино:60–150 ₽              NaN   \n",
       "1366     4.2        средние       Средний счёт:1000–1200 ₽           1100.0   \n",
       "1379     4.6            NaN                            NaN              NaN   \n",
       "1384     4.3        средние         Средний счёт:400–800 ₽            600.0   \n",
       "1354     4.2  выше среднего       Средний счёт:1000–2000 ₽           1500.0   \n",
       "1441     4.5        средние  Цена чашки капучино:220–270 ₽            500.0   \n",
       "1445     4.3         низкие   Цена чашки капучино:60–150 ₽              NaN   \n",
       "1463     4.9            NaN                            NaN              NaN   \n",
       "1392     4.3        средние         Средний счёт:500–800 ₽            650.0   \n",
       "6690     4.3            NaN                            NaN              NaN   \n",
       "6542     4.4            NaN                            NaN              NaN   \n",
       "5714     4.4        средние                            NaN            500.0   \n",
       "5835     3.3            NaN                            NaN              NaN   \n",
       "5829     3.8            NaN                            NaN              NaN   \n",
       "5752     4.2        средние  Цена чашки капучино:239–274 ₽            500.0   \n",
       "5732     4.3            NaN                            NaN              NaN   \n",
       "5649     4.7            NaN                            NaN              NaN   \n",
       "2897     3.7            NaN                            NaN              NaN   \n",
       "2909     3.7        средние        Средний счёт:500–1000 ₽            750.0   \n",
       "7980     4.5            NaN                            NaN              NaN   \n",
       "5480     4.9            NaN                            NaN              NaN   \n",
       "4240     4.2            NaN                            NaN              NaN   \n",
       "4175     4.6            NaN                            NaN              NaN   \n",
       "2962     4.0            NaN                            NaN              NaN   \n",
       "2767     4.1            NaN                            NaN              NaN   \n",
       "2719     4.3            NaN                            NaN              NaN   \n",
       "2710     4.2        высокие       Средний счёт:1000–2500 ₽           1750.0   \n",
       "4226     4.2        высокие       Средний счёт:2500–5000 ₽           3750.0   \n",
       "6802     4.0            NaN                            NaN              NaN   \n",
       "6801     3.6            NaN                            NaN              NaN   \n",
       "6765     4.7            NaN                            NaN              NaN   \n",
       "6684     4.4            NaN                            NaN              NaN   \n",
       "6635     4.3            NaN                            NaN              NaN   \n",
       "6652     4.1        средние             Средний счёт:700 ₽            700.0   \n",
       "6518     4.5  выше среднего            Средний счёт:1500 ₽           1500.0   \n",
       "6512     4.1        высокие       Средний счёт:1500–2000 ₽           1750.0   \n",
       "6832     4.3            NaN                            NaN              NaN   \n",
       "6678     4.5            NaN                            NaN              NaN   \n",
       "6568     4.8            NaN                            NaN              NaN   \n",
       "\n",
       "      middle_coffee_cup  chain   seats                  street is_24/7  \n",
       "1325                NaN      1   625.0  Ленинградский проспект   False  \n",
       "2102              200.0      1   625.0  Ленинградский проспект   False  \n",
       "2085                NaN      0   625.0  Ленинградский проспект   False  \n",
       "2033                NaN      1   625.0  Ленинградский проспект   False  \n",
       "2008              180.0      0   625.0  Ленинградский проспект   False  \n",
       "1878                NaN      1   625.0  Ленинградский проспект    True  \n",
       "1865                NaN      1   625.0  Ленинградский проспект   False  \n",
       "1836              155.0      1   625.0  Ленинградский проспект   False  \n",
       "1764                NaN      0   625.0  Ленинградский проспект   False  \n",
       "1670                NaN      1   625.0  Ленинградский проспект   False  \n",
       "1546                NaN      1   625.0  Ленинградский проспект   False  \n",
       "1824                NaN      1   625.0  Ленинградский проспект   False  \n",
       "1474                NaN      0   625.0  Ленинградский проспект   False  \n",
       "1350                NaN      0   625.0  Ленинградский проспект   False  \n",
       "1497              105.0      0   625.0  Ленинградский проспект   False  \n",
       "1366                NaN      1   625.0  Ленинградский проспект   False  \n",
       "1379                NaN      1   625.0  Ленинградский проспект   False  \n",
       "1384                NaN      0   625.0  Ленинградский проспект   False  \n",
       "1354                NaN      1   625.0  Ленинградский проспект   False  \n",
       "1441              245.0      0   625.0  Ленинградский проспект   False  \n",
       "1445              105.0      1   625.0  Ленинградский проспект   False  \n",
       "1463                NaN      1   625.0  Ленинградский проспект   False  \n",
       "1392                NaN      1   625.0  Ленинградский проспект   False  \n",
       "6690                NaN      1   644.0    улица Миклухо-Маклая   False  \n",
       "6542                NaN      0   644.0    улица Миклухо-Маклая   False  \n",
       "5714                NaN      0   650.0    Мичуринский проспект   False  \n",
       "5835                NaN      0   650.0    Мичуринский проспект     NaN  \n",
       "5829                NaN      0   650.0    Мичуринский проспект   False  \n",
       "5752              256.0      1   650.0    Мичуринский проспект   False  \n",
       "5732                NaN      0   650.0    Мичуринский проспект   False  \n",
       "5649                NaN      0   650.0    Мичуринский проспект   False  \n",
       "2897                NaN      0   660.0      Измайловское шоссе   False  \n",
       "2909                NaN      0   660.0      Измайловское шоссе   False  \n",
       "7980                NaN      0   675.0  улица Маршала Захарова     NaN  \n",
       "5480                NaN      0   760.0            улица Юности     NaN  \n",
       "4240                NaN      1   920.0          Киевская улица   False  \n",
       "4175                NaN      0   920.0          Киевская улица   False  \n",
       "2962                NaN      0  1040.0      Измайловское шоссе     NaN  \n",
       "2767                NaN      1  1040.0      Измайловское шоссе   False  \n",
       "2719                NaN      1  1040.0      Измайловское шоссе   False  \n",
       "2710                NaN      0  1040.0      Измайловское шоссе   False  \n",
       "4226                NaN      0  1200.0    Кутузовский проспект   False  \n",
       "6802                NaN      1  1288.0    проспект Вернадского    True  \n",
       "6801                NaN      0  1288.0    проспект Вернадского   False  \n",
       "6765                NaN      1  1288.0    проспект Вернадского     NaN  \n",
       "6684                NaN      1  1288.0    проспект Вернадского     NaN  \n",
       "6635                NaN      1  1288.0    проспект Вернадского   False  \n",
       "6652                NaN      0  1288.0    проспект Вернадского   False  \n",
       "6518                NaN      1  1288.0    проспект Вернадского   False  \n",
       "6512                NaN      0  1288.0    проспект Вернадского    True  \n",
       "6832                NaN      0  1288.0    проспект Вернадского   False  \n",
       "6678                NaN      0  1288.0    проспект Вернадского     NaN  \n",
       "6568                NaN      1  1288.0    проспект Вернадского   False  "
      ]
     },
     "execution_count": 46,
     "metadata": {},
     "output_type": "execute_result"
    }
   ],
   "source": [
    "data.query('seats > 600').sort_values(by='seats')"
   ]
  },
  {
   "cell_type": "markdown",
   "metadata": {},
   "source": [
    "Для большинства заведений рассадка посетителей, в количестве большем чем 600 человек, выглядят нереалистично. Отфильтруем датасет до этого значения."
   ]
  },
  {
   "cell_type": "code",
   "execution_count": 47,
   "metadata": {},
   "outputs": [],
   "source": [
    "data = data.query('seats < 600 or seats!=seats').reset_index(drop=True)"
   ]
  },
  {
   "cell_type": "markdown",
   "metadata": {},
   "source": [
    "***Вывод: Предобработка проведена. Заполнено 1565 пропусков в столбцах `price`, `middle_avg_bill` и `middle_coffee_cup`. Добавлены столбцы с отдельным названием улиц и обозначением круглосуточной работы заведения. Проведена предобработка по названиям заведений. Устранены аномальные значения из датасета.***"
   ]
  },
  {
   "cell_type": "markdown",
   "metadata": {},
   "source": [
    "# Анализ данных"
   ]
  },
  {
   "cell_type": "markdown",
   "metadata": {},
   "source": [
    "Оценим какие категории заведений представлены в Датафрейме. Исследуем количество объектов общественного питания по категориям."
   ]
  },
  {
   "cell_type": "code",
   "execution_count": 48,
   "metadata": {},
   "outputs": [],
   "source": [
    "sns.set_palette(\"Set2\")"
   ]
  },
  {
   "cell_type": "code",
   "execution_count": 49,
   "metadata": {
    "scrolled": true
   },
   "outputs": [
    {
     "data": {
      "image/png": "[encoded data removed]",
      "text/plain": [
       "<Figure size 432x288 with 1 Axes>"
      ]
     },
     "metadata": {
      "needs_background": "light"
     },
     "output_type": "display_data"
    }
   ],
   "source": [
    "plt.title('Распределение типов заведений')\n",
    "sns.barplot(\n",
    "    data.groupby('category').name.count().reset_index().sort_values(by='name',ascending=False),\n",
    "    x = 'name',\n",
    "    y= 'category',\n",
    "    palette=\"Greens_d\")\n",
    "plt.xlabel('Кол-во')\n",
    "plt.ylabel('Тип заведения');"
   ]
  },
  {
   "cell_type": "markdown",
   "metadata": {},
   "source": [
    "*В Москве преобладают заведения типа кафе, ресторан или кофейня. В целом можно, сказать, что такие категории заведений в среднем почти всегда популярнее остальных. Наименее часто люди в Москве посещают булочные и столовые.*"
   ]
  },
  {
   "cell_type": "markdown",
   "metadata": {},
   "source": [
    "Изучим среднюю посадку мест в разных типах заведений"
   ]
  },
  {
   "cell_type": "code",
   "execution_count": 50,
   "metadata": {},
   "outputs": [
    {
     "data": {
      "image/png": "[encoded data removed]",
      "text/plain": [
       "<Figure size 432x288 with 1 Axes>"
      ]
     },
     "metadata": {
      "needs_background": "light"
     },
     "output_type": "display_data"
    }
   ],
   "source": [
    "plt.title('Распределение количества мест в заведениях')\n",
    "sns.boxplot(x=data['seats']);"
   ]
  },
  {
   "cell_type": "code",
   "execution_count": 51,
   "metadata": {},
   "outputs": [
    {
     "data": {
      "image/png": "[encoded data removed]",
      "text/plain": [
       "<Figure size 576x432 with 1 Axes>"
      ]
     },
     "metadata": {
      "needs_background": "light"
     },
     "output_type": "display_data"
    }
   ],
   "source": [
    "plt.figure(figsize=(8,6))\n",
    "sns.barplot(data=data.groupby('category').seats.mean().reset_index().sort_values(by='seats',ascending=False),\n",
    "    y='category', \n",
    "    x='seats', \n",
    "    palette=\"Greens_d\") \n",
    "plt.xticks(rotation=40)\n",
    "plt.title('Среднее количество посадочных мест разных категорий заведений')\n",
    "plt.xlabel('Среднее количество посадочных мест')\n",
    "plt.ylabel('Тип заведения');"
   ]
  },
  {
   "cell_type": "markdown",
   "metadata": {},
   "source": [
    "*Предсказуемо, что большее среднее количество посадочных мест у ресторанов и баров. Меньше всего посадочных мест в среднем у булочных, пиццерий и кафе. Интересно наблюдать то, что довольно большое количество мест присутствует в кофейнях. Можно предположить, что дело может быть в большем сетевом развитии кофеен.*"
   ]
  },
  {
   "cell_type": "markdown",
   "metadata": {},
   "source": [
    "Опишем принадлежность заведения к сети. Посмотрим каких заведений больше и по каким категориям."
   ]
  },
  {
   "cell_type": "code",
   "execution_count": 52,
   "metadata": {
    "scrolled": true
   },
   "outputs": [
    {
     "name": "stdout",
     "output_type": "stream",
     "text": [
      "Количество сетевых заведений: 3176\n",
      "Количество несетевых заведений: 5169\n",
      "Количества несетевых заведений в 1.63 раз больше\n"
     ]
    }
   ],
   "source": [
    "print (f'Количество сетевых заведений: {data[data[\"chain\"] == 1].name.count()}')\n",
    "print (f'Количество несетевых заведений: {data[data[\"chain\"] == 0].name.count()}')\n",
    "print (f'Количества несетевых заведений в {round(data[data[\"chain\"] == 0].name.count() / data[data[\"chain\"] == 1].name.count(), 2)} раз больше')"
   ]
  },
  {
   "cell_type": "code",
   "execution_count": 53,
   "metadata": {},
   "outputs": [
    {
     "data": {
      "image/png": "[encoded data removed]"
     },
     "metadata": {},
     "output_type": "display_data"
    }
   ],
   "source": [
    "labels_krug = ['несетевые', 'сетевые']\n",
    "values_krug = [data[data[\"chain\"] == 0].name.count(), data[data[\"chain\"] == 1].name.count()]\n",
    "fig = go.Figure(data=[go.Pie(labels=labels_krug, values=values_krug)])\n",
    "fig.update_layout(\n",
    "    title=go.layout.Title(\n",
    "        text=\"Соотношение сетевых и несетевых заведений\",xref=\"paper\",x=0)\n",
    ")\n",
    "fig.show() "
   ]
  },
  {
   "cell_type": "code",
   "execution_count": 54,
   "metadata": {
    "scrolled": true
   },
   "outputs": [
    {
     "data": {
      "image/png": "[encoded data removed]",
      "text/plain": [
       "<Figure size 432x288 with 1 Axes>"
      ]
     },
     "metadata": {
      "needs_background": "light"
     },
     "output_type": "display_data"
    }
   ],
   "source": [
    "chain_data = data[['category', 'chain']].groupby('category').agg({'chain':['sum', 'count']}).reset_index()\n",
    "chain_data.columns = ['category', 'chain', 'full']\n",
    "chain_data['percent'] = (chain_data['chain'] / chain_data['full'] *100).round(2)\n",
    "chain_data['%full'] = 100\n",
    "chain_data = chain_data.sort_values(by='percent',ascending=False)\n",
    "\n",
    "plt.title('Доля сетевых заведений по разным категориям общепита')\n",
    "ax = sns.barplot(x='category', y='%full', data=chain_data, color='lightgreen')\n",
    "ax = sns.barplot(x='category', y='percent', data=chain_data, color='darkgreen')\n",
    "ax.set_xticklabels(ax.get_xticklabels(), ha='right', rotation=35)\n",
    "plt.xlabel('Тип заведения')\n",
    "plt.ylabel('Процент');"
   ]
  },
  {
   "cell_type": "markdown",
   "metadata": {},
   "source": [
    "*Большая доля сетевых заведений распределяется среди таких заведений, как булочные, пиццерии и кофейни. Реже всего встречаются сетевые бары и столовые.*"
   ]
  },
  {
   "cell_type": "markdown",
   "metadata": {},
   "source": [
    "Найдем 15 самых популярных сетевых заведений Москвы"
   ]
  },
  {
   "cell_type": "code",
   "execution_count": 55,
   "metadata": {},
   "outputs": [
    {
     "data": {
      "text/plain": [
       "шоколадница                            117\n",
       "домино'с пицца                          76\n",
       "додо пицца                              74\n",
       "one price coffee                        70\n",
       "яндекс лавка                            68\n",
       "cofix                                   65\n",
       "prime                                   50\n",
       "хинкальная                              44\n",
       "кофепорт                                42\n",
       "кулинарная лавка братьев караваевых     38\n",
       "теремок                                 38\n",
       "чайхана                                 37\n",
       "cofefest                                32\n",
       "буханка                                 32\n",
       "му му                                   27\n",
       "Name: name, dtype: int64"
      ]
     },
     "execution_count": 55,
     "metadata": {},
     "output_type": "execute_result"
    }
   ],
   "source": [
    "data.query('chain == 1').name.value_counts().head(15)"
   ]
  },
  {
   "cell_type": "markdown",
   "metadata": {},
   "source": [
    "Заведения с названием Яндекс Лавка в этом датасете явно лишние. При составлении таблицы они вероятно были ошибочно выгружены вместе с заведениями общепита, хотя по сути это служебные помещения, осуществляющие доставку, без возможности их посещения. Уберем Яндекс Лавку из датасета, чтобы не искажать результаты исследования."
   ]
  },
  {
   "cell_type": "code",
   "execution_count": 56,
   "metadata": {},
   "outputs": [
    {
     "data": {
      "text/plain": [
       "шоколадница                            117\n",
       "домино'с пицца                          76\n",
       "додо пицца                              74\n",
       "one price coffee                        70\n",
       "яндекс лавка                            68\n",
       "cofix                                   65\n",
       "prime                                   50\n",
       "хинкальная                              44\n",
       "кофепорт                                42\n",
       "кулинарная лавка братьев караваевых     38\n",
       "теремок                                 38\n",
       "чайхана                                 37\n",
       "cofefest                                32\n",
       "буханка                                 32\n",
       "му му                                   27\n",
       "Name: name, dtype: int64"
      ]
     },
     "execution_count": 56,
     "metadata": {},
     "output_type": "execute_result"
    }
   ],
   "source": [
    "data = data.query('name != \"Яндекс Лавка\"')\n",
    "data.query('chain == 1').name.value_counts().head(15)"
   ]
  },
  {
   "cell_type": "code",
   "execution_count": 57,
   "metadata": {
    "scrolled": false
   },
   "outputs": [
    {
     "name": "stdout",
     "output_type": "stream",
     "text": [
      "Общее количество сетевых заведений в топ-15 по популярности: 812\n"
     ]
    }
   ],
   "source": [
    "top_15 = data.query('chain == 1').name.value_counts().head(15).index.values.tolist()\n",
    "data_top_15 = data.query('name in @top_15')\n",
    "print (f'Общее количество сетевых заведений в топ-15 по популярности: {data_top_15.name.count()}')"
   ]
  },
  {
   "cell_type": "code",
   "execution_count": 58,
   "metadata": {},
   "outputs": [
    {
     "data": {
      "image/png": "[encoded data removed]",
      "text/plain": [
       "<Figure size 432x288 with 1 Axes>"
      ]
     },
     "metadata": {
      "needs_background": "light"
     },
     "output_type": "display_data"
    }
   ],
   "source": [
    "plt.title('Распределение типов заведений в топ-15')\n",
    "sns.barplot(\n",
    "    data_top_15.groupby('category').name.count().reset_index().sort_values(by='name',ascending=False),\n",
    "    x = 'name',\n",
    "    y= 'category',\n",
    "    palette=\"Greens_d\")\n",
    "plt.xlabel('Кол-во')\n",
    "plt.ylabel('Тип заведения');"
   ]
  },
  {
   "cell_type": "markdown",
   "metadata": {},
   "source": [
    "*Большую часть сетевых заведений в топ-15 по популярности в Москве занимают кофейни. Остальные категории присутствуют в датасете в относительно равном количестве, за исключением сети булочных \"Буханка\". Наличие категорий быстрое питание, столовая и бар ошибочно представлены в графике распределения категорий заведений в топ-15, по причине того, что обычные пользователи могут вносить правки в описании заведений в Яндекс картах.*"
   ]
  },
  {
   "cell_type": "markdown",
   "metadata": {},
   "source": [
    "Не лишним будет отобразить количество заведений каждой категории по районам"
   ]
  },
  {
   "cell_type": "code",
   "execution_count": 59,
   "metadata": {
    "scrolled": true
   },
   "outputs": [
    {
     "name": "stderr",
     "output_type": "stream",
     "text": [
      "C:\\Users\\Georgii\\AppData\\Local\\Temp/ipykernel_6008/1992735945.py:1: SettingWithCopyWarning:\n",
      "\n",
      "\n",
      "A value is trying to be set on a copy of a slice from a DataFrame.\n",
      "Try using .loc[row_indexer,col_indexer] = value instead\n",
      "\n",
      "See the caveats in the documentation: https://pandas.pydata.org/pandas-docs/stable/user_guide/indexing.html#returning-a-view-versus-a-copy\n",
      "\n"
     ]
    }
   ],
   "source": [
    "data_top_15['district'] = data_top_15.apply(\n",
    "    lambda row: (''.join(re.findall(r'\\b[а-яА-Я]', row[\"district\"]))).upper(), \n",
    "    axis=1)"
   ]
  },
  {
   "cell_type": "code",
   "execution_count": 60,
   "metadata": {
    "scrolled": false
   },
   "outputs": [
    {
     "data": {
      "image/png": "[encoded data removed]"
     },
     "metadata": {},
     "output_type": "display_data"
    }
   ],
   "source": [
    "pop = data_top_15.groupby(['district', 'category']).agg({'name':'count'}).sort_values(by='name', ascending=False)\n",
    "px.bar(pop.reset_index(), \n",
    "             x=\"district\",\n",
    "             y=\"name\",\n",
    "             color=\"category\", \n",
    "             title = \"Распределение категорий топ-15 заведений по округам\",\n",
    "             width=950, \n",
    "             height=700)"
   ]
  },
  {
   "cell_type": "markdown",
   "metadata": {},
   "source": [
    "*Всех категорий заведений больше в административном округе, за исключением пиццерий. Отмечается также большее количество в Южном административном округе по сравнению с остальными. На севере города больше кофеен и булочных, а на юге кажется, что в среднем чуть больше кафе*"
   ]
  },
  {
   "cell_type": "markdown",
   "metadata": {},
   "source": [
    "Проверим круглосуточность"
   ]
  },
  {
   "cell_type": "code",
   "execution_count": 61,
   "metadata": {
    "scrolled": true
   },
   "outputs": [
    {
     "data": {
      "image/png": "[encoded data removed]"
     },
     "metadata": {},
     "output_type": "display_data"
    }
   ],
   "source": [
    "labels_krug = ['круглосуточные', 'некруглосуточные']\n",
    "values_krug = [data_top_15[data_top_15[\"is_24/7\"] == True].name.count(), \n",
    "               data_top_15[data_top_15[\"is_24/7\"] == False].name.count()]\n",
    "fig = go.Figure(data=[go.Pie(labels=labels_krug, values=values_krug)])\n",
    "fig.update_layout(\n",
    "    title=go.layout.Title(\n",
    "        text=\"Соотношение круглосуточных и некруглосуточных заведений\",xref=\"paper\",x=0)\n",
    ")\n",
    "fig.show() "
   ]
  },
  {
   "cell_type": "markdown",
   "metadata": {},
   "source": [
    "Также посмотрим, как распределяются рейтинги топ-15 заведений Москвы относительно остальных сетей"
   ]
  },
  {
   "cell_type": "code",
   "execution_count": 62,
   "metadata": {},
   "outputs": [],
   "source": [
    "# создадим 2 датафрейма относительного распределения рейтингом, во всех сетевых заведениях, и отдельно в заведениях топ-15\n",
    "rating_data = data[data['chain'] == 1].groupby('rating', as_index=False).name.count()\n",
    "rating_data['name'] = (rating_data['name'] / rating_data['name'].sum())*100\n",
    "\n",
    "rating_data_15 = data_top_15.groupby('rating', as_index=False).name.count()\n",
    "rating_data_15['name'] = (rating_data_15['name'] / rating_data_15['name'].sum())*100"
   ]
  },
  {
   "cell_type": "code",
   "execution_count": 63,
   "metadata": {},
   "outputs": [
    {
     "data": {
      "image/png": "[encoded data removed]",
      "text/plain": [
       "<Figure size 576x432 with 1 Axes>"
      ]
     },
     "metadata": {
      "needs_background": "light"
     },
     "output_type": "display_data"
    }
   ],
   "source": [
    "plt.figure(figsize=(8,6))\n",
    "plt.title('Относительный рейтинг сетевых заведений')\n",
    "plt.xlabel('Рейтинг')\n",
    "plt.ylabel('%')\n",
    "plt.xticks(np.arange(min(rating_data['rating']), max(rating_data['rating'])+1, .5))\n",
    "pyplot.bar(height=rating_data_15['name'], x=rating_data_15['rating'], alpha=1, label='Топ-15')\n",
    "pyplot.bar(height=rating_data['name'], x=rating_data['rating'], alpha=0.5, label='все')\n",
    "plt.legend(loc='upper right');\n",
    "pyplot.show()"
   ]
  },
  {
   "cell_type": "markdown",
   "metadata": {},
   "source": [
    "*В среднем видно, что у самых популярных сетевых заведениях оценки посетителей соответсвенно выше, чем у всех вместе. Однако самые высокие оценки чаще получают заведения не из топ-15.*"
   ]
  },
  {
   "cell_type": "markdown",
   "metadata": {},
   "source": [
    "Оценим, как вообще категории заведений влияют на рейтинги посетителей."
   ]
  },
  {
   "cell_type": "code",
   "execution_count": 64,
   "metadata": {},
   "outputs": [
    {
     "data": {
      "image/png": "[encoded data removed]",
      "text/plain": [
       "<Figure size 576x432 with 1 Axes>"
      ]
     },
     "metadata": {
      "needs_background": "light"
     },
     "output_type": "display_data"
    }
   ],
   "source": [
    "plt.figure(figsize=(8,6))\n",
    "plt.ylim(4,5)\n",
    "ax = sns.barplot(data=data.groupby('category').rating.mean().reset_index().sort_values(by='rating',ascending=False),\n",
    "    y='rating', \n",
    "    x='category', \n",
    "    palette=\"Greens_d\") \n",
    "plt.title('Средний рейтинг разных категорий заведений')\n",
    "plt.xlabel('Средний рейтинг')\n",
    "plt.ylabel('Тип заведения')\n",
    "ax.set_xticklabels(ax.get_xticklabels(), ha='right', rotation=35);"
   ]
  },
  {
   "cell_type": "markdown",
   "metadata": {},
   "source": [
    "*Средние оценки между разными категориями заведений различаются не слишком сильно. Самые высокие оценки достаются барам, ресторанам и пиццериям. У заведений типа кафе и быстрого питания отзывы явно хуже.*"
   ]
  },
  {
   "cell_type": "markdown",
   "metadata": {},
   "source": [
    "Проверим, связан ли предыдущий вывод со средним чеком."
   ]
  },
  {
   "cell_type": "code",
   "execution_count": 65,
   "metadata": {},
   "outputs": [
    {
     "data": {
      "image/png": "[encoded data removed]",
      "text/plain": [
       "<Figure size 576x432 with 1 Axes>"
      ]
     },
     "metadata": {
      "needs_background": "light"
     },
     "output_type": "display_data"
    }
   ],
   "source": [
    "plt.figure(figsize=(8,6))\n",
    "ax = sns.barplot(data=data.groupby('category').middle_avg_bill.mean().reset_index().sort_values(by='middle_avg_bill',ascending=False),\n",
    "    y='middle_avg_bill', \n",
    "    x='category', \n",
    "    palette=\"Greens_d\") \n",
    "plt.title('Средний чек разных категорий заведений')\n",
    "plt.xlabel('Тип заведения')\n",
    "plt.ylabel('Средний чек')\n",
    "ax.set_xticklabels(ax.get_xticklabels(), ha='right', rotation=35);"
   ]
  },
  {
   "cell_type": "code",
   "execution_count": 66,
   "metadata": {
    "scrolled": false
   },
   "outputs": [
    {
     "data": {
      "image/png": "[encoded data removed]",
      "text/plain": [
       "<Figure size 576x432 with 1 Axes>"
      ]
     },
     "metadata": {
      "needs_background": "light"
     },
     "output_type": "display_data"
    }
   ],
   "source": [
    "plt.figure(figsize=(8,6))\n",
    "plt.title('Взаимосвязь рейтинга заведения и среднего чека')\n",
    "plt.xlabel('Рейтинг')\n",
    "plt.ylabel('Средний чек')\n",
    "plt.scatter(x=data['rating'], y=data['middle_avg_bill']);"
   ]
  },
  {
   "cell_type": "code",
   "execution_count": 67,
   "metadata": {},
   "outputs": [
    {
     "data": {
      "text/plain": [
       "0.233"
      ]
     },
     "execution_count": 67,
     "metadata": {},
     "output_type": "execute_result"
    }
   ],
   "source": [
    "data['middle_avg_bill'].corr(data['rating']).round(3)"
   ]
  },
  {
   "cell_type": "markdown",
   "metadata": {},
   "source": [
    "*По диграмме рассеяния визуально можно определить, что все-таки чем выше чек заведения, тем большую оценку оно получает, хотя коэффициент корреляции равен лишь 0.233. Однако нельзя сказать, что удалось обнаружить взаимосвязь между средним чеком и рейтингом заведения, если сравнивать категории заведений между собой. Однако можно выделить сегменты заведений по среднему чеку, и выяснить какая категория выгоднее, с точки зрения потенциально высоких оценок. Между столовой, быстрым питанием и кофейней преимущество имеют кофейни и столовые. Между булочными, пиццериями и кафе этими заведениями будут булочные и пиццерии.*"
   ]
  },
  {
   "cell_type": "markdown",
   "metadata": {},
   "source": [
    "Определим какие административные районы Москвы представлены в датасете. Отобразим общее количество заведений и количество заведений каждой категории по районам"
   ]
  },
  {
   "cell_type": "code",
   "execution_count": 68,
   "metadata": {},
   "outputs": [],
   "source": [
    "data['district_abbr'] = data.apply(\n",
    "    lambda row: (''.join(re.findall(r'\\b[а-яА-Я]', row[\"district\"]))).upper(), \n",
    "    axis=1)"
   ]
  },
  {
   "cell_type": "code",
   "execution_count": 69,
   "metadata": {},
   "outputs": [
    {
     "data": {
      "image/png": "[encoded data removed]"
     },
     "metadata": {},
     "output_type": "display_data"
    }
   ],
   "source": [
    "pop = data.groupby(['district_abbr', 'category']).agg({'name':'count'}).sort_values(by='name', ascending=False)\n",
    "pop['overall'] = pop.groupby('district_abbr')[\"name\"].transform('sum')\n",
    "pop = pop.sort_values(by='overall', ascending=False)\n",
    "px.bar(pop.reset_index(), \n",
    "             x=\"district_abbr\",\n",
    "             y=\"name\",\n",
    "             color=\"category\", \n",
    "             title = \"Распределение категорий заведений по округам\",\n",
    "             width=950, \n",
    "             height=700)"
   ]
  },
  {
   "cell_type": "markdown",
   "metadata": {},
   "source": [
    "*Больше всего заведений в Центральном административном округе, меньше всего на Северо-Западе. По визуальной оценке графике, категории разных административных районах представлены в относительно равных пропорциях.*"
   ]
  },
  {
   "cell_type": "markdown",
   "metadata": {},
   "source": [
    "Построим фоновую картограмму со средним рейтингом заведений каждого района."
   ]
  },
  {
   "cell_type": "code",
   "execution_count": 70,
   "metadata": {},
   "outputs": [],
   "source": [
    "with open('C:/Users/Georgii/Desktop/ANALYTICS/admin_level_geomap.geojson', encoding='utf-8') as f:\n",
    "    districts = json.load(f)   "
   ]
  },
  {
   "cell_type": "code",
   "execution_count": 71,
   "metadata": {},
   "outputs": [
    {
     "data": {
      "text/plain": [
       "district\n",
       "Восточный административный округ           4.3\n",
       "Западный административный округ            4.3\n",
       "Северный административный округ            4.3\n",
       "Северо-Восточный административный округ    4.2\n",
       "Северо-Западный административный округ     4.3\n",
       "Центральный административный округ         4.4\n",
       "Юго-Восточный административный округ       4.2\n",
       "Юго-Западный административный округ        4.3\n",
       "Южный административный округ               4.3\n",
       "Name: rating, dtype: float64"
      ]
     },
     "execution_count": 71,
     "metadata": {},
     "output_type": "execute_result"
    }
   ],
   "source": [
    "data_choro = data.groupby('district').rating.median()\n",
    "data_choro"
   ]
  },
  {
   "cell_type": "code",
   "execution_count": 72,
   "metadata": {
    "scrolled": true
   },
   "outputs": [
    {
     "data": {
      "text/plain": [
       "<folium.features.Choropleth at 0x217414700a0>"
      ]
     },
     "execution_count": 72,
     "metadata": {},
     "output_type": "execute_result"
    }
   ],
   "source": [
    "moscow = folium.Map(\n",
    "    location = [55.755864, 37.617698],\n",
    "    zoom_start = 9.5\n",
    ")\n",
    "folium.GeoJson(districts).add_to(moscow)\n",
    "\n",
    "Choropleth(geo_data = districts, data = data_choro, columns=['district', 'rating'], key_on='feature.name').add_to(moscow)"
   ]
  },
  {
   "cell_type": "code",
   "execution_count": 73,
   "metadata": {
    "code_folding": [],
    "scrolled": false
   },
   "outputs": [
    {
     "ename": "SyntaxError",
     "evalue": "invalid syntax (Temp/ipykernel_6008/3664764011.py, line 1)",
     "output_type": "error",
     "traceback": [
      "\u001b[1;36m  File \u001b[1;32m\"C:\\Users\\Georgii\\AppData\\Local\\Temp/ipykernel_6008/3664764011.py\"\u001b[1;36m, line \u001b[1;32m1\u001b[0m\n\u001b[1;33m    display(Image(filename='images/6.png', embed=True))lat = data['lat']\u001b[0m\n\u001b[1;37m                                                       ^\u001b[0m\n\u001b[1;31mSyntaxError\u001b[0m\u001b[1;31m:\u001b[0m invalid syntax\n"
     ]
    }
   ],
   "source": [
    "display(Image(filename='images/6.png', embed=True))lat = data['lat']\n",
    "lng = data['lng']\n",
    "name = data['name']\n",
    "\n",
    "\n",
    "marker_cluster = MarkerCluster().add_to(moscow)\n",
    "for lat, lng, name in zip(lat, lng, name):\n",
    "    folium.CircleMarker(location=[lat, lng], \n",
    "                        radius = 9, popup=str(name), \n",
    "                        color=\"gray\", fill_opacity = 1).add_to(marker_cluster)\n",
    "# moscow"
   ]
  },
  {
   "cell_type": "code",
   "execution_count": null,
   "metadata": {},
   "outputs": [],
   "source": [
    "display(Image(filename='images/1.png', embed=True))"
   ]
  },
  {
   "cell_type": "markdown",
   "metadata": {},
   "source": [
    "![](1.png)"
   ]
  },
  {
   "cell_type": "markdown",
   "metadata": {},
   "source": [
    "*Можно сказать, что медианные значения рейтингов распределены достаточно равномерно по районам, за исключением повышенного рейтинга в Центральном административном округе, и заниженного рейтинга в Юго-Восточном округе.*"
   ]
  },
  {
   "cell_type": "markdown",
   "metadata": {},
   "source": [
    "Найдем топ-15 улиц по количеству заведений"
   ]
  },
  {
   "cell_type": "code",
   "execution_count": null,
   "metadata": {
    "scrolled": true
   },
   "outputs": [],
   "source": [
    "data.street.value_counts().head(15)"
   ]
  },
  {
   "cell_type": "markdown",
   "metadata": {},
   "source": [
    "Построим график распределения количества заведений и их категорий по этим улицам"
   ]
  },
  {
   "cell_type": "code",
   "execution_count": null,
   "metadata": {},
   "outputs": [],
   "source": [
    "top_streets = data.street.value_counts().head(15).index.values.tolist()\n",
    "data_top_street = data.query('street in @top_streets')"
   ]
  },
  {
   "cell_type": "code",
   "execution_count": null,
   "metadata": {},
   "outputs": [],
   "source": [
    "pop = data_top_street.groupby(['street', 'category']).agg({'name':'count'}).sort_values(by='name',ascending=False)\n",
    "pop['overall'] = pop.groupby('street')[\"name\"].transform('sum')\n",
    "pop = pop.sort_values(by='overall', ascending=False)\n",
    "\n",
    "px.bar(pop.reset_index(), \n",
    "             x=\"name\",\n",
    "             y=\"street\",\n",
    "             color=\"category\", \n",
    "             title = \"Распределение категорий топ-15 улиц по категориям\",\n",
    "             width=950, \n",
    "             height=700)"
   ]
  },
  {
   "cell_type": "markdown",
   "metadata": {},
   "source": [
    "*Проспект Мира - самая наполненная заведениями улица. На ней находится более 180 заведений общепита, большинство из которых кофейни, кафе и рестораны. Остались ли на ней еще места для новых заведений) По количеству пиццерий лидирует Варшавское шоссе, а барной улицей по праву может считаться Ленинградский проспект.*"
   ]
  },
  {
   "cell_type": "markdown",
   "metadata": {},
   "source": [
    "Найдем улицы, на которых находится только один объект общепита."
   ]
  },
  {
   "cell_type": "code",
   "execution_count": null,
   "metadata": {},
   "outputs": [],
   "source": [
    "one_streets = data.groupby('street').count().query('name == 1').index.values"
   ]
  },
  {
   "cell_type": "code",
   "execution_count": null,
   "metadata": {},
   "outputs": [],
   "source": [
    "data_one_street = data.query('street in @one_streets')"
   ]
  },
  {
   "cell_type": "code",
   "execution_count": null,
   "metadata": {},
   "outputs": [],
   "source": [
    "data_one_street.name.count()"
   ]
  },
  {
   "cell_type": "code",
   "execution_count": null,
   "metadata": {},
   "outputs": [],
   "source": [
    "plt.figure(figsize=(8,6))\n",
    "ax = sns.barplot(data=data_one_street.groupby('category').name.count().reset_index().sort_values(by='name',ascending=False),\n",
    "    y='name', \n",
    "    x='category', \n",
    "    palette=\"Greens_d\") \n",
    "plt.title('Распределение типов заведений на топ-15 улицах')\n",
    "plt.xlabel('Тип заведения')\n",
    "plt.ylabel('Кол-во')\n",
    "ax.set_xticklabels(ax.get_xticklabels(), ha='right', rotation=35);"
   ]
  },
  {
   "cell_type": "code",
   "execution_count": null,
   "metadata": {
    "scrolled": true
   },
   "outputs": [],
   "source": [
    "moscow_one_street = folium.Map(\n",
    "    location = [55.755864, 37.617698],\n",
    "    zoom_start = 9.5\n",
    ")\n",
    "folium.GeoJson(districts).add_to(moscow_one_street)\n",
    "\n",
    "lat = data_one_street['lat']\n",
    "lng = data_one_street['lng']\n",
    "name = data_one_street['name']\n",
    "\n",
    "marker_cluster = MarkerCluster().add_to(moscow_one_street)\n",
    "for lat, lng, name in zip(lat, lng, name):\n",
    "    folium.CircleMarker(location=[lat, lng], \n",
    "                        radius = 9, popup=str(name), \n",
    "                        color=\"gray\", fill_opacity = 1).add_to(marker_cluster)\n",
    "# moscow_one_street"
   ]
  },
  {
   "cell_type": "markdown",
   "metadata": {},
   "source": [
    "![](2.png)"
   ]
  },
  {
   "cell_type": "code",
   "execution_count": null,
   "metadata": {},
   "outputs": [],
   "source": [
    "display(Image(filename='images/2.png', embed=True))"
   ]
  },
  {
   "cell_type": "markdown",
   "metadata": {},
   "source": [
    "*Можно сказать, что таких улиц 469, большинство из которых находятся в центре города в пределах Третьего Транспортного кольца. По категориям это преимущественно кафе, кофейни и рестораны.*"
   ]
  },
  {
   "cell_type": "markdown",
   "metadata": {},
   "source": [
    "Посчитаем медиану среднего чека заведения для каждого района. Будем использовать это значение в качестве ценового индикатора района. Построим фоновую картограмму с полученными значениями для каждого района и проанализируйте цены."
   ]
  },
  {
   "cell_type": "code",
   "execution_count": null,
   "metadata": {},
   "outputs": [],
   "source": [
    "data_bill_median = data.groupby('district').middle_avg_bill.median()\n",
    "data_bill_median"
   ]
  },
  {
   "cell_type": "code",
   "execution_count": null,
   "metadata": {
    "scrolled": true
   },
   "outputs": [],
   "source": [
    "moscow_bill_median = folium.Map(\n",
    "    location = [55.755864, 37.617698],\n",
    "    zoom_start = 9.5\n",
    ")\n",
    "folium.GeoJson(districts).add_to(moscow_bill_median)\n",
    "\n",
    "Choropleth(geo_data = districts, data = data_bill_median, columns=['district', 'rating'], key_on='feature.name').add_to(moscow_bill_median)\n",
    "# moscow_bill_median"
   ]
  },
  {
   "cell_type": "markdown",
   "metadata": {},
   "source": [
    "![](3.png)"
   ]
  },
  {
   "cell_type": "code",
   "execution_count": null,
   "metadata": {},
   "outputs": [],
   "source": [
    "display(Image(filename='images/3.png', embed=True))"
   ]
  },
  {
   "cell_type": "markdown",
   "metadata": {},
   "source": [
    "Картограмма не вполне репрезентативная. Возможно, после предобработки данных, медианные значения сместились в сторону заполенных. Попробуем посчитать среднее значение по районам"
   ]
  },
  {
   "cell_type": "code",
   "execution_count": null,
   "metadata": {
    "scrolled": true
   },
   "outputs": [],
   "source": [
    "data_bill_mean = data.groupby('district').middle_avg_bill.mean()\n",
    "data_bill_mean"
   ]
  },
  {
   "cell_type": "code",
   "execution_count": null,
   "metadata": {
    "scrolled": true
   },
   "outputs": [],
   "source": [
    "moscow_bill_mean = folium.Map(\n",
    "    location = [55.755864, 37.617698],\n",
    "    zoom_start = 9.5\n",
    ")\n",
    "folium.GeoJson(districts).add_to(moscow_bill_mean)\n",
    "\n",
    "Choropleth(geo_data = districts, data = data_bill_mean, columns=['district', 'rating'], key_on='feature.name').add_to(moscow_bill_mean)\n",
    "# moscow_bill_mean"
   ]
  },
  {
   "cell_type": "code",
   "execution_count": null,
   "metadata": {},
   "outputs": [],
   "source": [
    "display(Image(filename='images/4.png', embed=True))"
   ]
  },
  {
   "cell_type": "markdown",
   "metadata": {},
   "source": [
    "*На картограмме можно наблюдать зависимость среднего чека от удаленности от центра. Чем дальше от центра, тем стоимость чека становится меньше. Не так сильно эта зависимость проглядывается в случае удаления в сторону Западного округа. Поэтому самыми \"дорогими\" районами можно считать Центральный и Западный административные округа.*"
   ]
  },
  {
   "cell_type": "markdown",
   "metadata": {},
   "source": [
    "***Вот главные выводы, которые можно сформировать в результате проведенного исследования:***\n",
    "- *В Москве преобладают заведения типа кафе, ресторан или кофейня. Наименее часто люди в Москве посещают булочные и столовые*\n",
    "- *Доля сетевых заведений в Москве равняется 38,1 %, а самое большая доля сетевых заведений среди категорий общепита у кофеен*\n",
    "- *Большую часть сетевых заведений в топ-15 по популярности в Москве занимают кофейни.*\n",
    "- *У самых популярных сетевых заведений оценки посетителей соответсвенно выше, чем у всех заведений вместе. Однако самые высокие оценки чаще получают заведения не из топ-15*\n",
    "- *Удалось обнаружить взаимосвязь между средним рейтингом и средним чеком заведения, однако, не для всех категорий заведений эта корреляция существенна*\n",
    "- *Больше всего заведений находится в Центральном округе. Меньше всего - на Северо-Западе*\n",
    "- *Наиболее высокий рейтинг у заведений, которые находятся в центре Москвы*\n",
    "- *Проспект Мира - самая наполненная заведениями улица. На ней находится более 180 заведений общепита, большинство из которых кофейни, кафе и рестораны. По количеству пиццерий лидирует Варшавское шоссе, а барной улицей по праву может считаться Ленинградский проспект.*\n",
    "- *Удалось обнаружить взаимосвязь между средним рейтингом и удаленностью заведения от центра. Чем дальше от центра, тем рейтинг становится меньше.*\n",
    "- *Самые \"дорогими\" районами можно считать Центральный и Западный административные округа.*"
   ]
  },
  {
   "cell_type": "markdown",
   "metadata": {},
   "source": [
    "# Детализация исследования"
   ]
  },
  {
   "cell_type": "markdown",
   "metadata": {},
   "source": [
    "Рассмотрим возможность открытия в Москве кофейни в стиле кофейни «Central Perk» из сериала «Друзья». Для этого нужно ответить на ряд вопросов:\n",
    "- Сколько всего кофеен в датасете? В каких районах их больше всего, каковы особенности их расположения?\n",
    "- Есть ли круглосуточные кофейни?\n",
    "- Какие у кофеен рейтинги? Как они распределяются по районам?\n",
    "- На какую стоимость чашки капучино стоит ориентироваться при открытии и почему?"
   ]
  },
  {
   "cell_type": "markdown",
   "metadata": {},
   "source": [
    "Посмотрим на количество кофеен в датасете, их распределение по категориям и особенности расположения"
   ]
  },
  {
   "cell_type": "code",
   "execution_count": null,
   "metadata": {},
   "outputs": [],
   "source": [
    "data_coffee = data[data['category'] == 'кофейня']"
   ]
  },
  {
   "cell_type": "code",
   "execution_count": null,
   "metadata": {},
   "outputs": [],
   "source": [
    "print (f'В датасете всего {data_coffee.name.count()} кофеен')"
   ]
  },
  {
   "cell_type": "code",
   "execution_count": null,
   "metadata": {},
   "outputs": [],
   "source": [
    "plt.figure(figsize=(8,6))\n",
    "ax = sns.barplot(data=data_coffee.groupby('district_abbr').name.count().reset_index().sort_values(by='name',ascending=False),\n",
    "    y='name', \n",
    "    x='district_abbr', \n",
    "    palette=\"Greens_d\") \n",
    "plt.title('Распределение кофеен по округам')\n",
    "plt.xlabel('Округ')\n",
    "plt.ylabel('Кол-во')\n",
    "ax.set_xticklabels(ax.get_xticklabels(), ha='right');"
   ]
  },
  {
   "cell_type": "code",
   "execution_count": null,
   "metadata": {
    "scrolled": true
   },
   "outputs": [],
   "source": [
    "moscow_coffee= folium.Map(\n",
    "    location = [55.755864, 37.617698],\n",
    "    zoom_start = 9.5\n",
    ")\n",
    "folium.GeoJson(districts).add_to(moscow_coffee)\n",
    "\n",
    "lat = data_coffee['lat']\n",
    "lng = data_coffee['lng']\n",
    "name = data_coffee['name']\n",
    "\n",
    "marker_cluster = MarkerCluster().add_to(moscow_coffee)\n",
    "for lat, lng, name in zip(lat, lng, name):\n",
    "    folium.CircleMarker(location=[lat, lng], \n",
    "                        radius = 9, popup=str(name), \n",
    "                        color=\"gray\", fill_opacity = 1).add_to(marker_cluster)\n",
    "# moscow_coffee"
   ]
  },
  {
   "cell_type": "code",
   "execution_count": null,
   "metadata": {},
   "outputs": [],
   "source": [
    "display(Image(filename='images/5.png', embed=True))"
   ]
  },
  {
   "cell_type": "markdown",
   "metadata": {},
   "source": [
    "*Больше всего кофеен можно встретить в центре, на севере, на западе и на юго-западе города. Эти направления можно выделить, как наиболее релевантные. Однако, я бы с осторожностью рассматривал идею открытия кофейни в Центральном округе. Это сопровождается большими финансовыми вложениями, большими рисками. К тому же формат планируемой кофейни предполагает более спокойную и камерную обстановку. В то время, как в центре, большим приоритетом пользуются заведения типа кофе-ту-гоу, за счет более высокого темпа деловой жизни. Однако, слишком далеко от центра, место расположения тоже рассматривать не стоит. Все-таки большинство людей, предпочитают проводить свой досуг ближе к центру города.*"
   ]
  },
  {
   "cell_type": "markdown",
   "metadata": {},
   "source": [
    "Оценим количество круглосуточных кофеен, и их долю среди сетевых кофеен"
   ]
  },
  {
   "cell_type": "code",
   "execution_count": null,
   "metadata": {
    "scrolled": false
   },
   "outputs": [],
   "source": [
    "print (f'В датасете всего {data_coffee[data_coffee[\"is_24/7\"] == True].name.count()} круглосуточных кофеен')"
   ]
  },
  {
   "cell_type": "code",
   "execution_count": null,
   "metadata": {
    "scrolled": true
   },
   "outputs": [],
   "source": [
    "data_coffee[data_coffee[\"is_24/7\"] == True].name.value_counts()"
   ]
  },
  {
   "cell_type": "code",
   "execution_count": null,
   "metadata": {},
   "outputs": [],
   "source": [
    "chain_coffee_percent = (data_coffee[data_coffee[\"is_24/7\"] == True].chain.sum() \\\n",
    "        / data_coffee[data_coffee[\"is_24/7\"] == True].chain.count()).round(2)\n",
    "print (f'Из круглосуточных кофеен процент сетевых составляет {int(chain_coffee_percent*100)} %')"
   ]
  },
  {
   "cell_type": "code",
   "execution_count": null,
   "metadata": {
    "scrolled": false
   },
   "outputs": [],
   "source": [
    "labels_krug = ['круглосуточные', 'некруглосуточные']\n",
    "values_krug = [data_coffee[data_coffee[\"is_24/7\"] == True].name.count(), \n",
    "               data_coffee[data_coffee[\"is_24/7\"] == False].name.count()]\n",
    "fig = go.Figure(data=[go.Pie(labels=labels_krug, values=values_krug)])\n",
    "fig.update_layout(\n",
    "    title=go.layout.Title(\n",
    "        text=\"Соотношение круглосуточных и некруглосуточных кофеен\",xref=\"paper\",x=0)\n",
    ")\n",
    "fig.show() "
   ]
  },
  {
   "cell_type": "markdown",
   "metadata": {},
   "source": [
    "*Так как на данном этапе проекта кофейня не предполагает сетевую направленность, исходя, их полученных выше графиков и расчетов, не рекомендуется открывать круглосуточную кофейню.*"
   ]
  },
  {
   "cell_type": "markdown",
   "metadata": {},
   "source": [
    "Проверим рейтинги кофеен. Как мы помним, по среднему рейтингу кофейни уступают ресторанам и пабам, но выигрывают у кафе и столовых. Посмотрим как рейтинги распределяются по районам."
   ]
  },
  {
   "cell_type": "code",
   "execution_count": null,
   "metadata": {},
   "outputs": [],
   "source": [
    "data_coffee_rating = data_coffee.groupby('district')['rating'].mean()"
   ]
  },
  {
   "cell_type": "code",
   "execution_count": null,
   "metadata": {
    "scrolled": true
   },
   "outputs": [],
   "source": [
    "moscow_coffee_rating = folium.Map(\n",
    "    location = [55.755864, 37.617698],\n",
    "    zoom_start = 9.5\n",
    ")\n",
    "folium.GeoJson(districts).add_to(moscow_coffee_rating)\n",
    "\n",
    "Choropleth(geo_data = districts, data = data_coffee_rating, columns=['district', 'rating'], key_on='feature.name').add_to(moscow_coffee_rating)\n",
    "# moscow_coffee_rating"
   ]
  },
  {
   "cell_type": "code",
   "execution_count": null,
   "metadata": {},
   "outputs": [],
   "source": [
    "display(Image(filename='images/6.png', embed=True))"
   ]
  },
  {
   "cell_type": "markdown",
   "metadata": {},
   "source": [
    "*Лидирующие по рейтингу району схожи с районами с большим количеством кофеен. Самые качественные кофейни по мнению посетителей находятся в Центральном, Северном, Северо-Западном и Юго-Западном округах. Если не брать в расчет центр Москвы, где присутствует слишком большой трафик, можно выделить два округа, в которых присутствует достаточная плотность заведений типа кофеен, а также высокий рейтинг среди них. Это Северный и Юго-Западный округа. Часто, первое заведение рекомендуют открывать рядом с успешными конкурентами, так можно не ошибиться с потокок посетителей, а в будущем возможно переманить какое-то количество людей.  \n",
    "Можно также взять на себя некоторые риски и попробовать открыть заведение в районе ЗАО, где достаточная плотность заведений, но низкие рейтинги. Поработать над качеством заведения и выделиться за счет этого среди конкурентов.*"
   ]
  },
  {
   "cell_type": "markdown",
   "metadata": {},
   "source": [
    "Выведем медианные значения стоимости чашки кофе для разных ценовых категорий кофеен и определим, на какую среднюю стоимость чашки кофе нужно ориентироваться инвесторам."
   ]
  },
  {
   "cell_type": "code",
   "execution_count": null,
   "metadata": {
    "scrolled": true
   },
   "outputs": [],
   "source": [
    "data_coffee.groupby('price').middle_coffee_cup.median()"
   ]
  },
  {
   "cell_type": "code",
   "execution_count": null,
   "metadata": {
    "scrolled": false
   },
   "outputs": [],
   "source": [
    "plt.figure(figsize=(8,6))\n",
    "ax = sns.barplot(data=data_coffee.groupby('price').name.count().reset_index().sort_values(by='name',ascending=False),\n",
    "    y='name', \n",
    "    x='price', \n",
    "    palette=\"Greens_d\") \n",
    "plt.title('Распределение кофеен по ценовым сегментам')\n",
    "plt.xlabel('Ценовой сегмент')\n",
    "plt.ylabel('Кол-во')\n",
    "ax.set_xticklabels(ax.get_xticklabels(), ha='center');"
   ]
  },
  {
   "cell_type": "markdown",
   "metadata": {},
   "source": [
    "*При открытии кофейни такого тематического формата, стоит смотреть в сторону сегмента выше среднего. Заказчики хотят, чтобы атмосфера заведения была такая же, как в сериале. А значит, предполагается, что люди будут приходить в заведение, по большей части, чтобы комфортно провести продолжительное время друг с другом. Для этого потребуется необходимое количество посадочных мест, интерьер и т.д. Поэтому ценовой сегмент рекомендуется рассматривать выше среднего, или, хотя бы, в верхней границе среднего значения. Средняя стоимость чашки кофе в таком случае будет в районе 205 рублей, что всего на 5 рублей больше медианного значения в среднем сегменте.*"
   ]
  },
  {
   "cell_type": "markdown",
   "metadata": {},
   "source": [
    "***Общие рекомендации по открытию кофейни типа \"Central Perks\":***\n",
    "- *Наиболее релевантными, для открытия кофейни, являются Северный и Юго-Западный округа. В этих районах кофейни пользуются популярностью и получают хорошие оценки от посетителей*\n",
    "- *Стоит с предосторожностью рассматривать Центральный административный округ для открытия заведения. Возможно быстрый темп деловой жизни в центре не будет сочетаться с форматом планируемой кофейни*\n",
    "- *Не стоит делать кофейню круглосуточной, в основном, такой режим работы соответствует сетевым заведениям*\n",
    "- *Ориентироваться необходимо на сегмент выше среднего. В таком случае, средняя цена за чашку кофе будет в районе 205 рублей.*"
   ]
  },
  {
   "cell_type": "markdown",
   "metadata": {},
   "source": [
    "# Выводы"
   ]
  },
  {
   "cell_type": "markdown",
   "metadata": {},
   "source": [
    "**По итогам результатам работы были проделаны следующие шаги по проекту:**\n",
    "- ***Обработан файл с даннымы о заведениях общественного питания Москвы за лето 2022 года.***\n",
    "- ***Подготовлены исследование рынка Москвы*** \n",
    "- ***Отмечены важные тезисы и наблюдения***\n",
    "- ***Проведен краткий анализ возможности открытия в Москве кофейни в стиле «Central Perk» из сериала «Друзья»***\n",
    "\n",
    "**По итогам проделанной работы удалось установить следующее:**\n",
    "- ***В Москве преобладают заведения типа кафе, ресторан или кофейня. Наименее часто люди в Москве посещают булочные и столовые.***\n",
    "- ***Наиболее высокий рейтинг у заведений, которые находятся в центре Москвы***\n",
    "- ***Существует взаимосвязь между средним рейтингом и удаленностью заведения от центра. Чем дальше от центра, тем рейтинг становится меньше.***\n",
    "- ***Обнаружена также взаимосвязь между средним рейтингом и средним чеком заведения, однако не для всех категорий заведений эта корреляция существенна***\n",
    "- ***Доля сетевых заведений в Москве равняется 38,1 %, а самое большая доля сетевых заведений среди категорий общепита у кофеен***\n",
    "- ***У самых популярных сетевых заведений оценки посетителей соответственно выше, чем у всех вместе. Однако самые высокие оценки чаще получают заведения не из топ-15***\n",
    "\n",
    "\n",
    "**Исходя из желания инвесторов открыть тематическую кофейню по типу \"Central Perks\", был проведен анализ и предложены следующие рекомендации по открытию заведения:**\n",
    "- ***Наиболее релевантными, для открытия кофейни, являются Северный и Юго-Западный округа. В этих районах кофейни пользуются популярностью и получают хорошие оценки от посетителей***\n",
    "- ***Стоит с предосторожностью рассматривать Центральный административный округ для открытия заведения. Возможно быстрый темп деловой жизни в центре не будет сочетаться с форматом планируемой кофейни***\n",
    "- ***Не стоит делать кофейню круглосуточной, в основном, такой режим работы соответствует сетевым заведениям***\n",
    "- ***Ориентироваться необходимо на сегмент выше среднего. В таком случае, средняя цена за чашку кофе будет в районе 205 рублей.***\n",
    "\n",
    "<br>"
   ]
  },
  {
   "cell_type": "markdown",
   "metadata": {},
   "source": [
    "Презентация: https://docs.google.com/presentation/d/1qiAuG2PG7s1D4429SOD9wvosGUrnDHsZw1sbpjDRPKo/edit?usp=sharing"
   ]
  }
 ],
 "metadata": {
  "ExecuteTimeLog": [
   {
    "duration": 1416,
    "start_time": "2022-10-31T05:56:11.822Z"
   },
   {
    "duration": 852,
    "start_time": "2022-10-31T05:56:13.240Z"
   },
   {
    "duration": 9,
    "start_time": "2022-10-31T05:56:14.093Z"
   },
   {
    "duration": 21,
    "start_time": "2022-10-31T05:56:14.104Z"
   },
   {
    "duration": 493,
    "start_time": "2022-10-31T05:56:14.127Z"
   },
   {
    "duration": 0,
    "start_time": "2022-10-31T05:56:14.623Z"
   },
   {
    "duration": 0,
    "start_time": "2022-10-31T05:56:14.624Z"
   },
   {
    "duration": 0,
    "start_time": "2022-10-31T05:56:14.625Z"
   },
   {
    "duration": 0,
    "start_time": "2022-10-31T05:56:14.626Z"
   },
   {
    "duration": 0,
    "start_time": "2022-10-31T05:56:14.627Z"
   },
   {
    "duration": 0,
    "start_time": "2022-10-31T05:56:14.628Z"
   },
   {
    "duration": 0,
    "start_time": "2022-10-31T05:56:14.629Z"
   },
   {
    "duration": 0,
    "start_time": "2022-10-31T05:56:14.630Z"
   },
   {
    "duration": 0,
    "start_time": "2022-10-31T05:56:14.631Z"
   },
   {
    "duration": 0,
    "start_time": "2022-10-31T05:56:14.632Z"
   },
   {
    "duration": 0,
    "start_time": "2022-10-31T05:56:14.633Z"
   },
   {
    "duration": 0,
    "start_time": "2022-10-31T05:56:14.634Z"
   },
   {
    "duration": 0,
    "start_time": "2022-10-31T05:56:14.635Z"
   },
   {
    "duration": 0,
    "start_time": "2022-10-31T05:56:14.636Z"
   },
   {
    "duration": 0,
    "start_time": "2022-10-31T05:56:14.637Z"
   },
   {
    "duration": 0,
    "start_time": "2022-10-31T05:56:14.638Z"
   },
   {
    "duration": 0,
    "start_time": "2022-10-31T05:56:14.639Z"
   },
   {
    "duration": 0,
    "start_time": "2022-10-31T05:56:14.640Z"
   },
   {
    "duration": 0,
    "start_time": "2022-10-31T05:56:14.641Z"
   },
   {
    "duration": 0,
    "start_time": "2022-10-31T05:56:14.642Z"
   },
   {
    "duration": 0,
    "start_time": "2022-10-31T05:56:14.643Z"
   },
   {
    "duration": 0,
    "start_time": "2022-10-31T05:56:14.644Z"
   },
   {
    "duration": 0,
    "start_time": "2022-10-31T05:56:14.645Z"
   },
   {
    "duration": 0,
    "start_time": "2022-10-31T05:56:14.646Z"
   },
   {
    "duration": 0,
    "start_time": "2022-10-31T05:56:14.648Z"
   },
   {
    "duration": 0,
    "start_time": "2022-10-31T05:56:14.649Z"
   },
   {
    "duration": 0,
    "start_time": "2022-10-31T05:56:14.650Z"
   },
   {
    "duration": 0,
    "start_time": "2022-10-31T05:56:14.650Z"
   },
   {
    "duration": 0,
    "start_time": "2022-10-31T05:56:14.651Z"
   },
   {
    "duration": 0,
    "start_time": "2022-10-31T05:56:14.652Z"
   },
   {
    "duration": 0,
    "start_time": "2022-10-31T05:56:14.653Z"
   },
   {
    "duration": 0,
    "start_time": "2022-10-31T05:56:14.654Z"
   },
   {
    "duration": 1225,
    "start_time": "2022-10-31T05:56:31.735Z"
   },
   {
    "duration": 182,
    "start_time": "2022-10-31T05:56:32.961Z"
   },
   {
    "duration": 11,
    "start_time": "2022-10-31T05:56:33.144Z"
   },
   {
    "duration": 21,
    "start_time": "2022-10-31T05:56:33.156Z"
   },
   {
    "duration": 11,
    "start_time": "2022-10-31T05:56:33.179Z"
   },
   {
    "duration": 174,
    "start_time": "2022-10-31T05:56:33.192Z"
   },
   {
    "duration": 15,
    "start_time": "2022-10-31T05:56:33.367Z"
   },
   {
    "duration": 81,
    "start_time": "2022-10-31T05:56:33.383Z"
   },
   {
    "duration": 63,
    "start_time": "2022-10-31T05:56:33.465Z"
   },
   {
    "duration": 62,
    "start_time": "2022-10-31T05:56:33.530Z"
   },
   {
    "duration": 76,
    "start_time": "2022-10-31T05:56:33.593Z"
   },
   {
    "duration": 9,
    "start_time": "2022-10-31T05:56:33.671Z"
   },
   {
    "duration": 28,
    "start_time": "2022-10-31T05:56:33.682Z"
   },
   {
    "duration": 12,
    "start_time": "2022-10-31T05:56:33.713Z"
   },
   {
    "duration": 32,
    "start_time": "2022-10-31T05:56:33.727Z"
   },
   {
    "duration": 18,
    "start_time": "2022-10-31T05:56:33.760Z"
   },
   {
    "duration": 34,
    "start_time": "2022-10-31T05:56:33.780Z"
   },
   {
    "duration": 7,
    "start_time": "2022-10-31T05:56:33.816Z"
   },
   {
    "duration": 648,
    "start_time": "2022-10-31T05:56:33.825Z"
   },
   {
    "duration": 64,
    "start_time": "2022-10-31T05:56:34.474Z"
   },
   {
    "duration": 417,
    "start_time": "2022-10-31T05:56:34.540Z"
   },
   {
    "duration": 37,
    "start_time": "2022-10-31T05:56:34.959Z"
   },
   {
    "duration": 25,
    "start_time": "2022-10-31T05:56:35.005Z"
   },
   {
    "duration": 17,
    "start_time": "2022-10-31T05:56:35.032Z"
   },
   {
    "duration": 55,
    "start_time": "2022-10-31T05:56:35.051Z"
   },
   {
    "duration": 5,
    "start_time": "2022-10-31T05:56:35.107Z"
   },
   {
    "duration": 14,
    "start_time": "2022-10-31T05:56:35.114Z"
   },
   {
    "duration": 11,
    "start_time": "2022-10-31T05:56:35.129Z"
   },
   {
    "duration": 433,
    "start_time": "2022-10-31T05:56:35.141Z"
   },
   {
    "duration": 4,
    "start_time": "2022-10-31T05:56:35.577Z"
   },
   {
    "duration": 203,
    "start_time": "2022-10-31T05:56:35.583Z"
   },
   {
    "duration": 4,
    "start_time": "2022-10-31T05:56:35.788Z"
   },
   {
    "duration": 19,
    "start_time": "2022-10-31T05:56:35.793Z"
   },
   {
    "duration": 8,
    "start_time": "2022-10-31T05:56:35.813Z"
   },
   {
    "duration": 13,
    "start_time": "2022-10-31T05:56:35.823Z"
   },
   {
    "duration": 11,
    "start_time": "2022-10-31T05:56:35.838Z"
   },
   {
    "duration": 23,
    "start_time": "2022-10-31T05:56:35.852Z"
   },
   {
    "duration": 1677,
    "start_time": "2022-11-13T17:02:03.877Z"
   },
   {
    "duration": 256,
    "start_time": "2022-11-13T17:02:05.556Z"
   },
   {
    "duration": 21,
    "start_time": "2022-11-13T17:02:05.813Z"
   },
   {
    "duration": 14,
    "start_time": "2022-11-13T17:02:05.836Z"
   },
   {
    "duration": 22,
    "start_time": "2022-11-13T17:02:05.851Z"
   },
   {
    "duration": 12,
    "start_time": "2022-11-13T17:02:05.874Z"
   },
   {
    "duration": 12,
    "start_time": "2022-11-13T17:02:05.888Z"
   },
   {
    "duration": 11,
    "start_time": "2022-11-13T17:02:05.901Z"
   },
   {
    "duration": 18,
    "start_time": "2022-11-13T17:02:05.914Z"
   },
   {
    "duration": 4,
    "start_time": "2022-11-13T17:02:05.935Z"
   },
   {
    "duration": 14,
    "start_time": "2022-11-13T17:02:05.941Z"
   },
   {
    "duration": 4,
    "start_time": "2022-11-13T17:02:05.979Z"
   },
   {
    "duration": 124,
    "start_time": "2022-11-13T17:02:05.985Z"
   },
   {
    "duration": 11,
    "start_time": "2022-11-13T17:02:06.110Z"
   },
   {
    "duration": 24,
    "start_time": "2022-11-13T17:02:06.123Z"
   },
   {
    "duration": 142,
    "start_time": "2022-11-13T17:02:06.149Z"
   },
   {
    "duration": 12,
    "start_time": "2022-11-13T17:02:06.293Z"
   },
   {
    "duration": 37,
    "start_time": "2022-11-13T17:02:06.306Z"
   },
   {
    "duration": 12,
    "start_time": "2022-11-13T17:02:06.345Z"
   },
   {
    "duration": 193,
    "start_time": "2022-11-13T17:02:06.359Z"
   },
   {
    "duration": 26,
    "start_time": "2022-11-13T17:02:06.553Z"
   },
   {
    "duration": 4,
    "start_time": "2022-11-13T17:02:06.581Z"
   },
   {
    "duration": 137,
    "start_time": "2022-11-13T17:02:06.589Z"
   },
   {
    "duration": 187,
    "start_time": "2022-11-13T17:02:06.728Z"
   },
   {
    "duration": 5,
    "start_time": "2022-11-13T17:02:06.918Z"
   },
   {
    "duration": 134,
    "start_time": "2022-11-13T17:02:06.924Z"
   },
   {
    "duration": 9,
    "start_time": "2022-11-13T17:02:07.059Z"
   },
   {
    "duration": 3,
    "start_time": "2022-11-13T17:02:07.079Z"
   },
   {
    "duration": 66,
    "start_time": "2022-11-13T17:02:07.084Z"
   },
   {
    "duration": 8,
    "start_time": "2022-11-13T17:02:07.152Z"
   },
   {
    "duration": 29,
    "start_time": "2022-11-13T17:02:07.162Z"
   },
   {
    "duration": 29,
    "start_time": "2022-11-13T17:02:07.192Z"
   },
   {
    "duration": 170,
    "start_time": "2022-11-13T17:02:07.223Z"
   },
   {
    "duration": 180,
    "start_time": "2022-11-13T17:02:07.395Z"
   },
   {
    "duration": 373,
    "start_time": "2022-11-13T17:02:07.579Z"
   },
   {
    "duration": 0,
    "start_time": "2022-11-13T17:02:07.954Z"
   },
   {
    "duration": 0,
    "start_time": "2022-11-13T17:02:07.956Z"
   },
   {
    "duration": 0,
    "start_time": "2022-11-13T17:02:07.957Z"
   },
   {
    "duration": 0,
    "start_time": "2022-11-13T17:02:07.959Z"
   },
   {
    "duration": 0,
    "start_time": "2022-11-13T17:02:07.960Z"
   },
   {
    "duration": 0,
    "start_time": "2022-11-13T17:02:07.980Z"
   },
   {
    "duration": 0,
    "start_time": "2022-11-13T17:02:07.981Z"
   },
   {
    "duration": 0,
    "start_time": "2022-11-13T17:02:07.983Z"
   },
   {
    "duration": 0,
    "start_time": "2022-11-13T17:02:07.984Z"
   },
   {
    "duration": 0,
    "start_time": "2022-11-13T17:02:07.986Z"
   },
   {
    "duration": 0,
    "start_time": "2022-11-13T17:02:07.987Z"
   },
   {
    "duration": 0,
    "start_time": "2022-11-13T17:02:07.989Z"
   },
   {
    "duration": 0,
    "start_time": "2022-11-13T17:02:07.990Z"
   },
   {
    "duration": 0,
    "start_time": "2022-11-13T17:02:07.992Z"
   },
   {
    "duration": 0,
    "start_time": "2022-11-13T17:02:07.993Z"
   },
   {
    "duration": 0,
    "start_time": "2022-11-13T17:02:07.994Z"
   },
   {
    "duration": 0,
    "start_time": "2022-11-13T17:02:07.995Z"
   },
   {
    "duration": 0,
    "start_time": "2022-11-13T17:02:07.997Z"
   },
   {
    "duration": 0,
    "start_time": "2022-11-13T17:02:07.998Z"
   },
   {
    "duration": 0,
    "start_time": "2022-11-13T17:02:08.000Z"
   },
   {
    "duration": 0,
    "start_time": "2022-11-13T17:02:08.001Z"
   },
   {
    "duration": 0,
    "start_time": "2022-11-13T17:02:08.003Z"
   },
   {
    "duration": 0,
    "start_time": "2022-11-13T17:02:08.004Z"
   },
   {
    "duration": 0,
    "start_time": "2022-11-13T17:02:08.005Z"
   },
   {
    "duration": 0,
    "start_time": "2022-11-13T17:02:08.007Z"
   },
   {
    "duration": 0,
    "start_time": "2022-11-13T17:02:08.008Z"
   },
   {
    "duration": 0,
    "start_time": "2022-11-13T17:02:08.009Z"
   },
   {
    "duration": 0,
    "start_time": "2022-11-13T17:02:08.011Z"
   },
   {
    "duration": 0,
    "start_time": "2022-11-13T17:02:08.012Z"
   },
   {
    "duration": 0,
    "start_time": "2022-11-13T17:02:08.013Z"
   },
   {
    "duration": 0,
    "start_time": "2022-11-13T17:02:08.014Z"
   },
   {
    "duration": 0,
    "start_time": "2022-11-13T17:02:08.016Z"
   },
   {
    "duration": 0,
    "start_time": "2022-11-13T17:02:08.080Z"
   },
   {
    "duration": 0,
    "start_time": "2022-11-13T17:02:08.081Z"
   },
   {
    "duration": 0,
    "start_time": "2022-11-13T17:02:08.083Z"
   },
   {
    "duration": 0,
    "start_time": "2022-11-13T17:02:08.084Z"
   },
   {
    "duration": 0,
    "start_time": "2022-11-13T17:02:08.085Z"
   },
   {
    "duration": 0,
    "start_time": "2022-11-13T17:02:08.086Z"
   },
   {
    "duration": 0,
    "start_time": "2022-11-13T17:02:08.087Z"
   },
   {
    "duration": 0,
    "start_time": "2022-11-13T17:02:08.089Z"
   },
   {
    "duration": 0,
    "start_time": "2022-11-13T17:02:08.090Z"
   },
   {
    "duration": 0,
    "start_time": "2022-11-13T17:02:08.091Z"
   },
   {
    "duration": 0,
    "start_time": "2022-11-13T17:02:08.092Z"
   },
   {
    "duration": 1722,
    "start_time": "2022-11-14T06:27:33.145Z"
   },
   {
    "duration": 275,
    "start_time": "2022-11-14T06:27:34.870Z"
   },
   {
    "duration": 22,
    "start_time": "2022-11-14T06:27:35.146Z"
   },
   {
    "duration": 19,
    "start_time": "2022-11-14T06:27:35.170Z"
   },
   {
    "duration": 17,
    "start_time": "2022-11-14T06:27:35.191Z"
   },
   {
    "duration": 12,
    "start_time": "2022-11-14T06:27:35.210Z"
   },
   {
    "duration": 44,
    "start_time": "2022-11-14T06:27:35.223Z"
   },
   {
    "duration": 9,
    "start_time": "2022-11-14T06:27:35.269Z"
   },
   {
    "duration": 34,
    "start_time": "2022-11-14T06:27:35.280Z"
   },
   {
    "duration": 6,
    "start_time": "2022-11-14T06:27:35.316Z"
   },
   {
    "duration": 28,
    "start_time": "2022-11-14T06:27:35.324Z"
   },
   {
    "duration": 25,
    "start_time": "2022-11-14T06:27:35.353Z"
   },
   {
    "duration": 120,
    "start_time": "2022-11-14T06:27:35.380Z"
   },
   {
    "duration": 12,
    "start_time": "2022-11-14T06:27:35.503Z"
   },
   {
    "duration": 4,
    "start_time": "2022-11-14T06:27:35.517Z"
   },
   {
    "duration": 138,
    "start_time": "2022-11-14T06:27:35.523Z"
   },
   {
    "duration": 9,
    "start_time": "2022-11-14T06:27:35.664Z"
   },
   {
    "duration": 14,
    "start_time": "2022-11-14T06:27:35.675Z"
   },
   {
    "duration": 3,
    "start_time": "2022-11-14T06:27:35.691Z"
   },
   {
    "duration": 227,
    "start_time": "2022-11-14T06:27:35.696Z"
   },
   {
    "duration": 21,
    "start_time": "2022-11-14T06:27:35.925Z"
   },
   {
    "duration": 4,
    "start_time": "2022-11-14T06:27:35.947Z"
   },
   {
    "duration": 122,
    "start_time": "2022-11-14T06:27:35.952Z"
   },
   {
    "duration": 303,
    "start_time": "2022-11-14T06:27:36.076Z"
   },
   {
    "duration": 5,
    "start_time": "2022-11-14T06:27:36.381Z"
   },
   {
    "duration": 139,
    "start_time": "2022-11-14T06:27:36.388Z"
   },
   {
    "duration": 18,
    "start_time": "2022-11-14T06:27:36.529Z"
   },
   {
    "duration": 4,
    "start_time": "2022-11-14T06:27:36.548Z"
   },
   {
    "duration": 68,
    "start_time": "2022-11-14T06:27:36.554Z"
   },
   {
    "duration": 26,
    "start_time": "2022-11-14T06:27:36.625Z"
   },
   {
    "duration": 22,
    "start_time": "2022-11-14T06:27:36.653Z"
   },
   {
    "duration": 15,
    "start_time": "2022-11-14T06:27:49.348Z"
   },
   {
    "duration": 3,
    "start_time": "2022-11-14T06:28:13.345Z"
   },
   {
    "duration": 153,
    "start_time": "2022-11-14T06:28:17.057Z"
   },
   {
    "duration": 185,
    "start_time": "2022-11-14T06:31:01.571Z"
   },
   {
    "duration": 399,
    "start_time": "2022-11-14T06:31:02.564Z"
   },
   {
    "duration": 13,
    "start_time": "2022-11-14T06:31:39.859Z"
   },
   {
    "duration": 2070,
    "start_time": "2022-11-14T06:31:40.955Z"
   },
   {
    "duration": 281,
    "start_time": "2022-11-14T06:31:43.028Z"
   },
   {
    "duration": 13,
    "start_time": "2022-11-14T06:33:11.997Z"
   },
   {
    "duration": 13,
    "start_time": "2022-11-14T06:33:13.172Z"
   },
   {
    "duration": 13,
    "start_time": "2022-11-14T06:33:13.724Z"
   },
   {
    "duration": 175,
    "start_time": "2022-11-14T06:33:14.244Z"
   },
   {
    "duration": 260,
    "start_time": "2022-11-14T06:33:42.318Z"
   },
   {
    "duration": 14,
    "start_time": "2022-11-14T06:33:54.931Z"
   },
   {
    "duration": 11,
    "start_time": "2022-11-14T06:33:56.021Z"
   },
   {
    "duration": 342,
    "start_time": "2022-11-14T06:33:56.429Z"
   },
   {
    "duration": 409,
    "start_time": "2022-11-14T06:34:04.477Z"
   },
   {
    "duration": 282,
    "start_time": "2022-11-14T06:34:07.309Z"
   },
   {
    "duration": 163,
    "start_time": "2022-11-14T06:34:08.101Z"
   },
   {
    "duration": 150,
    "start_time": "2022-11-14T06:34:09.822Z"
   },
   {
    "duration": 140,
    "start_time": "2022-11-14T06:34:11.822Z"
   },
   {
    "duration": 8,
    "start_time": "2022-11-14T06:34:12.038Z"
   },
   {
    "duration": 9,
    "start_time": "2022-11-14T06:34:12.221Z"
   },
   {
    "duration": 10216,
    "start_time": "2022-11-14T06:34:12.449Z"
   },
   {
    "duration": 8,
    "start_time": "2022-11-14T06:34:22.668Z"
   },
   {
    "duration": 13,
    "start_time": "2022-11-14T06:34:22.679Z"
   },
   {
    "duration": 168,
    "start_time": "2022-11-14T06:34:22.694Z"
   },
   {
    "duration": 16,
    "start_time": "2022-11-14T06:34:22.864Z"
   },
   {
    "duration": 6,
    "start_time": "2022-11-14T06:34:22.881Z"
   },
   {
    "duration": 5,
    "start_time": "2022-11-14T06:34:22.946Z"
   },
   {
    "duration": 335,
    "start_time": "2022-11-14T06:34:22.952Z"
   },
   {
    "duration": 680,
    "start_time": "2022-11-14T06:34:23.289Z"
   },
   {
    "duration": 7,
    "start_time": "2022-11-14T06:34:23.971Z"
   },
   {
    "duration": 140,
    "start_time": "2022-11-14T06:34:24.038Z"
   },
   {
    "duration": 9,
    "start_time": "2022-11-14T06:34:24.777Z"
   },
   {
    "duration": 140,
    "start_time": "2022-11-14T06:34:25.062Z"
   },
   {
    "duration": 5,
    "start_time": "2022-11-14T06:34:31.550Z"
   },
   {
    "duration": 4,
    "start_time": "2022-11-14T06:34:31.773Z"
   },
   {
    "duration": 217,
    "start_time": "2022-11-14T06:34:32.014Z"
   },
   {
    "duration": 1870,
    "start_time": "2022-11-14T06:34:32.245Z"
   },
   {
    "duration": 6,
    "start_time": "2022-11-14T06:34:34.118Z"
   },
   {
    "duration": 25,
    "start_time": "2022-11-14T06:34:34.127Z"
   },
   {
    "duration": 7,
    "start_time": "2022-11-14T06:34:34.154Z"
   },
   {
    "duration": 12,
    "start_time": "2022-11-14T06:34:34.163Z"
   },
   {
    "duration": 5,
    "start_time": "2022-11-14T06:34:34.938Z"
   },
   {
    "duration": 141,
    "start_time": "2022-11-14T06:34:35.205Z"
   },
   {
    "duration": 6,
    "start_time": "2022-11-14T06:34:35.885Z"
   },
   {
    "duration": 112,
    "start_time": "2022-11-14T06:34:36.093Z"
   },
   {
    "duration": 1772,
    "start_time": "2022-11-21T05:28:25.983Z"
   },
   {
    "duration": 321,
    "start_time": "2022-11-21T05:28:27.757Z"
   },
   {
    "duration": 20,
    "start_time": "2022-11-21T05:28:28.080Z"
   },
   {
    "duration": 12,
    "start_time": "2022-11-21T05:28:28.101Z"
   },
   {
    "duration": 13,
    "start_time": "2022-11-21T05:28:28.115Z"
   },
   {
    "duration": 8,
    "start_time": "2022-11-21T05:28:28.130Z"
   },
   {
    "duration": 7,
    "start_time": "2022-11-21T05:28:28.139Z"
   },
   {
    "duration": 9,
    "start_time": "2022-11-21T05:28:28.148Z"
   },
   {
    "duration": 7,
    "start_time": "2022-11-21T05:28:28.159Z"
   },
   {
    "duration": 6,
    "start_time": "2022-11-21T05:28:28.168Z"
   },
   {
    "duration": 11,
    "start_time": "2022-11-21T05:28:28.175Z"
   },
   {
    "duration": 4,
    "start_time": "2022-11-21T05:28:28.188Z"
   },
   {
    "duration": 14,
    "start_time": "2022-11-21T05:28:28.193Z"
   },
   {
    "duration": 4,
    "start_time": "2022-11-21T05:28:28.221Z"
   },
   {
    "duration": 117,
    "start_time": "2022-11-21T05:28:28.227Z"
   },
   {
    "duration": 10,
    "start_time": "2022-11-21T05:28:28.345Z"
   },
   {
    "duration": 3,
    "start_time": "2022-11-21T05:28:28.356Z"
   },
   {
    "duration": 130,
    "start_time": "2022-11-21T05:28:28.361Z"
   },
   {
    "duration": 7,
    "start_time": "2022-11-21T05:28:28.493Z"
   },
   {
    "duration": 11,
    "start_time": "2022-11-21T05:28:28.523Z"
   },
   {
    "duration": 3,
    "start_time": "2022-11-21T05:28:28.536Z"
   },
   {
    "duration": 174,
    "start_time": "2022-11-21T05:28:28.541Z"
   },
   {
    "duration": 18,
    "start_time": "2022-11-21T05:28:28.716Z"
   },
   {
    "duration": 5,
    "start_time": "2022-11-21T05:28:28.736Z"
   },
   {
    "duration": 120,
    "start_time": "2022-11-21T05:28:28.742Z"
   },
   {
    "duration": 163,
    "start_time": "2022-11-21T05:28:28.864Z"
   },
   {
    "duration": 4,
    "start_time": "2022-11-21T05:28:29.028Z"
   },
   {
    "duration": 118,
    "start_time": "2022-11-21T05:28:29.033Z"
   },
   {
    "duration": 8,
    "start_time": "2022-11-21T05:28:29.153Z"
   },
   {
    "duration": 241,
    "start_time": "2022-11-21T05:28:29.162Z"
   },
   {
    "duration": 8,
    "start_time": "2022-11-21T05:28:29.405Z"
   },
   {
    "duration": 60,
    "start_time": "2022-11-21T05:28:29.414Z"
   },
   {
    "duration": 8,
    "start_time": "2022-11-21T05:28:29.475Z"
   },
   {
    "duration": 21,
    "start_time": "2022-11-21T05:28:29.484Z"
   },
   {
    "duration": 738,
    "start_time": "2022-11-21T05:28:29.506Z"
   },
   {
    "duration": 18,
    "start_time": "2022-11-21T05:28:30.246Z"
   },
   {
    "duration": 63,
    "start_time": "2022-11-21T05:28:30.266Z"
   },
   {
    "duration": 205,
    "start_time": "2022-11-21T05:28:30.331Z"
   },
   {
    "duration": 21,
    "start_time": "2022-11-21T05:28:30.538Z"
   },
   {
    "duration": 62,
    "start_time": "2022-11-21T05:28:30.560Z"
   },
   {
    "duration": 112,
    "start_time": "2022-11-21T05:28:30.755Z"
   },
   {
    "duration": 8,
    "start_time": "2022-11-21T05:28:30.869Z"
   },
   {
    "duration": 127,
    "start_time": "2022-11-21T05:28:30.879Z"
   },
   {
    "duration": 14,
    "start_time": "2022-11-21T05:28:31.008Z"
   },
   {
    "duration": 92,
    "start_time": "2022-11-21T05:28:31.024Z"
   },
   {
    "duration": 41,
    "start_time": "2022-11-21T05:28:31.121Z"
   },
   {
    "duration": 11,
    "start_time": "2022-11-21T05:28:31.164Z"
   },
   {
    "duration": 13,
    "start_time": "2022-11-21T05:28:31.176Z"
   },
   {
    "duration": 241,
    "start_time": "2022-11-21T05:28:31.191Z"
   },
   {
    "duration": 0,
    "start_time": "2022-11-21T05:28:31.433Z"
   },
   {
    "duration": 0,
    "start_time": "2022-11-21T05:28:31.434Z"
   },
   {
    "duration": 0,
    "start_time": "2022-11-21T05:28:31.436Z"
   },
   {
    "duration": 0,
    "start_time": "2022-11-21T05:28:31.437Z"
   },
   {
    "duration": 0,
    "start_time": "2022-11-21T05:28:31.438Z"
   },
   {
    "duration": 0,
    "start_time": "2022-11-21T05:28:31.439Z"
   },
   {
    "duration": 0,
    "start_time": "2022-11-21T05:28:31.440Z"
   },
   {
    "duration": 0,
    "start_time": "2022-11-21T05:28:31.441Z"
   },
   {
    "duration": 0,
    "start_time": "2022-11-21T05:28:31.442Z"
   },
   {
    "duration": 0,
    "start_time": "2022-11-21T05:28:31.443Z"
   },
   {
    "duration": 0,
    "start_time": "2022-11-21T05:28:31.444Z"
   },
   {
    "duration": 0,
    "start_time": "2022-11-21T05:28:31.446Z"
   },
   {
    "duration": 0,
    "start_time": "2022-11-21T05:28:31.447Z"
   },
   {
    "duration": 0,
    "start_time": "2022-11-21T05:28:31.448Z"
   },
   {
    "duration": 0,
    "start_time": "2022-11-21T05:28:31.449Z"
   },
   {
    "duration": 0,
    "start_time": "2022-11-21T05:28:31.450Z"
   },
   {
    "duration": 0,
    "start_time": "2022-11-21T05:28:31.452Z"
   },
   {
    "duration": 0,
    "start_time": "2022-11-21T05:28:31.453Z"
   },
   {
    "duration": 0,
    "start_time": "2022-11-21T05:28:31.454Z"
   },
   {
    "duration": 0,
    "start_time": "2022-11-21T05:28:31.455Z"
   },
   {
    "duration": 0,
    "start_time": "2022-11-21T05:28:31.456Z"
   },
   {
    "duration": 0,
    "start_time": "2022-11-21T05:28:31.457Z"
   },
   {
    "duration": 0,
    "start_time": "2022-11-21T05:28:31.458Z"
   },
   {
    "duration": 0,
    "start_time": "2022-11-21T05:28:31.459Z"
   },
   {
    "duration": 0,
    "start_time": "2022-11-21T05:28:31.460Z"
   },
   {
    "duration": 1,
    "start_time": "2022-11-21T05:28:31.461Z"
   },
   {
    "duration": 0,
    "start_time": "2022-11-21T05:28:31.463Z"
   },
   {
    "duration": 0,
    "start_time": "2022-11-21T05:28:31.465Z"
   },
   {
    "duration": 0,
    "start_time": "2022-11-21T05:28:31.466Z"
   },
   {
    "duration": 0,
    "start_time": "2022-11-21T05:28:31.467Z"
   },
   {
    "duration": 0,
    "start_time": "2022-11-21T05:28:31.468Z"
   },
   {
    "duration": 0,
    "start_time": "2022-11-21T05:28:31.469Z"
   },
   {
    "duration": 0,
    "start_time": "2022-11-21T05:28:31.470Z"
   },
   {
    "duration": 0,
    "start_time": "2022-11-21T05:28:31.471Z"
   },
   {
    "duration": 0,
    "start_time": "2022-11-21T05:28:31.472Z"
   },
   {
    "duration": 0,
    "start_time": "2022-11-21T05:28:31.473Z"
   },
   {
    "duration": 0,
    "start_time": "2022-11-21T05:28:31.474Z"
   },
   {
    "duration": 0,
    "start_time": "2022-11-21T05:28:31.475Z"
   },
   {
    "duration": 0,
    "start_time": "2022-11-21T05:28:31.476Z"
   },
   {
    "duration": 0,
    "start_time": "2022-11-21T05:28:31.478Z"
   },
   {
    "duration": 0,
    "start_time": "2022-11-21T05:28:31.479Z"
   },
   {
    "duration": 0,
    "start_time": "2022-11-21T05:28:31.480Z"
   },
   {
    "duration": 0,
    "start_time": "2022-11-21T05:28:31.481Z"
   },
   {
    "duration": 0,
    "start_time": "2022-11-21T05:28:31.482Z"
   },
   {
    "duration": 0,
    "start_time": "2022-11-21T05:28:31.483Z"
   },
   {
    "duration": 0,
    "start_time": "2022-11-21T05:28:31.484Z"
   },
   {
    "duration": 0,
    "start_time": "2022-11-21T05:28:31.485Z"
   },
   {
    "duration": 0,
    "start_time": "2022-11-21T05:28:31.487Z"
   },
   {
    "duration": 0,
    "start_time": "2022-11-21T05:28:31.488Z"
   },
   {
    "duration": 0,
    "start_time": "2022-11-21T05:28:31.489Z"
   },
   {
    "duration": 10,
    "start_time": "2022-11-21T05:29:27.284Z"
   },
   {
    "duration": 117,
    "start_time": "2022-11-21T05:29:53.405Z"
   },
   {
    "duration": 112,
    "start_time": "2022-11-21T05:30:28.116Z"
   },
   {
    "duration": 7,
    "start_time": "2022-11-21T05:30:31.815Z"
   },
   {
    "duration": 114,
    "start_time": "2022-11-21T05:30:32.293Z"
   },
   {
    "duration": 6,
    "start_time": "2022-11-21T05:45:22.396Z"
   },
   {
    "duration": 118,
    "start_time": "2022-11-21T05:45:23.421Z"
   },
   {
    "duration": 94,
    "start_time": "2022-11-21T05:45:56.140Z"
   },
   {
    "duration": 171,
    "start_time": "2022-11-21T05:45:56.805Z"
   },
   {
    "duration": 12,
    "start_time": "2022-11-21T05:46:05.589Z"
   },
   {
    "duration": 4263,
    "start_time": "2022-11-21T05:46:06.853Z"
   },
   {
    "duration": 185,
    "start_time": "2022-11-21T05:46:19.181Z"
   },
   {
    "duration": 12,
    "start_time": "2022-11-21T05:46:21.724Z"
   },
   {
    "duration": 104,
    "start_time": "2022-11-21T05:46:22.580Z"
   },
   {
    "duration": 13,
    "start_time": "2022-11-21T05:46:22.852Z"
   },
   {
    "duration": 121,
    "start_time": "2022-11-21T05:46:23.156Z"
   },
   {
    "duration": 13,
    "start_time": "2022-11-21T05:46:33.469Z"
   },
   {
    "duration": 236,
    "start_time": "2022-11-21T05:46:35.071Z"
   },
   {
    "duration": 13,
    "start_time": "2022-11-21T05:46:37.661Z"
   },
   {
    "duration": 13,
    "start_time": "2022-11-21T05:46:38.676Z"
   },
   {
    "duration": 229,
    "start_time": "2022-11-21T05:46:38.965Z"
   },
   {
    "duration": 164,
    "start_time": "2022-11-21T05:46:40.780Z"
   },
   {
    "duration": 174,
    "start_time": "2022-11-21T05:46:41.725Z"
   },
   {
    "duration": 159,
    "start_time": "2022-11-21T05:46:52.435Z"
   },
   {
    "duration": 6,
    "start_time": "2022-11-21T05:46:53.029Z"
   },
   {
    "duration": 72,
    "start_time": "2022-11-21T05:46:54.828Z"
   },
   {
    "duration": 166,
    "start_time": "2022-11-21T05:46:55.413Z"
   },
   {
    "duration": 165,
    "start_time": "2022-11-21T05:46:57.941Z"
   },
   {
    "duration": 8,
    "start_time": "2022-11-21T05:46:58.845Z"
   },
   {
    "duration": 11,
    "start_time": "2022-11-21T05:46:59.317Z"
   },
   {
    "duration": 9532,
    "start_time": "2022-11-21T05:46:59.661Z"
   },
   {
    "duration": 8,
    "start_time": "2022-11-21T05:47:09.196Z"
   },
   {
    "duration": 13,
    "start_time": "2022-11-21T05:47:09.222Z"
   },
   {
    "duration": 133,
    "start_time": "2022-11-21T05:47:09.237Z"
   },
   {
    "duration": 15,
    "start_time": "2022-11-21T05:47:27.741Z"
   },
   {
    "duration": 7,
    "start_time": "2022-11-21T05:47:28.311Z"
   },
   {
    "duration": 5,
    "start_time": "2022-11-21T05:47:28.517Z"
   },
   {
    "duration": 183,
    "start_time": "2022-11-21T05:47:28.702Z"
   },
   {
    "duration": 575,
    "start_time": "2022-11-21T05:47:28.937Z"
   },
   {
    "duration": 7,
    "start_time": "2022-11-21T05:47:31.406Z"
   },
   {
    "duration": 140,
    "start_time": "2022-11-21T05:47:31.685Z"
   },
   {
    "duration": 8,
    "start_time": "2022-11-21T05:47:32.741Z"
   },
   {
    "duration": 126,
    "start_time": "2022-11-21T05:47:33.310Z"
   },
   {
    "duration": 5,
    "start_time": "2022-11-21T05:47:35.757Z"
   },
   {
    "duration": 4,
    "start_time": "2022-11-21T05:47:35.957Z"
   },
   {
    "duration": 160,
    "start_time": "2022-11-21T05:47:36.389Z"
   },
   {
    "duration": 1520,
    "start_time": "2022-11-21T05:47:36.823Z"
   },
   {
    "duration": 4,
    "start_time": "2022-11-21T05:47:38.346Z"
   },
   {
    "duration": 9,
    "start_time": "2022-11-21T05:47:38.352Z"
   },
   {
    "duration": 6,
    "start_time": "2022-11-21T05:47:38.363Z"
   },
   {
    "duration": 14,
    "start_time": "2022-11-21T05:47:39.550Z"
   },
   {
    "duration": 4,
    "start_time": "2022-11-21T05:47:40.437Z"
   },
   {
    "duration": 128,
    "start_time": "2022-11-21T05:47:40.613Z"
   },
   {
    "duration": 6,
    "start_time": "2022-11-21T05:47:41.733Z"
   },
   {
    "duration": 133,
    "start_time": "2022-11-21T05:47:41.925Z"
   },
   {
    "duration": 105,
    "start_time": "2022-11-21T05:47:42.112Z"
   },
   {
    "duration": 135,
    "start_time": "2022-11-21T05:47:42.302Z"
   }
  ],
  "colab": {
   "provenance": []
  },
  "kernelspec": {
   "display_name": "Python 3 (ipykernel)",
   "language": "python",
   "name": "python3"
  },
  "language_info": {
   "codemirror_mode": {
    "name": "ipython",
    "version": 3
   },
   "file_extension": ".py",
   "mimetype": "text/x-python",
   "name": "python",
   "nbconvert_exporter": "python",
   "pygments_lexer": "ipython3",
   "version": "3.9.7"
  },
  "toc": {
   "base_numbering": "1",
   "nav_menu": {},
   "number_sections": true,
   "sideBar": true,
   "skip_h1_title": false,
   "title_cell": "Table of Contents",
   "title_sidebar": "Contents",
   "toc_cell": false,
   "toc_position": {
    "height": "calc(100% - 180px)",
    "left": "10px",
    "top": "150px",
    "width": "224px"
   },
   "toc_section_display": true,
   "toc_window_display": true
  }
 },
 "nbformat": 4,
 "nbformat_minor": 1
}
